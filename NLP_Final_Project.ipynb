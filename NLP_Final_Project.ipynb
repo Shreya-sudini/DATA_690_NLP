{
  "nbformat": 4,
  "nbformat_minor": 0,
  "metadata": {
    "colab": {
      "provenance": [],
      "gpuType": "T4"
    },
    "kernelspec": {
      "name": "python3",
      "display_name": "Python 3"
    },
    "language_info": {
      "name": "python"
    },
    "accelerator": "GPU",
    "widgets": {
      "application/vnd.jupyter.widget-state+json": {
        "ec9f3e4db7e44ea48b2bdb7dc1661021": {
          "model_module": "@jupyter-widgets/controls",
          "model_name": "HBoxModel",
          "model_module_version": "1.5.0",
          "state": {
            "_dom_classes": [],
            "_model_module": "@jupyter-widgets/controls",
            "_model_module_version": "1.5.0",
            "_model_name": "HBoxModel",
            "_view_count": null,
            "_view_module": "@jupyter-widgets/controls",
            "_view_module_version": "1.5.0",
            "_view_name": "HBoxView",
            "box_style": "",
            "children": [
              "IPY_MODEL_d75afc6a6cdb4bb1b329f5f2c93abd72",
              "IPY_MODEL_8fec372125484e69a6e162cf2ba863fe",
              "IPY_MODEL_8af0cfa4cde04a2e82728ad5d364e28b"
            ],
            "layout": "IPY_MODEL_92e5c1bfb262414f97ec021a1bfda282"
          }
        },
        "d75afc6a6cdb4bb1b329f5f2c93abd72": {
          "model_module": "@jupyter-widgets/controls",
          "model_name": "HTMLModel",
          "model_module_version": "1.5.0",
          "state": {
            "_dom_classes": [],
            "_model_module": "@jupyter-widgets/controls",
            "_model_module_version": "1.5.0",
            "_model_name": "HTMLModel",
            "_view_count": null,
            "_view_module": "@jupyter-widgets/controls",
            "_view_module_version": "1.5.0",
            "_view_name": "HTMLView",
            "description": "",
            "description_tooltip": null,
            "layout": "IPY_MODEL_fa0b132be8ca4729ae34982725584abd",
            "placeholder": "​",
            "style": "IPY_MODEL_316a2911fcd94dc7a25fc46f67792d05",
            "value": "tokenizer_config.json: 100%"
          }
        },
        "8fec372125484e69a6e162cf2ba863fe": {
          "model_module": "@jupyter-widgets/controls",
          "model_name": "FloatProgressModel",
          "model_module_version": "1.5.0",
          "state": {
            "_dom_classes": [],
            "_model_module": "@jupyter-widgets/controls",
            "_model_module_version": "1.5.0",
            "_model_name": "FloatProgressModel",
            "_view_count": null,
            "_view_module": "@jupyter-widgets/controls",
            "_view_module_version": "1.5.0",
            "_view_name": "ProgressView",
            "bar_style": "success",
            "description": "",
            "description_tooltip": null,
            "layout": "IPY_MODEL_f91aa354932e4dc6bc8d43758ca39752",
            "max": 48,
            "min": 0,
            "orientation": "horizontal",
            "style": "IPY_MODEL_be23edbaf48d4ccf91776bbbc47d6164",
            "value": 48
          }
        },
        "8af0cfa4cde04a2e82728ad5d364e28b": {
          "model_module": "@jupyter-widgets/controls",
          "model_name": "HTMLModel",
          "model_module_version": "1.5.0",
          "state": {
            "_dom_classes": [],
            "_model_module": "@jupyter-widgets/controls",
            "_model_module_version": "1.5.0",
            "_model_name": "HTMLModel",
            "_view_count": null,
            "_view_module": "@jupyter-widgets/controls",
            "_view_module_version": "1.5.0",
            "_view_name": "HTMLView",
            "description": "",
            "description_tooltip": null,
            "layout": "IPY_MODEL_7a609f06aec543749eb81c8d0f3b32a5",
            "placeholder": "​",
            "style": "IPY_MODEL_99b97bb2750642d4820d7347157fefa9",
            "value": " 48.0/48.0 [00:00&lt;00:00, 1.09kB/s]"
          }
        },
        "92e5c1bfb262414f97ec021a1bfda282": {
          "model_module": "@jupyter-widgets/base",
          "model_name": "LayoutModel",
          "model_module_version": "1.2.0",
          "state": {
            "_model_module": "@jupyter-widgets/base",
            "_model_module_version": "1.2.0",
            "_model_name": "LayoutModel",
            "_view_count": null,
            "_view_module": "@jupyter-widgets/base",
            "_view_module_version": "1.2.0",
            "_view_name": "LayoutView",
            "align_content": null,
            "align_items": null,
            "align_self": null,
            "border": null,
            "bottom": null,
            "display": null,
            "flex": null,
            "flex_flow": null,
            "grid_area": null,
            "grid_auto_columns": null,
            "grid_auto_flow": null,
            "grid_auto_rows": null,
            "grid_column": null,
            "grid_gap": null,
            "grid_row": null,
            "grid_template_areas": null,
            "grid_template_columns": null,
            "grid_template_rows": null,
            "height": null,
            "justify_content": null,
            "justify_items": null,
            "left": null,
            "margin": null,
            "max_height": null,
            "max_width": null,
            "min_height": null,
            "min_width": null,
            "object_fit": null,
            "object_position": null,
            "order": null,
            "overflow": null,
            "overflow_x": null,
            "overflow_y": null,
            "padding": null,
            "right": null,
            "top": null,
            "visibility": null,
            "width": null
          }
        },
        "fa0b132be8ca4729ae34982725584abd": {
          "model_module": "@jupyter-widgets/base",
          "model_name": "LayoutModel",
          "model_module_version": "1.2.0",
          "state": {
            "_model_module": "@jupyter-widgets/base",
            "_model_module_version": "1.2.0",
            "_model_name": "LayoutModel",
            "_view_count": null,
            "_view_module": "@jupyter-widgets/base",
            "_view_module_version": "1.2.0",
            "_view_name": "LayoutView",
            "align_content": null,
            "align_items": null,
            "align_self": null,
            "border": null,
            "bottom": null,
            "display": null,
            "flex": null,
            "flex_flow": null,
            "grid_area": null,
            "grid_auto_columns": null,
            "grid_auto_flow": null,
            "grid_auto_rows": null,
            "grid_column": null,
            "grid_gap": null,
            "grid_row": null,
            "grid_template_areas": null,
            "grid_template_columns": null,
            "grid_template_rows": null,
            "height": null,
            "justify_content": null,
            "justify_items": null,
            "left": null,
            "margin": null,
            "max_height": null,
            "max_width": null,
            "min_height": null,
            "min_width": null,
            "object_fit": null,
            "object_position": null,
            "order": null,
            "overflow": null,
            "overflow_x": null,
            "overflow_y": null,
            "padding": null,
            "right": null,
            "top": null,
            "visibility": null,
            "width": null
          }
        },
        "316a2911fcd94dc7a25fc46f67792d05": {
          "model_module": "@jupyter-widgets/controls",
          "model_name": "DescriptionStyleModel",
          "model_module_version": "1.5.0",
          "state": {
            "_model_module": "@jupyter-widgets/controls",
            "_model_module_version": "1.5.0",
            "_model_name": "DescriptionStyleModel",
            "_view_count": null,
            "_view_module": "@jupyter-widgets/base",
            "_view_module_version": "1.2.0",
            "_view_name": "StyleView",
            "description_width": ""
          }
        },
        "f91aa354932e4dc6bc8d43758ca39752": {
          "model_module": "@jupyter-widgets/base",
          "model_name": "LayoutModel",
          "model_module_version": "1.2.0",
          "state": {
            "_model_module": "@jupyter-widgets/base",
            "_model_module_version": "1.2.0",
            "_model_name": "LayoutModel",
            "_view_count": null,
            "_view_module": "@jupyter-widgets/base",
            "_view_module_version": "1.2.0",
            "_view_name": "LayoutView",
            "align_content": null,
            "align_items": null,
            "align_self": null,
            "border": null,
            "bottom": null,
            "display": null,
            "flex": null,
            "flex_flow": null,
            "grid_area": null,
            "grid_auto_columns": null,
            "grid_auto_flow": null,
            "grid_auto_rows": null,
            "grid_column": null,
            "grid_gap": null,
            "grid_row": null,
            "grid_template_areas": null,
            "grid_template_columns": null,
            "grid_template_rows": null,
            "height": null,
            "justify_content": null,
            "justify_items": null,
            "left": null,
            "margin": null,
            "max_height": null,
            "max_width": null,
            "min_height": null,
            "min_width": null,
            "object_fit": null,
            "object_position": null,
            "order": null,
            "overflow": null,
            "overflow_x": null,
            "overflow_y": null,
            "padding": null,
            "right": null,
            "top": null,
            "visibility": null,
            "width": null
          }
        },
        "be23edbaf48d4ccf91776bbbc47d6164": {
          "model_module": "@jupyter-widgets/controls",
          "model_name": "ProgressStyleModel",
          "model_module_version": "1.5.0",
          "state": {
            "_model_module": "@jupyter-widgets/controls",
            "_model_module_version": "1.5.0",
            "_model_name": "ProgressStyleModel",
            "_view_count": null,
            "_view_module": "@jupyter-widgets/base",
            "_view_module_version": "1.2.0",
            "_view_name": "StyleView",
            "bar_color": null,
            "description_width": ""
          }
        },
        "7a609f06aec543749eb81c8d0f3b32a5": {
          "model_module": "@jupyter-widgets/base",
          "model_name": "LayoutModel",
          "model_module_version": "1.2.0",
          "state": {
            "_model_module": "@jupyter-widgets/base",
            "_model_module_version": "1.2.0",
            "_model_name": "LayoutModel",
            "_view_count": null,
            "_view_module": "@jupyter-widgets/base",
            "_view_module_version": "1.2.0",
            "_view_name": "LayoutView",
            "align_content": null,
            "align_items": null,
            "align_self": null,
            "border": null,
            "bottom": null,
            "display": null,
            "flex": null,
            "flex_flow": null,
            "grid_area": null,
            "grid_auto_columns": null,
            "grid_auto_flow": null,
            "grid_auto_rows": null,
            "grid_column": null,
            "grid_gap": null,
            "grid_row": null,
            "grid_template_areas": null,
            "grid_template_columns": null,
            "grid_template_rows": null,
            "height": null,
            "justify_content": null,
            "justify_items": null,
            "left": null,
            "margin": null,
            "max_height": null,
            "max_width": null,
            "min_height": null,
            "min_width": null,
            "object_fit": null,
            "object_position": null,
            "order": null,
            "overflow": null,
            "overflow_x": null,
            "overflow_y": null,
            "padding": null,
            "right": null,
            "top": null,
            "visibility": null,
            "width": null
          }
        },
        "99b97bb2750642d4820d7347157fefa9": {
          "model_module": "@jupyter-widgets/controls",
          "model_name": "DescriptionStyleModel",
          "model_module_version": "1.5.0",
          "state": {
            "_model_module": "@jupyter-widgets/controls",
            "_model_module_version": "1.5.0",
            "_model_name": "DescriptionStyleModel",
            "_view_count": null,
            "_view_module": "@jupyter-widgets/base",
            "_view_module_version": "1.2.0",
            "_view_name": "StyleView",
            "description_width": ""
          }
        },
        "d36ea37c15b54094bedbd22ca59b3c41": {
          "model_module": "@jupyter-widgets/controls",
          "model_name": "HBoxModel",
          "model_module_version": "1.5.0",
          "state": {
            "_dom_classes": [],
            "_model_module": "@jupyter-widgets/controls",
            "_model_module_version": "1.5.0",
            "_model_name": "HBoxModel",
            "_view_count": null,
            "_view_module": "@jupyter-widgets/controls",
            "_view_module_version": "1.5.0",
            "_view_name": "HBoxView",
            "box_style": "",
            "children": [
              "IPY_MODEL_1900d887816344f28cf84d4deb3e84ff",
              "IPY_MODEL_6d05f7ea61754ed78e41398217573b3b",
              "IPY_MODEL_ce1a691a78124038974a5d96b565bfa7"
            ],
            "layout": "IPY_MODEL_8341a55c4f004d549609ac908a0d6a2f"
          }
        },
        "1900d887816344f28cf84d4deb3e84ff": {
          "model_module": "@jupyter-widgets/controls",
          "model_name": "HTMLModel",
          "model_module_version": "1.5.0",
          "state": {
            "_dom_classes": [],
            "_model_module": "@jupyter-widgets/controls",
            "_model_module_version": "1.5.0",
            "_model_name": "HTMLModel",
            "_view_count": null,
            "_view_module": "@jupyter-widgets/controls",
            "_view_module_version": "1.5.0",
            "_view_name": "HTMLView",
            "description": "",
            "description_tooltip": null,
            "layout": "IPY_MODEL_49b1f6ea3a6644beb1c3ede781f44392",
            "placeholder": "​",
            "style": "IPY_MODEL_4329541bcebb4b6283881393f0620eeb",
            "value": "config.json: 100%"
          }
        },
        "6d05f7ea61754ed78e41398217573b3b": {
          "model_module": "@jupyter-widgets/controls",
          "model_name": "FloatProgressModel",
          "model_module_version": "1.5.0",
          "state": {
            "_dom_classes": [],
            "_model_module": "@jupyter-widgets/controls",
            "_model_module_version": "1.5.0",
            "_model_name": "FloatProgressModel",
            "_view_count": null,
            "_view_module": "@jupyter-widgets/controls",
            "_view_module_version": "1.5.0",
            "_view_name": "ProgressView",
            "bar_style": "success",
            "description": "",
            "description_tooltip": null,
            "layout": "IPY_MODEL_0ccb1c77e5964c55bcf77866ff38a5df",
            "max": 483,
            "min": 0,
            "orientation": "horizontal",
            "style": "IPY_MODEL_1e1f554d44cf4043b68a70900a56dd7e",
            "value": 483
          }
        },
        "ce1a691a78124038974a5d96b565bfa7": {
          "model_module": "@jupyter-widgets/controls",
          "model_name": "HTMLModel",
          "model_module_version": "1.5.0",
          "state": {
            "_dom_classes": [],
            "_model_module": "@jupyter-widgets/controls",
            "_model_module_version": "1.5.0",
            "_model_name": "HTMLModel",
            "_view_count": null,
            "_view_module": "@jupyter-widgets/controls",
            "_view_module_version": "1.5.0",
            "_view_name": "HTMLView",
            "description": "",
            "description_tooltip": null,
            "layout": "IPY_MODEL_2ec2e6d5e72f46f38d319df11ba1350c",
            "placeholder": "​",
            "style": "IPY_MODEL_b1be4392954243d6bf7c2bf8ca256f9d",
            "value": " 483/483 [00:00&lt;00:00, 34.3kB/s]"
          }
        },
        "8341a55c4f004d549609ac908a0d6a2f": {
          "model_module": "@jupyter-widgets/base",
          "model_name": "LayoutModel",
          "model_module_version": "1.2.0",
          "state": {
            "_model_module": "@jupyter-widgets/base",
            "_model_module_version": "1.2.0",
            "_model_name": "LayoutModel",
            "_view_count": null,
            "_view_module": "@jupyter-widgets/base",
            "_view_module_version": "1.2.0",
            "_view_name": "LayoutView",
            "align_content": null,
            "align_items": null,
            "align_self": null,
            "border": null,
            "bottom": null,
            "display": null,
            "flex": null,
            "flex_flow": null,
            "grid_area": null,
            "grid_auto_columns": null,
            "grid_auto_flow": null,
            "grid_auto_rows": null,
            "grid_column": null,
            "grid_gap": null,
            "grid_row": null,
            "grid_template_areas": null,
            "grid_template_columns": null,
            "grid_template_rows": null,
            "height": null,
            "justify_content": null,
            "justify_items": null,
            "left": null,
            "margin": null,
            "max_height": null,
            "max_width": null,
            "min_height": null,
            "min_width": null,
            "object_fit": null,
            "object_position": null,
            "order": null,
            "overflow": null,
            "overflow_x": null,
            "overflow_y": null,
            "padding": null,
            "right": null,
            "top": null,
            "visibility": null,
            "width": null
          }
        },
        "49b1f6ea3a6644beb1c3ede781f44392": {
          "model_module": "@jupyter-widgets/base",
          "model_name": "LayoutModel",
          "model_module_version": "1.2.0",
          "state": {
            "_model_module": "@jupyter-widgets/base",
            "_model_module_version": "1.2.0",
            "_model_name": "LayoutModel",
            "_view_count": null,
            "_view_module": "@jupyter-widgets/base",
            "_view_module_version": "1.2.0",
            "_view_name": "LayoutView",
            "align_content": null,
            "align_items": null,
            "align_self": null,
            "border": null,
            "bottom": null,
            "display": null,
            "flex": null,
            "flex_flow": null,
            "grid_area": null,
            "grid_auto_columns": null,
            "grid_auto_flow": null,
            "grid_auto_rows": null,
            "grid_column": null,
            "grid_gap": null,
            "grid_row": null,
            "grid_template_areas": null,
            "grid_template_columns": null,
            "grid_template_rows": null,
            "height": null,
            "justify_content": null,
            "justify_items": null,
            "left": null,
            "margin": null,
            "max_height": null,
            "max_width": null,
            "min_height": null,
            "min_width": null,
            "object_fit": null,
            "object_position": null,
            "order": null,
            "overflow": null,
            "overflow_x": null,
            "overflow_y": null,
            "padding": null,
            "right": null,
            "top": null,
            "visibility": null,
            "width": null
          }
        },
        "4329541bcebb4b6283881393f0620eeb": {
          "model_module": "@jupyter-widgets/controls",
          "model_name": "DescriptionStyleModel",
          "model_module_version": "1.5.0",
          "state": {
            "_model_module": "@jupyter-widgets/controls",
            "_model_module_version": "1.5.0",
            "_model_name": "DescriptionStyleModel",
            "_view_count": null,
            "_view_module": "@jupyter-widgets/base",
            "_view_module_version": "1.2.0",
            "_view_name": "StyleView",
            "description_width": ""
          }
        },
        "0ccb1c77e5964c55bcf77866ff38a5df": {
          "model_module": "@jupyter-widgets/base",
          "model_name": "LayoutModel",
          "model_module_version": "1.2.0",
          "state": {
            "_model_module": "@jupyter-widgets/base",
            "_model_module_version": "1.2.0",
            "_model_name": "LayoutModel",
            "_view_count": null,
            "_view_module": "@jupyter-widgets/base",
            "_view_module_version": "1.2.0",
            "_view_name": "LayoutView",
            "align_content": null,
            "align_items": null,
            "align_self": null,
            "border": null,
            "bottom": null,
            "display": null,
            "flex": null,
            "flex_flow": null,
            "grid_area": null,
            "grid_auto_columns": null,
            "grid_auto_flow": null,
            "grid_auto_rows": null,
            "grid_column": null,
            "grid_gap": null,
            "grid_row": null,
            "grid_template_areas": null,
            "grid_template_columns": null,
            "grid_template_rows": null,
            "height": null,
            "justify_content": null,
            "justify_items": null,
            "left": null,
            "margin": null,
            "max_height": null,
            "max_width": null,
            "min_height": null,
            "min_width": null,
            "object_fit": null,
            "object_position": null,
            "order": null,
            "overflow": null,
            "overflow_x": null,
            "overflow_y": null,
            "padding": null,
            "right": null,
            "top": null,
            "visibility": null,
            "width": null
          }
        },
        "1e1f554d44cf4043b68a70900a56dd7e": {
          "model_module": "@jupyter-widgets/controls",
          "model_name": "ProgressStyleModel",
          "model_module_version": "1.5.0",
          "state": {
            "_model_module": "@jupyter-widgets/controls",
            "_model_module_version": "1.5.0",
            "_model_name": "ProgressStyleModel",
            "_view_count": null,
            "_view_module": "@jupyter-widgets/base",
            "_view_module_version": "1.2.0",
            "_view_name": "StyleView",
            "bar_color": null,
            "description_width": ""
          }
        },
        "2ec2e6d5e72f46f38d319df11ba1350c": {
          "model_module": "@jupyter-widgets/base",
          "model_name": "LayoutModel",
          "model_module_version": "1.2.0",
          "state": {
            "_model_module": "@jupyter-widgets/base",
            "_model_module_version": "1.2.0",
            "_model_name": "LayoutModel",
            "_view_count": null,
            "_view_module": "@jupyter-widgets/base",
            "_view_module_version": "1.2.0",
            "_view_name": "LayoutView",
            "align_content": null,
            "align_items": null,
            "align_self": null,
            "border": null,
            "bottom": null,
            "display": null,
            "flex": null,
            "flex_flow": null,
            "grid_area": null,
            "grid_auto_columns": null,
            "grid_auto_flow": null,
            "grid_auto_rows": null,
            "grid_column": null,
            "grid_gap": null,
            "grid_row": null,
            "grid_template_areas": null,
            "grid_template_columns": null,
            "grid_template_rows": null,
            "height": null,
            "justify_content": null,
            "justify_items": null,
            "left": null,
            "margin": null,
            "max_height": null,
            "max_width": null,
            "min_height": null,
            "min_width": null,
            "object_fit": null,
            "object_position": null,
            "order": null,
            "overflow": null,
            "overflow_x": null,
            "overflow_y": null,
            "padding": null,
            "right": null,
            "top": null,
            "visibility": null,
            "width": null
          }
        },
        "b1be4392954243d6bf7c2bf8ca256f9d": {
          "model_module": "@jupyter-widgets/controls",
          "model_name": "DescriptionStyleModel",
          "model_module_version": "1.5.0",
          "state": {
            "_model_module": "@jupyter-widgets/controls",
            "_model_module_version": "1.5.0",
            "_model_name": "DescriptionStyleModel",
            "_view_count": null,
            "_view_module": "@jupyter-widgets/base",
            "_view_module_version": "1.2.0",
            "_view_name": "StyleView",
            "description_width": ""
          }
        },
        "b9147cb18db04902a0fc6231ae01988b": {
          "model_module": "@jupyter-widgets/controls",
          "model_name": "HBoxModel",
          "model_module_version": "1.5.0",
          "state": {
            "_dom_classes": [],
            "_model_module": "@jupyter-widgets/controls",
            "_model_module_version": "1.5.0",
            "_model_name": "HBoxModel",
            "_view_count": null,
            "_view_module": "@jupyter-widgets/controls",
            "_view_module_version": "1.5.0",
            "_view_name": "HBoxView",
            "box_style": "",
            "children": [
              "IPY_MODEL_6ae649cf998547b1b99caace9e15aec8",
              "IPY_MODEL_cc18da05fe1948f7927da508243761f9",
              "IPY_MODEL_1a12249e3eed460286a577fa934c3592"
            ],
            "layout": "IPY_MODEL_076dddca479a49ca8d76ad7cc8e26cca"
          }
        },
        "6ae649cf998547b1b99caace9e15aec8": {
          "model_module": "@jupyter-widgets/controls",
          "model_name": "HTMLModel",
          "model_module_version": "1.5.0",
          "state": {
            "_dom_classes": [],
            "_model_module": "@jupyter-widgets/controls",
            "_model_module_version": "1.5.0",
            "_model_name": "HTMLModel",
            "_view_count": null,
            "_view_module": "@jupyter-widgets/controls",
            "_view_module_version": "1.5.0",
            "_view_name": "HTMLView",
            "description": "",
            "description_tooltip": null,
            "layout": "IPY_MODEL_bea12a97b4914316a4ba1cd4395c0bbb",
            "placeholder": "​",
            "style": "IPY_MODEL_f3178501f7a74bf5aad804fa3d9fa161",
            "value": "vocab.txt: 100%"
          }
        },
        "cc18da05fe1948f7927da508243761f9": {
          "model_module": "@jupyter-widgets/controls",
          "model_name": "FloatProgressModel",
          "model_module_version": "1.5.0",
          "state": {
            "_dom_classes": [],
            "_model_module": "@jupyter-widgets/controls",
            "_model_module_version": "1.5.0",
            "_model_name": "FloatProgressModel",
            "_view_count": null,
            "_view_module": "@jupyter-widgets/controls",
            "_view_module_version": "1.5.0",
            "_view_name": "ProgressView",
            "bar_style": "success",
            "description": "",
            "description_tooltip": null,
            "layout": "IPY_MODEL_93b05b9acac4437ba6e23f65be46acd5",
            "max": 231508,
            "min": 0,
            "orientation": "horizontal",
            "style": "IPY_MODEL_e4eb8f357f6a4c9494feb01f16c6ca81",
            "value": 231508
          }
        },
        "1a12249e3eed460286a577fa934c3592": {
          "model_module": "@jupyter-widgets/controls",
          "model_name": "HTMLModel",
          "model_module_version": "1.5.0",
          "state": {
            "_dom_classes": [],
            "_model_module": "@jupyter-widgets/controls",
            "_model_module_version": "1.5.0",
            "_model_name": "HTMLModel",
            "_view_count": null,
            "_view_module": "@jupyter-widgets/controls",
            "_view_module_version": "1.5.0",
            "_view_name": "HTMLView",
            "description": "",
            "description_tooltip": null,
            "layout": "IPY_MODEL_9ae62ddb056042089c6a7f8bb51a4d21",
            "placeholder": "​",
            "style": "IPY_MODEL_c00b98deb4a6420ca5aca534e6b121c8",
            "value": " 232k/232k [00:00&lt;00:00, 5.10MB/s]"
          }
        },
        "076dddca479a49ca8d76ad7cc8e26cca": {
          "model_module": "@jupyter-widgets/base",
          "model_name": "LayoutModel",
          "model_module_version": "1.2.0",
          "state": {
            "_model_module": "@jupyter-widgets/base",
            "_model_module_version": "1.2.0",
            "_model_name": "LayoutModel",
            "_view_count": null,
            "_view_module": "@jupyter-widgets/base",
            "_view_module_version": "1.2.0",
            "_view_name": "LayoutView",
            "align_content": null,
            "align_items": null,
            "align_self": null,
            "border": null,
            "bottom": null,
            "display": null,
            "flex": null,
            "flex_flow": null,
            "grid_area": null,
            "grid_auto_columns": null,
            "grid_auto_flow": null,
            "grid_auto_rows": null,
            "grid_column": null,
            "grid_gap": null,
            "grid_row": null,
            "grid_template_areas": null,
            "grid_template_columns": null,
            "grid_template_rows": null,
            "height": null,
            "justify_content": null,
            "justify_items": null,
            "left": null,
            "margin": null,
            "max_height": null,
            "max_width": null,
            "min_height": null,
            "min_width": null,
            "object_fit": null,
            "object_position": null,
            "order": null,
            "overflow": null,
            "overflow_x": null,
            "overflow_y": null,
            "padding": null,
            "right": null,
            "top": null,
            "visibility": null,
            "width": null
          }
        },
        "bea12a97b4914316a4ba1cd4395c0bbb": {
          "model_module": "@jupyter-widgets/base",
          "model_name": "LayoutModel",
          "model_module_version": "1.2.0",
          "state": {
            "_model_module": "@jupyter-widgets/base",
            "_model_module_version": "1.2.0",
            "_model_name": "LayoutModel",
            "_view_count": null,
            "_view_module": "@jupyter-widgets/base",
            "_view_module_version": "1.2.0",
            "_view_name": "LayoutView",
            "align_content": null,
            "align_items": null,
            "align_self": null,
            "border": null,
            "bottom": null,
            "display": null,
            "flex": null,
            "flex_flow": null,
            "grid_area": null,
            "grid_auto_columns": null,
            "grid_auto_flow": null,
            "grid_auto_rows": null,
            "grid_column": null,
            "grid_gap": null,
            "grid_row": null,
            "grid_template_areas": null,
            "grid_template_columns": null,
            "grid_template_rows": null,
            "height": null,
            "justify_content": null,
            "justify_items": null,
            "left": null,
            "margin": null,
            "max_height": null,
            "max_width": null,
            "min_height": null,
            "min_width": null,
            "object_fit": null,
            "object_position": null,
            "order": null,
            "overflow": null,
            "overflow_x": null,
            "overflow_y": null,
            "padding": null,
            "right": null,
            "top": null,
            "visibility": null,
            "width": null
          }
        },
        "f3178501f7a74bf5aad804fa3d9fa161": {
          "model_module": "@jupyter-widgets/controls",
          "model_name": "DescriptionStyleModel",
          "model_module_version": "1.5.0",
          "state": {
            "_model_module": "@jupyter-widgets/controls",
            "_model_module_version": "1.5.0",
            "_model_name": "DescriptionStyleModel",
            "_view_count": null,
            "_view_module": "@jupyter-widgets/base",
            "_view_module_version": "1.2.0",
            "_view_name": "StyleView",
            "description_width": ""
          }
        },
        "93b05b9acac4437ba6e23f65be46acd5": {
          "model_module": "@jupyter-widgets/base",
          "model_name": "LayoutModel",
          "model_module_version": "1.2.0",
          "state": {
            "_model_module": "@jupyter-widgets/base",
            "_model_module_version": "1.2.0",
            "_model_name": "LayoutModel",
            "_view_count": null,
            "_view_module": "@jupyter-widgets/base",
            "_view_module_version": "1.2.0",
            "_view_name": "LayoutView",
            "align_content": null,
            "align_items": null,
            "align_self": null,
            "border": null,
            "bottom": null,
            "display": null,
            "flex": null,
            "flex_flow": null,
            "grid_area": null,
            "grid_auto_columns": null,
            "grid_auto_flow": null,
            "grid_auto_rows": null,
            "grid_column": null,
            "grid_gap": null,
            "grid_row": null,
            "grid_template_areas": null,
            "grid_template_columns": null,
            "grid_template_rows": null,
            "height": null,
            "justify_content": null,
            "justify_items": null,
            "left": null,
            "margin": null,
            "max_height": null,
            "max_width": null,
            "min_height": null,
            "min_width": null,
            "object_fit": null,
            "object_position": null,
            "order": null,
            "overflow": null,
            "overflow_x": null,
            "overflow_y": null,
            "padding": null,
            "right": null,
            "top": null,
            "visibility": null,
            "width": null
          }
        },
        "e4eb8f357f6a4c9494feb01f16c6ca81": {
          "model_module": "@jupyter-widgets/controls",
          "model_name": "ProgressStyleModel",
          "model_module_version": "1.5.0",
          "state": {
            "_model_module": "@jupyter-widgets/controls",
            "_model_module_version": "1.5.0",
            "_model_name": "ProgressStyleModel",
            "_view_count": null,
            "_view_module": "@jupyter-widgets/base",
            "_view_module_version": "1.2.0",
            "_view_name": "StyleView",
            "bar_color": null,
            "description_width": ""
          }
        },
        "9ae62ddb056042089c6a7f8bb51a4d21": {
          "model_module": "@jupyter-widgets/base",
          "model_name": "LayoutModel",
          "model_module_version": "1.2.0",
          "state": {
            "_model_module": "@jupyter-widgets/base",
            "_model_module_version": "1.2.0",
            "_model_name": "LayoutModel",
            "_view_count": null,
            "_view_module": "@jupyter-widgets/base",
            "_view_module_version": "1.2.0",
            "_view_name": "LayoutView",
            "align_content": null,
            "align_items": null,
            "align_self": null,
            "border": null,
            "bottom": null,
            "display": null,
            "flex": null,
            "flex_flow": null,
            "grid_area": null,
            "grid_auto_columns": null,
            "grid_auto_flow": null,
            "grid_auto_rows": null,
            "grid_column": null,
            "grid_gap": null,
            "grid_row": null,
            "grid_template_areas": null,
            "grid_template_columns": null,
            "grid_template_rows": null,
            "height": null,
            "justify_content": null,
            "justify_items": null,
            "left": null,
            "margin": null,
            "max_height": null,
            "max_width": null,
            "min_height": null,
            "min_width": null,
            "object_fit": null,
            "object_position": null,
            "order": null,
            "overflow": null,
            "overflow_x": null,
            "overflow_y": null,
            "padding": null,
            "right": null,
            "top": null,
            "visibility": null,
            "width": null
          }
        },
        "c00b98deb4a6420ca5aca534e6b121c8": {
          "model_module": "@jupyter-widgets/controls",
          "model_name": "DescriptionStyleModel",
          "model_module_version": "1.5.0",
          "state": {
            "_model_module": "@jupyter-widgets/controls",
            "_model_module_version": "1.5.0",
            "_model_name": "DescriptionStyleModel",
            "_view_count": null,
            "_view_module": "@jupyter-widgets/base",
            "_view_module_version": "1.2.0",
            "_view_name": "StyleView",
            "description_width": ""
          }
        },
        "197a8eeb22064f1cbed48b031154e58e": {
          "model_module": "@jupyter-widgets/controls",
          "model_name": "HBoxModel",
          "model_module_version": "1.5.0",
          "state": {
            "_dom_classes": [],
            "_model_module": "@jupyter-widgets/controls",
            "_model_module_version": "1.5.0",
            "_model_name": "HBoxModel",
            "_view_count": null,
            "_view_module": "@jupyter-widgets/controls",
            "_view_module_version": "1.5.0",
            "_view_name": "HBoxView",
            "box_style": "",
            "children": [
              "IPY_MODEL_31a571489c3c49f2b34e0fe370dfbf31",
              "IPY_MODEL_7ebd0be7e5e84c1ca5a8e74a6606576b",
              "IPY_MODEL_a7a3c13aed1e49cf9f9635a4ce21379e"
            ],
            "layout": "IPY_MODEL_f3f63cf2c1cb40c6b65a1a45e2c6600d"
          }
        },
        "31a571489c3c49f2b34e0fe370dfbf31": {
          "model_module": "@jupyter-widgets/controls",
          "model_name": "HTMLModel",
          "model_module_version": "1.5.0",
          "state": {
            "_dom_classes": [],
            "_model_module": "@jupyter-widgets/controls",
            "_model_module_version": "1.5.0",
            "_model_name": "HTMLModel",
            "_view_count": null,
            "_view_module": "@jupyter-widgets/controls",
            "_view_module_version": "1.5.0",
            "_view_name": "HTMLView",
            "description": "",
            "description_tooltip": null,
            "layout": "IPY_MODEL_7a1c1f69a80c49d7a196bc9cc21bec02",
            "placeholder": "​",
            "style": "IPY_MODEL_201a14e2b8eb414787065551b5c05858",
            "value": "tokenizer.json: 100%"
          }
        },
        "7ebd0be7e5e84c1ca5a8e74a6606576b": {
          "model_module": "@jupyter-widgets/controls",
          "model_name": "FloatProgressModel",
          "model_module_version": "1.5.0",
          "state": {
            "_dom_classes": [],
            "_model_module": "@jupyter-widgets/controls",
            "_model_module_version": "1.5.0",
            "_model_name": "FloatProgressModel",
            "_view_count": null,
            "_view_module": "@jupyter-widgets/controls",
            "_view_module_version": "1.5.0",
            "_view_name": "ProgressView",
            "bar_style": "success",
            "description": "",
            "description_tooltip": null,
            "layout": "IPY_MODEL_f01e278660da42c7bd59aace42f2d57f",
            "max": 466062,
            "min": 0,
            "orientation": "horizontal",
            "style": "IPY_MODEL_7c5f804d865d402285c2eae81de39fad",
            "value": 466062
          }
        },
        "a7a3c13aed1e49cf9f9635a4ce21379e": {
          "model_module": "@jupyter-widgets/controls",
          "model_name": "HTMLModel",
          "model_module_version": "1.5.0",
          "state": {
            "_dom_classes": [],
            "_model_module": "@jupyter-widgets/controls",
            "_model_module_version": "1.5.0",
            "_model_name": "HTMLModel",
            "_view_count": null,
            "_view_module": "@jupyter-widgets/controls",
            "_view_module_version": "1.5.0",
            "_view_name": "HTMLView",
            "description": "",
            "description_tooltip": null,
            "layout": "IPY_MODEL_a122b5660e5642ce9cf28d47ed4aaf7c",
            "placeholder": "​",
            "style": "IPY_MODEL_2b8d637671f740638eec7dd1f2bc981e",
            "value": " 466k/466k [00:00&lt;00:00, 24.6MB/s]"
          }
        },
        "f3f63cf2c1cb40c6b65a1a45e2c6600d": {
          "model_module": "@jupyter-widgets/base",
          "model_name": "LayoutModel",
          "model_module_version": "1.2.0",
          "state": {
            "_model_module": "@jupyter-widgets/base",
            "_model_module_version": "1.2.0",
            "_model_name": "LayoutModel",
            "_view_count": null,
            "_view_module": "@jupyter-widgets/base",
            "_view_module_version": "1.2.0",
            "_view_name": "LayoutView",
            "align_content": null,
            "align_items": null,
            "align_self": null,
            "border": null,
            "bottom": null,
            "display": null,
            "flex": null,
            "flex_flow": null,
            "grid_area": null,
            "grid_auto_columns": null,
            "grid_auto_flow": null,
            "grid_auto_rows": null,
            "grid_column": null,
            "grid_gap": null,
            "grid_row": null,
            "grid_template_areas": null,
            "grid_template_columns": null,
            "grid_template_rows": null,
            "height": null,
            "justify_content": null,
            "justify_items": null,
            "left": null,
            "margin": null,
            "max_height": null,
            "max_width": null,
            "min_height": null,
            "min_width": null,
            "object_fit": null,
            "object_position": null,
            "order": null,
            "overflow": null,
            "overflow_x": null,
            "overflow_y": null,
            "padding": null,
            "right": null,
            "top": null,
            "visibility": null,
            "width": null
          }
        },
        "7a1c1f69a80c49d7a196bc9cc21bec02": {
          "model_module": "@jupyter-widgets/base",
          "model_name": "LayoutModel",
          "model_module_version": "1.2.0",
          "state": {
            "_model_module": "@jupyter-widgets/base",
            "_model_module_version": "1.2.0",
            "_model_name": "LayoutModel",
            "_view_count": null,
            "_view_module": "@jupyter-widgets/base",
            "_view_module_version": "1.2.0",
            "_view_name": "LayoutView",
            "align_content": null,
            "align_items": null,
            "align_self": null,
            "border": null,
            "bottom": null,
            "display": null,
            "flex": null,
            "flex_flow": null,
            "grid_area": null,
            "grid_auto_columns": null,
            "grid_auto_flow": null,
            "grid_auto_rows": null,
            "grid_column": null,
            "grid_gap": null,
            "grid_row": null,
            "grid_template_areas": null,
            "grid_template_columns": null,
            "grid_template_rows": null,
            "height": null,
            "justify_content": null,
            "justify_items": null,
            "left": null,
            "margin": null,
            "max_height": null,
            "max_width": null,
            "min_height": null,
            "min_width": null,
            "object_fit": null,
            "object_position": null,
            "order": null,
            "overflow": null,
            "overflow_x": null,
            "overflow_y": null,
            "padding": null,
            "right": null,
            "top": null,
            "visibility": null,
            "width": null
          }
        },
        "201a14e2b8eb414787065551b5c05858": {
          "model_module": "@jupyter-widgets/controls",
          "model_name": "DescriptionStyleModel",
          "model_module_version": "1.5.0",
          "state": {
            "_model_module": "@jupyter-widgets/controls",
            "_model_module_version": "1.5.0",
            "_model_name": "DescriptionStyleModel",
            "_view_count": null,
            "_view_module": "@jupyter-widgets/base",
            "_view_module_version": "1.2.0",
            "_view_name": "StyleView",
            "description_width": ""
          }
        },
        "f01e278660da42c7bd59aace42f2d57f": {
          "model_module": "@jupyter-widgets/base",
          "model_name": "LayoutModel",
          "model_module_version": "1.2.0",
          "state": {
            "_model_module": "@jupyter-widgets/base",
            "_model_module_version": "1.2.0",
            "_model_name": "LayoutModel",
            "_view_count": null,
            "_view_module": "@jupyter-widgets/base",
            "_view_module_version": "1.2.0",
            "_view_name": "LayoutView",
            "align_content": null,
            "align_items": null,
            "align_self": null,
            "border": null,
            "bottom": null,
            "display": null,
            "flex": null,
            "flex_flow": null,
            "grid_area": null,
            "grid_auto_columns": null,
            "grid_auto_flow": null,
            "grid_auto_rows": null,
            "grid_column": null,
            "grid_gap": null,
            "grid_row": null,
            "grid_template_areas": null,
            "grid_template_columns": null,
            "grid_template_rows": null,
            "height": null,
            "justify_content": null,
            "justify_items": null,
            "left": null,
            "margin": null,
            "max_height": null,
            "max_width": null,
            "min_height": null,
            "min_width": null,
            "object_fit": null,
            "object_position": null,
            "order": null,
            "overflow": null,
            "overflow_x": null,
            "overflow_y": null,
            "padding": null,
            "right": null,
            "top": null,
            "visibility": null,
            "width": null
          }
        },
        "7c5f804d865d402285c2eae81de39fad": {
          "model_module": "@jupyter-widgets/controls",
          "model_name": "ProgressStyleModel",
          "model_module_version": "1.5.0",
          "state": {
            "_model_module": "@jupyter-widgets/controls",
            "_model_module_version": "1.5.0",
            "_model_name": "ProgressStyleModel",
            "_view_count": null,
            "_view_module": "@jupyter-widgets/base",
            "_view_module_version": "1.2.0",
            "_view_name": "StyleView",
            "bar_color": null,
            "description_width": ""
          }
        },
        "a122b5660e5642ce9cf28d47ed4aaf7c": {
          "model_module": "@jupyter-widgets/base",
          "model_name": "LayoutModel",
          "model_module_version": "1.2.0",
          "state": {
            "_model_module": "@jupyter-widgets/base",
            "_model_module_version": "1.2.0",
            "_model_name": "LayoutModel",
            "_view_count": null,
            "_view_module": "@jupyter-widgets/base",
            "_view_module_version": "1.2.0",
            "_view_name": "LayoutView",
            "align_content": null,
            "align_items": null,
            "align_self": null,
            "border": null,
            "bottom": null,
            "display": null,
            "flex": null,
            "flex_flow": null,
            "grid_area": null,
            "grid_auto_columns": null,
            "grid_auto_flow": null,
            "grid_auto_rows": null,
            "grid_column": null,
            "grid_gap": null,
            "grid_row": null,
            "grid_template_areas": null,
            "grid_template_columns": null,
            "grid_template_rows": null,
            "height": null,
            "justify_content": null,
            "justify_items": null,
            "left": null,
            "margin": null,
            "max_height": null,
            "max_width": null,
            "min_height": null,
            "min_width": null,
            "object_fit": null,
            "object_position": null,
            "order": null,
            "overflow": null,
            "overflow_x": null,
            "overflow_y": null,
            "padding": null,
            "right": null,
            "top": null,
            "visibility": null,
            "width": null
          }
        },
        "2b8d637671f740638eec7dd1f2bc981e": {
          "model_module": "@jupyter-widgets/controls",
          "model_name": "DescriptionStyleModel",
          "model_module_version": "1.5.0",
          "state": {
            "_model_module": "@jupyter-widgets/controls",
            "_model_module_version": "1.5.0",
            "_model_name": "DescriptionStyleModel",
            "_view_count": null,
            "_view_module": "@jupyter-widgets/base",
            "_view_module_version": "1.2.0",
            "_view_name": "StyleView",
            "description_width": ""
          }
        },
        "c769c84a84f24d4f88ed235e34b77d3c": {
          "model_module": "@jupyter-widgets/controls",
          "model_name": "HBoxModel",
          "model_module_version": "1.5.0",
          "state": {
            "_dom_classes": [],
            "_model_module": "@jupyter-widgets/controls",
            "_model_module_version": "1.5.0",
            "_model_name": "HBoxModel",
            "_view_count": null,
            "_view_module": "@jupyter-widgets/controls",
            "_view_module_version": "1.5.0",
            "_view_name": "HBoxView",
            "box_style": "",
            "children": [
              "IPY_MODEL_2c57ac1711bb43d29c9f6129786c416b",
              "IPY_MODEL_055a8ed49a8c4e60a07f68902b2005c6",
              "IPY_MODEL_14bc68ede9ad4ae4b2571a974b142349"
            ],
            "layout": "IPY_MODEL_93bbbdadb1c449ff8f05154c58bb1f58"
          }
        },
        "2c57ac1711bb43d29c9f6129786c416b": {
          "model_module": "@jupyter-widgets/controls",
          "model_name": "HTMLModel",
          "model_module_version": "1.5.0",
          "state": {
            "_dom_classes": [],
            "_model_module": "@jupyter-widgets/controls",
            "_model_module_version": "1.5.0",
            "_model_name": "HTMLModel",
            "_view_count": null,
            "_view_module": "@jupyter-widgets/controls",
            "_view_module_version": "1.5.0",
            "_view_name": "HTMLView",
            "description": "",
            "description_tooltip": null,
            "layout": "IPY_MODEL_729959ed6fd0445ebe05f9148193f60c",
            "placeholder": "​",
            "style": "IPY_MODEL_1f132abf20da4017874d98984ac85c99",
            "value": "model.safetensors: 100%"
          }
        },
        "055a8ed49a8c4e60a07f68902b2005c6": {
          "model_module": "@jupyter-widgets/controls",
          "model_name": "FloatProgressModel",
          "model_module_version": "1.5.0",
          "state": {
            "_dom_classes": [],
            "_model_module": "@jupyter-widgets/controls",
            "_model_module_version": "1.5.0",
            "_model_name": "FloatProgressModel",
            "_view_count": null,
            "_view_module": "@jupyter-widgets/controls",
            "_view_module_version": "1.5.0",
            "_view_name": "ProgressView",
            "bar_style": "success",
            "description": "",
            "description_tooltip": null,
            "layout": "IPY_MODEL_7c7dbef2a0e444ad8399c34b566defae",
            "max": 267954768,
            "min": 0,
            "orientation": "horizontal",
            "style": "IPY_MODEL_e912dc74ee124fbdb2d0266b7548421f",
            "value": 267954768
          }
        },
        "14bc68ede9ad4ae4b2571a974b142349": {
          "model_module": "@jupyter-widgets/controls",
          "model_name": "HTMLModel",
          "model_module_version": "1.5.0",
          "state": {
            "_dom_classes": [],
            "_model_module": "@jupyter-widgets/controls",
            "_model_module_version": "1.5.0",
            "_model_name": "HTMLModel",
            "_view_count": null,
            "_view_module": "@jupyter-widgets/controls",
            "_view_module_version": "1.5.0",
            "_view_name": "HTMLView",
            "description": "",
            "description_tooltip": null,
            "layout": "IPY_MODEL_267af4e032da4104ba47d59b35a42dc7",
            "placeholder": "​",
            "style": "IPY_MODEL_1844c39a6eb244e783ee414b30ee3325",
            "value": " 268M/268M [00:01&lt;00:00, 197MB/s]"
          }
        },
        "93bbbdadb1c449ff8f05154c58bb1f58": {
          "model_module": "@jupyter-widgets/base",
          "model_name": "LayoutModel",
          "model_module_version": "1.2.0",
          "state": {
            "_model_module": "@jupyter-widgets/base",
            "_model_module_version": "1.2.0",
            "_model_name": "LayoutModel",
            "_view_count": null,
            "_view_module": "@jupyter-widgets/base",
            "_view_module_version": "1.2.0",
            "_view_name": "LayoutView",
            "align_content": null,
            "align_items": null,
            "align_self": null,
            "border": null,
            "bottom": null,
            "display": null,
            "flex": null,
            "flex_flow": null,
            "grid_area": null,
            "grid_auto_columns": null,
            "grid_auto_flow": null,
            "grid_auto_rows": null,
            "grid_column": null,
            "grid_gap": null,
            "grid_row": null,
            "grid_template_areas": null,
            "grid_template_columns": null,
            "grid_template_rows": null,
            "height": null,
            "justify_content": null,
            "justify_items": null,
            "left": null,
            "margin": null,
            "max_height": null,
            "max_width": null,
            "min_height": null,
            "min_width": null,
            "object_fit": null,
            "object_position": null,
            "order": null,
            "overflow": null,
            "overflow_x": null,
            "overflow_y": null,
            "padding": null,
            "right": null,
            "top": null,
            "visibility": null,
            "width": null
          }
        },
        "729959ed6fd0445ebe05f9148193f60c": {
          "model_module": "@jupyter-widgets/base",
          "model_name": "LayoutModel",
          "model_module_version": "1.2.0",
          "state": {
            "_model_module": "@jupyter-widgets/base",
            "_model_module_version": "1.2.0",
            "_model_name": "LayoutModel",
            "_view_count": null,
            "_view_module": "@jupyter-widgets/base",
            "_view_module_version": "1.2.0",
            "_view_name": "LayoutView",
            "align_content": null,
            "align_items": null,
            "align_self": null,
            "border": null,
            "bottom": null,
            "display": null,
            "flex": null,
            "flex_flow": null,
            "grid_area": null,
            "grid_auto_columns": null,
            "grid_auto_flow": null,
            "grid_auto_rows": null,
            "grid_column": null,
            "grid_gap": null,
            "grid_row": null,
            "grid_template_areas": null,
            "grid_template_columns": null,
            "grid_template_rows": null,
            "height": null,
            "justify_content": null,
            "justify_items": null,
            "left": null,
            "margin": null,
            "max_height": null,
            "max_width": null,
            "min_height": null,
            "min_width": null,
            "object_fit": null,
            "object_position": null,
            "order": null,
            "overflow": null,
            "overflow_x": null,
            "overflow_y": null,
            "padding": null,
            "right": null,
            "top": null,
            "visibility": null,
            "width": null
          }
        },
        "1f132abf20da4017874d98984ac85c99": {
          "model_module": "@jupyter-widgets/controls",
          "model_name": "DescriptionStyleModel",
          "model_module_version": "1.5.0",
          "state": {
            "_model_module": "@jupyter-widgets/controls",
            "_model_module_version": "1.5.0",
            "_model_name": "DescriptionStyleModel",
            "_view_count": null,
            "_view_module": "@jupyter-widgets/base",
            "_view_module_version": "1.2.0",
            "_view_name": "StyleView",
            "description_width": ""
          }
        },
        "7c7dbef2a0e444ad8399c34b566defae": {
          "model_module": "@jupyter-widgets/base",
          "model_name": "LayoutModel",
          "model_module_version": "1.2.0",
          "state": {
            "_model_module": "@jupyter-widgets/base",
            "_model_module_version": "1.2.0",
            "_model_name": "LayoutModel",
            "_view_count": null,
            "_view_module": "@jupyter-widgets/base",
            "_view_module_version": "1.2.0",
            "_view_name": "LayoutView",
            "align_content": null,
            "align_items": null,
            "align_self": null,
            "border": null,
            "bottom": null,
            "display": null,
            "flex": null,
            "flex_flow": null,
            "grid_area": null,
            "grid_auto_columns": null,
            "grid_auto_flow": null,
            "grid_auto_rows": null,
            "grid_column": null,
            "grid_gap": null,
            "grid_row": null,
            "grid_template_areas": null,
            "grid_template_columns": null,
            "grid_template_rows": null,
            "height": null,
            "justify_content": null,
            "justify_items": null,
            "left": null,
            "margin": null,
            "max_height": null,
            "max_width": null,
            "min_height": null,
            "min_width": null,
            "object_fit": null,
            "object_position": null,
            "order": null,
            "overflow": null,
            "overflow_x": null,
            "overflow_y": null,
            "padding": null,
            "right": null,
            "top": null,
            "visibility": null,
            "width": null
          }
        },
        "e912dc74ee124fbdb2d0266b7548421f": {
          "model_module": "@jupyter-widgets/controls",
          "model_name": "ProgressStyleModel",
          "model_module_version": "1.5.0",
          "state": {
            "_model_module": "@jupyter-widgets/controls",
            "_model_module_version": "1.5.0",
            "_model_name": "ProgressStyleModel",
            "_view_count": null,
            "_view_module": "@jupyter-widgets/base",
            "_view_module_version": "1.2.0",
            "_view_name": "StyleView",
            "bar_color": null,
            "description_width": ""
          }
        },
        "267af4e032da4104ba47d59b35a42dc7": {
          "model_module": "@jupyter-widgets/base",
          "model_name": "LayoutModel",
          "model_module_version": "1.2.0",
          "state": {
            "_model_module": "@jupyter-widgets/base",
            "_model_module_version": "1.2.0",
            "_model_name": "LayoutModel",
            "_view_count": null,
            "_view_module": "@jupyter-widgets/base",
            "_view_module_version": "1.2.0",
            "_view_name": "LayoutView",
            "align_content": null,
            "align_items": null,
            "align_self": null,
            "border": null,
            "bottom": null,
            "display": null,
            "flex": null,
            "flex_flow": null,
            "grid_area": null,
            "grid_auto_columns": null,
            "grid_auto_flow": null,
            "grid_auto_rows": null,
            "grid_column": null,
            "grid_gap": null,
            "grid_row": null,
            "grid_template_areas": null,
            "grid_template_columns": null,
            "grid_template_rows": null,
            "height": null,
            "justify_content": null,
            "justify_items": null,
            "left": null,
            "margin": null,
            "max_height": null,
            "max_width": null,
            "min_height": null,
            "min_width": null,
            "object_fit": null,
            "object_position": null,
            "order": null,
            "overflow": null,
            "overflow_x": null,
            "overflow_y": null,
            "padding": null,
            "right": null,
            "top": null,
            "visibility": null,
            "width": null
          }
        },
        "1844c39a6eb244e783ee414b30ee3325": {
          "model_module": "@jupyter-widgets/controls",
          "model_name": "DescriptionStyleModel",
          "model_module_version": "1.5.0",
          "state": {
            "_model_module": "@jupyter-widgets/controls",
            "_model_module_version": "1.5.0",
            "_model_name": "DescriptionStyleModel",
            "_view_count": null,
            "_view_module": "@jupyter-widgets/base",
            "_view_module_version": "1.2.0",
            "_view_name": "StyleView",
            "description_width": ""
          }
        }
      }
    }
  },
  "cells": [
    {
      "cell_type": "markdown",
      "source": [
        "##Loading the dataset"
      ],
      "metadata": {
        "id": "Iv21TzZ-8z6p"
      }
    },
    {
      "cell_type": "code",
      "execution_count": null,
      "metadata": {
        "colab": {
          "base_uri": "https://localhost:8080/"
        },
        "id": "p1V2Rl8wkGHP",
        "outputId": "33f904dc-92a4-4385-d2b3-821e1cf31e12"
      },
      "outputs": [
        {
          "output_type": "stream",
          "name": "stdout",
          "text": [
            "                                            sentence     label\n",
            "0  According to Gran , the company has no plans t...   neutral\n",
            "1  Technopolis plans to develop in stages an area...   neutral\n",
            "2  The international electronic industry company ...  negative\n",
            "3  With the new production plant the company woul...  positive\n",
            "4  According to the company 's updated strategy f...  positive\n"
          ]
        }
      ],
      "source": [
        "import pandas as pd\n",
        "\n",
        "# Read the contents of Sentences_50Agree.txt into a list, specifying the encoding\n",
        "with open(\"Sentences_50Agree.txt\", \"r\", encoding=\"utf-8\", errors=\"ignore\") as file:\n",
        "    lines = file.readlines()\n",
        "\n",
        "# Initialize lists to store sentences and labels\n",
        "sentences = []\n",
        "labels = []\n",
        "\n",
        "# Iterate through each line and split into sentence and label\n",
        "for line in lines:\n",
        "    # Split the line into sentence and label\n",
        "    parts = line.strip().split(\"@\")\n",
        "    sentence = parts[0].strip()\n",
        "    label = parts[1].strip() if len(parts) > 1 else None\n",
        "    # Append sentence and label to lists\n",
        "    sentences.append(sentence)\n",
        "    labels.append(label)\n",
        "# Create a DataFrame from the lists\n",
        "df = pd.DataFrame({\"sentence\": sentences, \"label\": labels})\n",
        "# Display the first few rows of the DataFrame\n",
        "print(df.head())"
      ]
    },
    {
      "cell_type": "markdown",
      "source": [
        "##Preprocessing"
      ],
      "metadata": {
        "id": "kr_KHM9H828f"
      }
    },
    {
      "cell_type": "code",
      "source": [
        "# Define a dictionary to map labels to numerical values\n",
        "label_map = {\"negative\": 0, \"neutral\": 1, \"positive\": 2}\n",
        "\n",
        "# Map labels to numerical values using the dictionary\n",
        "df[\"label\"] = df[\"label\"].map(label_map)\n",
        "\n",
        "# Display the updated DataFrame\n",
        "print(df.head())"
      ],
      "metadata": {
        "colab": {
          "base_uri": "https://localhost:8080/"
        },
        "id": "TjuP8K0XlJEv",
        "outputId": "6e5660a0-821e-4861-8a73-863696d99024"
      },
      "execution_count": null,
      "outputs": [
        {
          "output_type": "stream",
          "name": "stdout",
          "text": [
            "                                            sentence  label\n",
            "0  According to Gran , the company has no plans t...      1\n",
            "1  Technopolis plans to develop in stages an area...      1\n",
            "2  The international electronic industry company ...      0\n",
            "3  With the new production plant the company woul...      2\n",
            "4  According to the company 's updated strategy f...      2\n"
          ]
        }
      ]
    },
    {
      "cell_type": "code",
      "source": [
        "nltk.download('stopwords')\n",
        "nltk.download('punkt')\n",
        "nltk.download('wordnet')\n",
        "\n",
        "import pandas as pd\n",
        "from nltk.corpus import stopwords\n",
        "from nltk.stem import PorterStemmer, WordNetLemmatizer\n",
        "from nltk.tokenize import word_tokenize\n",
        "import nltk\n",
        "\n",
        "stop_words = set(stopwords.words('english'))\n",
        "\n",
        "stemmer = PorterStemmer()\n",
        "lemmatizer = WordNetLemmatizer()\n",
        "\n",
        "\n",
        "def preprocess(sentence):\n",
        "    # Convert to lowercase\n",
        "    sentence = sentence.lower()\n",
        "    # Split sentence into words\n",
        "    words = sentence.split()\n",
        "    # Remove stop words\n",
        "    words = [word for word in words if word not in stop_words]\n",
        "    # Apply stemming\n",
        "    stemmed_words = [stemmer.stem(word) for word in words]\n",
        "    # Apply lemmatization\n",
        "    lemmatized_words = [lemmatizer.lemmatize(word) for word in stemmed_words]\n",
        "\n",
        "    return ' '.join(words)\n",
        "\n",
        "df['sentence'] = df['sentence'].apply(preprocess)\n",
        "\n",
        "print(df.head())"
      ],
      "metadata": {
        "colab": {
          "base_uri": "https://localhost:8080/"
        },
        "id": "dGa2-qib7weI",
        "outputId": "48406c3b-3b25-416c-8fa4-9d5bc3e146ef"
      },
      "execution_count": null,
      "outputs": [
        {
          "output_type": "stream",
          "name": "stderr",
          "text": [
            "[nltk_data] Downloading package stopwords to /root/nltk_data...\n",
            "[nltk_data]   Package stopwords is already up-to-date!\n",
            "[nltk_data] Downloading package punkt to /root/nltk_data...\n",
            "[nltk_data]   Package punkt is already up-to-date!\n",
            "[nltk_data] Downloading package wordnet to /root/nltk_data...\n",
            "[nltk_data]   Package wordnet is already up-to-date!\n"
          ]
        },
        {
          "output_type": "stream",
          "name": "stdout",
          "text": [
            "                                            sentence  label\n",
            "0  according gran , company plans move production...      1\n",
            "1  technopolis plans develop stages area less 100...      1\n",
            "2  international electronic industry company elco...      0\n",
            "3  new production plant company would increase ca...      2\n",
            "4  according company 's updated strategy years 20...      2\n"
          ]
        }
      ]
    },
    {
      "cell_type": "code",
      "source": [
        "df.groupby('label').count().plot.barh()"
      ],
      "metadata": {
        "colab": {
          "base_uri": "https://localhost:8080/",
          "height": 448
        },
        "id": "J6DGNAkkkk_g",
        "outputId": "c0d291ee-fdb2-4153-b404-b4630a3b50cf"
      },
      "execution_count": null,
      "outputs": [
        {
          "output_type": "execute_result",
          "data": {
            "text/plain": [
              "<Axes: ylabel='label'>"
            ]
          },
          "metadata": {},
          "execution_count": 15
        },
        {
          "output_type": "display_data",
          "data": {
            "text/plain": [
              "<Figure size 640x480 with 1 Axes>"
            ],
            "image/png": "[encoded data removed]"
          },
          "metadata": {}
        }
      ]
    },
    {
      "cell_type": "markdown",
      "source": [
        "###Splitting the data"
      ],
      "metadata": {
        "id": "vrnwYe-ZD3rA"
      }
    },
    {
      "cell_type": "code",
      "source": [
        "from sklearn.model_selection import train_test_split\n",
        "from sklearn.naive_bayes import MultinomialNB\n",
        "from sklearn.svm import SVC\n",
        "from sklearn.metrics import accuracy_score\n",
        "from transformers import BertTokenizer, BertModel\n",
        "import torch\n",
        "from sklearn.linear_model import LogisticRegression\n",
        "\n",
        "# Step 1: Split Data\n",
        "X = df['sentence']\n",
        "y = df['label']\n",
        "\n",
        "X_train, X_test, y_train, y_test = train_test_split(X, y, test_size=0.2, random_state=42)"
      ],
      "metadata": {
        "id": "RKICn7A7C-xX"
      },
      "execution_count": null,
      "outputs": []
    },
    {
      "cell_type": "markdown",
      "source": [
        "##Naive Bayes"
      ],
      "metadata": {
        "id": "nBy1oucdD_mB"
      }
    },
    {
      "cell_type": "code",
      "source": [
        "from sklearn.feature_extraction.text import TfidfVectorizer\n",
        "from sklearn.naive_bayes import MultinomialNB\n",
        "from sklearn.metrics import classification_report\n",
        "\n",
        "# Step 1: Convert text data to numerical features using TF-IDF\n",
        "vectorizer = TfidfVectorizer()\n",
        "X_train_tfidf = vectorizer.fit_transform(X_train)\n",
        "X_test_tfidf = vectorizer.transform(X_test)\n",
        "\n",
        "# Step 2: Train Naive Bayes classifier\n",
        "nb_classifier = MultinomialNB()\n",
        "nb_classifier.fit(X_train_tfidf, y_train)\n",
        "\n",
        "# Step 3: Predict on test data\n",
        "nb_pred = nb_classifier.predict(X_test_tfidf)\n",
        "\n",
        "# Step 4: Generate classification report for Naive Bayes\n",
        "nb_report = classification_report(y_test, nb_pred)\n",
        "print(\"Classification Report for Naive Bayes:\")\n",
        "print(nb_report)\n"
      ],
      "metadata": {
        "colab": {
          "base_uri": "https://localhost:8080/"
        },
        "id": "U-kur0eOC-uQ",
        "outputId": "fa3436c8-d4aa-44b1-838d-a62b9ddeb368"
      },
      "execution_count": null,
      "outputs": [
        {
          "output_type": "stream",
          "name": "stdout",
          "text": [
            "Classification Report for Naive Bayes:\n",
            "              precision    recall  f1-score   support\n",
            "\n",
            "           0       1.00      0.04      0.07       110\n",
            "           1       0.68      0.98      0.80       571\n",
            "           2       0.66      0.33      0.44       289\n",
            "\n",
            "    accuracy                           0.68       970\n",
            "   macro avg       0.78      0.45      0.44       970\n",
            "weighted avg       0.71      0.68      0.61       970\n",
            "\n"
          ]
        }
      ]
    },
    {
      "cell_type": "code",
      "source": [
        "nb_accuracy = accuracy_score(y_test, nb_pred)\n",
        "print(nb_accuracy)"
      ],
      "metadata": {
        "colab": {
          "base_uri": "https://localhost:8080/"
        },
        "id": "5G7uO6DVC-sv",
        "outputId": "d88593a8-1d81-459c-a809-945d325acda8"
      },
      "execution_count": null,
      "outputs": [
        {
          "output_type": "stream",
          "name": "stdout",
          "text": [
            "0.6793814432989691\n"
          ]
        }
      ]
    },
    {
      "cell_type": "markdown",
      "source": [
        "##SVM"
      ],
      "metadata": {
        "id": "Cy8weUvWEnaB"
      }
    },
    {
      "cell_type": "code",
      "source": [
        "from sklearn.feature_extraction.text import TfidfVectorizer\n",
        "from sklearn.svm import SVC\n",
        "from sklearn.metrics import classification_report\n",
        "\n",
        "# Step 1: Convert text data to numerical features using TF-IDF\n",
        "vectorizer = TfidfVectorizer()\n",
        "X_train_tfidf = vectorizer.fit_transform(X_train)\n",
        "X_test_tfidf = vectorizer.transform(X_test)\n",
        "\n",
        "# Step 2: Train SVM classifier\n",
        "svm_classifier = SVC(kernel='linear')\n",
        "svm_classifier.fit(X_train_tfidf, y_train)\n",
        "\n",
        "# Step 3: Predict on test data\n",
        "svm_pred = svm_classifier.predict(X_test_tfidf)\n",
        "\n",
        "# Step 4: Generate classification report for SVM\n",
        "svm_report = classification_report(y_test, svm_pred)\n",
        "print(\"\\nClassification Report for SVM:\")\n",
        "print(svm_report)\n"
      ],
      "metadata": {
        "colab": {
          "base_uri": "https://localhost:8080/"
        },
        "id": "05IvQ5lYC-ob",
        "outputId": "544d066b-a2c5-492f-8b33-83c140fb3f81"
      },
      "execution_count": null,
      "outputs": [
        {
          "output_type": "stream",
          "name": "stdout",
          "text": [
            "\n",
            "Classification Report for SVM:\n",
            "              precision    recall  f1-score   support\n",
            "\n",
            "           0       0.78      0.53      0.63       110\n",
            "           1       0.75      0.93      0.83       571\n",
            "           2       0.76      0.51      0.61       289\n",
            "\n",
            "    accuracy                           0.76       970\n",
            "   macro avg       0.76      0.65      0.69       970\n",
            "weighted avg       0.76      0.76      0.74       970\n",
            "\n"
          ]
        }
      ]
    },
    {
      "cell_type": "code",
      "source": [
        "svm_accuracy = accuracy_score(y_test, svm_pred)\n",
        "print(svm_accuracy)"
      ],
      "metadata": {
        "colab": {
          "base_uri": "https://localhost:8080/"
        },
        "id": "p2R7XSPTC-cS",
        "outputId": "72578430-49e3-4f1c-a217-589a71077adc"
      },
      "execution_count": null,
      "outputs": [
        {
          "output_type": "stream",
          "name": "stdout",
          "text": [
            "0.756701030927835\n"
          ]
        }
      ]
    },
    {
      "cell_type": "markdown",
      "source": [
        "##Logistic Regression"
      ],
      "metadata": {
        "id": "f_2VnX__HO3h"
      }
    },
    {
      "cell_type": "code",
      "source": [
        "from sklearn.feature_extraction.text import TfidfVectorizer\n",
        "from sklearn.svm import SVC\n",
        "from sklearn.metrics import classification_report\n",
        "\n",
        "# Step 1: Convert text data to numerical features using TF-IDF\n",
        "vectorizer = TfidfVectorizer()\n",
        "X_train_tfidf = vectorizer.fit_transform(X_train)\n",
        "X_test_tfidf = vectorizer.transform(X_test)\n",
        "\n",
        "# Step 2: Train Logistic Regression classifier\n",
        "lr_model = LogisticRegression()\n",
        "lr_model.fit(X_train_tfidf, y_train)\n",
        "\n",
        "# Step 3: Predict on test data\n",
        "lr_pred = lr_model.predict(X_test_tfidf)\n",
        "\n",
        "# Step 4: Generate classification report for SVM\n",
        "lr_report = classification_report(y_test, lr_pred)\n",
        "print(\"\\nClassification Report for LR:\")\n",
        "print(lr_report)\n"
      ],
      "metadata": {
        "colab": {
          "base_uri": "https://localhost:8080/"
        },
        "id": "wLbYhvRvHS7T",
        "outputId": "e1815cc0-6e3f-4c5f-a01b-38d060c76c13"
      },
      "execution_count": null,
      "outputs": [
        {
          "output_type": "stream",
          "name": "stdout",
          "text": [
            "\n",
            "Classification Report for LR:\n",
            "              precision    recall  f1-score   support\n",
            "\n",
            "           0       0.82      0.41      0.55       110\n",
            "           1       0.73      0.96      0.83       571\n",
            "           2       0.79      0.45      0.57       289\n",
            "\n",
            "    accuracy                           0.74       970\n",
            "   macro avg       0.78      0.61      0.65       970\n",
            "weighted avg       0.76      0.74      0.72       970\n",
            "\n"
          ]
        }
      ]
    },
    {
      "cell_type": "code",
      "source": [
        "lr_accuracy = accuracy_score(y_test, lr_pred)\n",
        "print(lr_accuracy)"
      ],
      "metadata": {
        "colab": {
          "base_uri": "https://localhost:8080/"
        },
        "id": "oZbMVAFPHq-Y",
        "outputId": "1d918420-d473-4275-e0b6-6f91d216abbe"
      },
      "execution_count": null,
      "outputs": [
        {
          "output_type": "stream",
          "name": "stdout",
          "text": [
            "0.743298969072165\n"
          ]
        }
      ]
    },
    {
      "cell_type": "markdown",
      "source": [
        "##Installing transformers"
      ],
      "metadata": {
        "id": "S0WgpKmwE0ol"
      }
    },
    {
      "cell_type": "markdown",
      "source": [
        "Installing transformers to employ the BERT models"
      ],
      "metadata": {
        "id": "VD29gUZ7E5LE"
      }
    },
    {
      "cell_type": "code",
      "source": [
        "!pip install huggingface_hub\n",
        "!pip install transformers"
      ],
      "metadata": {
        "colab": {
          "base_uri": "https://localhost:8080/"
        },
        "id": "hLJrG4m0lTBq",
        "outputId": "1de4928e-a74f-43f3-fac7-fd22fcf93bc0"
      },
      "execution_count": null,
      "outputs": [
        {
          "output_type": "stream",
          "name": "stdout",
          "text": [
            "Requirement already satisfied: huggingface_hub in /usr/local/lib/python3.10/dist-packages (0.20.3)\n",
            "Requirement already satisfied: filelock in /usr/local/lib/python3.10/dist-packages (from huggingface_hub) (3.14.0)\n",
            "Requirement already satisfied: fsspec>=2023.5.0 in /usr/local/lib/python3.10/dist-packages (from huggingface_hub) (2023.6.0)\n",
            "Requirement already satisfied: requests in /usr/local/lib/python3.10/dist-packages (from huggingface_hub) (2.31.0)\n",
            "Requirement already satisfied: tqdm>=4.42.1 in /usr/local/lib/python3.10/dist-packages (from huggingface_hub) (4.66.4)\n",
            "Requirement already satisfied: pyyaml>=5.1 in /usr/local/lib/python3.10/dist-packages (from huggingface_hub) (6.0.1)\n",
            "Requirement already satisfied: typing-extensions>=3.7.4.3 in /usr/local/lib/python3.10/dist-packages (from huggingface_hub) (4.11.0)\n",
            "Requirement already satisfied: packaging>=20.9 in /usr/local/lib/python3.10/dist-packages (from huggingface_hub) (24.0)\n",
            "Requirement already satisfied: charset-normalizer<4,>=2 in /usr/local/lib/python3.10/dist-packages (from requests->huggingface_hub) (3.3.2)\n",
            "Requirement already satisfied: idna<4,>=2.5 in /usr/local/lib/python3.10/dist-packages (from requests->huggingface_hub) (3.7)\n",
            "Requirement already satisfied: urllib3<3,>=1.21.1 in /usr/local/lib/python3.10/dist-packages (from requests->huggingface_hub) (2.0.7)\n",
            "Requirement already satisfied: certifi>=2017.4.17 in /usr/local/lib/python3.10/dist-packages (from requests->huggingface_hub) (2024.2.2)\n",
            "Requirement already satisfied: transformers in /usr/local/lib/python3.10/dist-packages (4.40.2)\n",
            "Requirement already satisfied: filelock in /usr/local/lib/python3.10/dist-packages (from transformers) (3.14.0)\n",
            "Requirement already satisfied: huggingface-hub<1.0,>=0.19.3 in /usr/local/lib/python3.10/dist-packages (from transformers) (0.20.3)\n",
            "Requirement already satisfied: numpy>=1.17 in /usr/local/lib/python3.10/dist-packages (from transformers) (1.25.2)\n",
            "Requirement already satisfied: packaging>=20.0 in /usr/local/lib/python3.10/dist-packages (from transformers) (24.0)\n",
            "Requirement already satisfied: pyyaml>=5.1 in /usr/local/lib/python3.10/dist-packages (from transformers) (6.0.1)\n",
            "Requirement already satisfied: regex!=2019.12.17 in /usr/local/lib/python3.10/dist-packages (from transformers) (2023.12.25)\n",
            "Requirement already satisfied: requests in /usr/local/lib/python3.10/dist-packages (from transformers) (2.31.0)\n",
            "Requirement already satisfied: tokenizers<0.20,>=0.19 in /usr/local/lib/python3.10/dist-packages (from transformers) (0.19.1)\n",
            "Requirement already satisfied: safetensors>=0.4.1 in /usr/local/lib/python3.10/dist-packages (from transformers) (0.4.3)\n",
            "Requirement already satisfied: tqdm>=4.27 in /usr/local/lib/python3.10/dist-packages (from transformers) (4.66.4)\n",
            "Requirement already satisfied: fsspec>=2023.5.0 in /usr/local/lib/python3.10/dist-packages (from huggingface-hub<1.0,>=0.19.3->transformers) (2023.6.0)\n",
            "Requirement already satisfied: typing-extensions>=3.7.4.3 in /usr/local/lib/python3.10/dist-packages (from huggingface-hub<1.0,>=0.19.3->transformers) (4.11.0)\n",
            "Requirement already satisfied: charset-normalizer<4,>=2 in /usr/local/lib/python3.10/dist-packages (from requests->transformers) (3.3.2)\n",
            "Requirement already satisfied: idna<4,>=2.5 in /usr/local/lib/python3.10/dist-packages (from requests->transformers) (3.7)\n",
            "Requirement already satisfied: urllib3<3,>=1.21.1 in /usr/local/lib/python3.10/dist-packages (from requests->transformers) (2.0.7)\n",
            "Requirement already satisfied: certifi>=2017.4.17 in /usr/local/lib/python3.10/dist-packages (from requests->transformers) (2024.2.2)\n"
          ]
        }
      ]
    },
    {
      "cell_type": "code",
      "source": [
        "import transformers\n",
        "import torch"
      ],
      "metadata": {
        "id": "LOtOsMKUlUHP"
      },
      "execution_count": null,
      "outputs": []
    },
    {
      "cell_type": "code",
      "source": [
        "# Tokenization\n",
        "model_pkg = 'distilbert-base-uncased'\n",
        "distilbert_tokenizer = transformers.AutoTokenizer.from_pretrained(model_pkg)"
      ],
      "metadata": {
        "colab": {
          "base_uri": "https://localhost:8080/",
          "height": 274,
          "referenced_widgets": [
            "ec9f3e4db7e44ea48b2bdb7dc1661021",
            "d75afc6a6cdb4bb1b329f5f2c93abd72",
            "8fec372125484e69a6e162cf2ba863fe",
            "8af0cfa4cde04a2e82728ad5d364e28b",
            "92e5c1bfb262414f97ec021a1bfda282",
            "fa0b132be8ca4729ae34982725584abd",
            "316a2911fcd94dc7a25fc46f67792d05",
            "f91aa354932e4dc6bc8d43758ca39752",
            "be23edbaf48d4ccf91776bbbc47d6164",
            "7a609f06aec543749eb81c8d0f3b32a5",
            "99b97bb2750642d4820d7347157fefa9",
            "d36ea37c15b54094bedbd22ca59b3c41",
            "1900d887816344f28cf84d4deb3e84ff",
            "6d05f7ea61754ed78e41398217573b3b",
            "ce1a691a78124038974a5d96b565bfa7",
            "8341a55c4f004d549609ac908a0d6a2f",
            "49b1f6ea3a6644beb1c3ede781f44392",
            "4329541bcebb4b6283881393f0620eeb",
            "0ccb1c77e5964c55bcf77866ff38a5df",
            "1e1f554d44cf4043b68a70900a56dd7e",
            "2ec2e6d5e72f46f38d319df11ba1350c",
            "b1be4392954243d6bf7c2bf8ca256f9d",
            "b9147cb18db04902a0fc6231ae01988b",
            "6ae649cf998547b1b99caace9e15aec8",
            "cc18da05fe1948f7927da508243761f9",
            "1a12249e3eed460286a577fa934c3592",
            "076dddca479a49ca8d76ad7cc8e26cca",
            "bea12a97b4914316a4ba1cd4395c0bbb",
            "f3178501f7a74bf5aad804fa3d9fa161",
            "93b05b9acac4437ba6e23f65be46acd5",
            "e4eb8f357f6a4c9494feb01f16c6ca81",
            "9ae62ddb056042089c6a7f8bb51a4d21",
            "c00b98deb4a6420ca5aca534e6b121c8",
            "197a8eeb22064f1cbed48b031154e58e",
            "31a571489c3c49f2b34e0fe370dfbf31",
            "7ebd0be7e5e84c1ca5a8e74a6606576b",
            "a7a3c13aed1e49cf9f9635a4ce21379e",
            "f3f63cf2c1cb40c6b65a1a45e2c6600d",
            "7a1c1f69a80c49d7a196bc9cc21bec02",
            "201a14e2b8eb414787065551b5c05858",
            "f01e278660da42c7bd59aace42f2d57f",
            "7c5f804d865d402285c2eae81de39fad",
            "a122b5660e5642ce9cf28d47ed4aaf7c",
            "2b8d637671f740638eec7dd1f2bc981e"
          ]
        },
        "id": "LUUUbu4Hlafd",
        "outputId": "4b9abc6f-298b-4ffe-bb4f-639dbe3fb6dd"
      },
      "execution_count": null,
      "outputs": [
        {
          "output_type": "stream",
          "name": "stderr",
          "text": [
            "/usr/local/lib/python3.10/dist-packages/huggingface_hub/utils/_token.py:88: UserWarning: \n",
            "The secret `HF_TOKEN` does not exist in your Colab secrets.\n",
            "To authenticate with the Hugging Face Hub, create a token in your settings tab (https://huggingface.co/settings/tokens), set it as secret in your Google Colab and restart your session.\n",
            "You will be able to reuse this secret in all of your notebooks.\n",
            "Please note that authentication is recommended but still optional to access public models or datasets.\n",
            "  warnings.warn(\n"
          ]
        },
        {
          "output_type": "display_data",
          "data": {
            "text/plain": [
              "tokenizer_config.json:   0%|          | 0.00/48.0 [00:00<?, ?B/s]"
            ],
            "application/vnd.jupyter.widget-view+json": {
              "version_major": 2,
              "version_minor": 0,
              "model_id": "ec9f3e4db7e44ea48b2bdb7dc1661021"
            }
          },
          "metadata": {}
        },
        {
          "output_type": "display_data",
          "data": {
            "text/plain": [
              "config.json:   0%|          | 0.00/483 [00:00<?, ?B/s]"
            ],
            "application/vnd.jupyter.widget-view+json": {
              "version_major": 2,
              "version_minor": 0,
              "model_id": "d36ea37c15b54094bedbd22ca59b3c41"
            }
          },
          "metadata": {}
        },
        {
          "output_type": "display_data",
          "data": {
            "text/plain": [
              "vocab.txt:   0%|          | 0.00/232k [00:00<?, ?B/s]"
            ],
            "application/vnd.jupyter.widget-view+json": {
              "version_major": 2,
              "version_minor": 0,
              "model_id": "b9147cb18db04902a0fc6231ae01988b"
            }
          },
          "metadata": {}
        },
        {
          "output_type": "display_data",
          "data": {
            "text/plain": [
              "tokenizer.json:   0%|          | 0.00/466k [00:00<?, ?B/s]"
            ],
            "application/vnd.jupyter.widget-view+json": {
              "version_major": 2,
              "version_minor": 0,
              "model_id": "197a8eeb22064f1cbed48b031154e58e"
            }
          },
          "metadata": {}
        }
      ]
    },
    {
      "cell_type": "markdown",
      "source": [
        "##Logistic Regression using BERT embeddings"
      ],
      "metadata": {
        "id": "Tmgp0WpbezYa"
      }
    },
    {
      "cell_type": "code",
      "source": [
        "import pandas as pd\n",
        "from transformers import AutoTokenizer, AutoModel\n",
        "import torch\n",
        "from sklearn.linear_model import LogisticRegression\n",
        "from sklearn.metrics import accuracy_score\n",
        "from sklearn.model_selection import train_test_split\n",
        "from sklearn.preprocessing import LabelEncoder\n",
        "\n",
        "# Take only the first 1000 rows\n",
        "df = df[:1000]\n",
        "\n",
        "# Load the pre-trained BERT tokenizer\n",
        "model_pkg = 'distilbert-base-uncased'\n",
        "distilbert_tokenizer = AutoTokenizer.from_pretrained(model_pkg)\n",
        "\n",
        "# Tokenize the sentences\n",
        "tokenized_sentences = distilbert_tokenizer(list(df[\"sentence\"]), padding=True, truncation=True, return_tensors='pt')\n",
        "\n",
        "# Load the pre-trained BERT model\n",
        "distilbert_model = AutoModel.from_pretrained(model_pkg)\n",
        "\n",
        "# Set the model to evaluation mode\n",
        "distilbert_model.eval()\n",
        "\n",
        "# Pass the tokenized sentences through the BERT model to obtain embeddings\n",
        "with torch.no_grad():\n",
        "    outputs = distilbert_model(**tokenized_sentences)\n",
        "\n",
        "# Extract embeddings for the [CLS] token\n",
        "cls_embeddings = outputs.last_hidden_state[:, 0, :].numpy()\n",
        "\n",
        "# Encode labels\n",
        "label_encoder = LabelEncoder()\n",
        "df[\"label_encoded\"] = label_encoder.fit_transform(df[\"label\"])\n",
        "\n",
        "# Split dataset into train and test sets\n",
        "train_df, test_df, train_labels, test_labels = train_test_split(cls_embeddings, df[\"label_encoded\"].values, test_size=0.2, random_state=42)\n",
        "\n",
        "# Train logistic regression model\n",
        "logreg_model = LogisticRegression(max_iter=1000)\n",
        "logreg_model.fit(train_df, train_labels)\n",
        "\n",
        "# Predict labels for test data\n",
        "predictions = logreg_model.predict(test_df)\n",
        "\n",
        "# Evaluate model performance\n",
        "accuracy = accuracy_score(test_labels, predictions)\n",
        "print(\"Accuracy:\", accuracy)\n"
      ],
      "metadata": {
        "colab": {
          "base_uri": "https://localhost:8080/",
          "height": 67,
          "referenced_widgets": [
            "c769c84a84f24d4f88ed235e34b77d3c",
            "2c57ac1711bb43d29c9f6129786c416b",
            "055a8ed49a8c4e60a07f68902b2005c6",
            "14bc68ede9ad4ae4b2571a974b142349",
            "93bbbdadb1c449ff8f05154c58bb1f58",
            "729959ed6fd0445ebe05f9148193f60c",
            "1f132abf20da4017874d98984ac85c99",
            "7c7dbef2a0e444ad8399c34b566defae",
            "e912dc74ee124fbdb2d0266b7548421f",
            "267af4e032da4104ba47d59b35a42dc7",
            "1844c39a6eb244e783ee414b30ee3325"
          ]
        },
        "id": "N2T74aqMNJYj",
        "outputId": "ce00a59f-f02d-4c3f-c343-16615bcada1e"
      },
      "execution_count": null,
      "outputs": [
        {
          "output_type": "display_data",
          "data": {
            "text/plain": [
              "model.safetensors:   0%|          | 0.00/268M [00:00<?, ?B/s]"
            ],
            "application/vnd.jupyter.widget-view+json": {
              "version_major": 2,
              "version_minor": 0,
              "model_id": "c769c84a84f24d4f88ed235e34b77d3c"
            }
          },
          "metadata": {}
        },
        {
          "output_type": "stream",
          "name": "stdout",
          "text": [
            "Accuracy: 0.81\n"
          ]
        }
      ]
    },
    {
      "cell_type": "code",
      "source": [
        "from sklearn.metrics import classification_report\n",
        "\n",
        "# Predict labels for test data\n",
        "predictions = logreg_model.predict(cls_embeddings[len(train_df):])\n",
        "\n",
        "# Generate classification report\n",
        "report = classification_report(test_labels, predictions)\n",
        "\n",
        "# Print classification report\n",
        "print(\"Classification Report:\")\n",
        "print(report)\n"
      ],
      "metadata": {
        "colab": {
          "base_uri": "https://localhost:8080/"
        },
        "id": "SwHE5Js8uQtH",
        "outputId": "3e979f2a-f7fd-4d29-f76f-10d682f6b264"
      },
      "execution_count": null,
      "outputs": [
        {
          "output_type": "stream",
          "name": "stdout",
          "text": [
            "Classification Report:\n",
            "              precision    recall  f1-score   support\n",
            "\n",
            "           0       0.00      0.00      0.00         7\n",
            "           1       0.00      0.00      0.00        36\n",
            "           2       0.78      0.95      0.85       157\n",
            "\n",
            "    accuracy                           0.74       200\n",
            "   macro avg       0.26      0.32      0.28       200\n",
            "weighted avg       0.61      0.74      0.67       200\n",
            "\n"
          ]
        },
        {
          "output_type": "stream",
          "name": "stderr",
          "text": [
            "/usr/local/lib/python3.10/dist-packages/sklearn/metrics/_classification.py:1344: UndefinedMetricWarning: Precision and F-score are ill-defined and being set to 0.0 in labels with no predicted samples. Use `zero_division` parameter to control this behavior.\n",
            "  _warn_prf(average, modifier, msg_start, len(result))\n",
            "/usr/local/lib/python3.10/dist-packages/sklearn/metrics/_classification.py:1344: UndefinedMetricWarning: Precision and F-score are ill-defined and being set to 0.0 in labels with no predicted samples. Use `zero_division` parameter to control this behavior.\n",
            "  _warn_prf(average, modifier, msg_start, len(result))\n",
            "/usr/local/lib/python3.10/dist-packages/sklearn/metrics/_classification.py:1344: UndefinedMetricWarning: Precision and F-score are ill-defined and being set to 0.0 in labels with no predicted samples. Use `zero_division` parameter to control this behavior.\n",
            "  _warn_prf(average, modifier, msg_start, len(result))\n"
          ]
        }
      ]
    },
    {
      "cell_type": "markdown",
      "source": [
        "The Naive Bayes has lowest accuracy of 67.93%, while SVM and Logistic\n",
        "Regression are performing well with 75.67% and 74.32% accuracies respectively.\n",
        "\n",
        "The accuracies from BERT embeddings is 81% accurate."
      ],
      "metadata": {
        "id": "sWfWl38hC5qC"
      }
    },
    {
      "cell_type": "markdown",
      "source": [
        "I am choosing Logistic Regression with BERT embeddings to determine the correlation between annotator agreement and performance of the model."
      ],
      "metadata": {
        "id": "KekCPux-LGba"
      }
    },
    {
      "cell_type": "markdown",
      "source": [
        "###Accuracy for 66% agreement"
      ],
      "metadata": {
        "id": "OCZ6_xHuLT4p"
      }
    },
    {
      "cell_type": "code",
      "source": [
        "import pandas as pd\n",
        "\n",
        "# Read the contents of Sentences_50Agree.txt into a list, specifying the encoding\n",
        "with open(\"Sentences_66Agree.txt\", \"r\", encoding=\"utf-8\", errors=\"ignore\") as file:\n",
        "    lines = file.readlines()\n",
        "\n",
        "# Initialize lists to store sentences and labels\n",
        "sentences = []\n",
        "labels = []\n",
        "\n",
        "# Iterate through each line and split into sentence and label\n",
        "for line in lines:\n",
        "    # Split the line into sentence and label\n",
        "    parts = line.strip().split(\"@\")\n",
        "    sentence = parts[0].strip()\n",
        "    label = parts[1].strip() if len(parts) > 1 else None\n",
        "    # Append sentence and label to lists\n",
        "    sentences.append(sentence)\n",
        "    labels.append(label)\n",
        "# Create a DataFrame from the lists\n",
        "df_66 = pd.DataFrame({\"sentence\": sentences, \"label\": labels})\n",
        "# Display the first few rows of the DataFrame\n",
        "print(df_66.head())"
      ],
      "metadata": {
        "colab": {
          "base_uri": "https://localhost:8080/"
        },
        "id": "Ql4KqJUgLS9y",
        "outputId": "84b6eb6f-a2a6-4390-eec3-c4a6432cfa5d"
      },
      "execution_count": null,
      "outputs": [
        {
          "output_type": "stream",
          "name": "stdout",
          "text": [
            "                                            sentence     label\n",
            "0  According to Gran , the company has no plans t...   neutral\n",
            "1  Technopolis plans to develop in stages an area...   neutral\n",
            "2  With the new production plant the company woul...  positive\n",
            "3  According to the company 's updated strategy f...  positive\n",
            "4  For the last quarter of 2010 , Componenta 's n...  positive\n"
          ]
        }
      ]
    },
    {
      "cell_type": "code",
      "source": [
        "# Define a dictionary to map labels to numerical values\n",
        "label_map = {\"negative\": 0, \"neutral\": 1, \"positive\": 2}\n",
        "\n",
        "# Map labels to numerical values using the dictionary\n",
        "df_66[\"label\"] = df_66[\"label\"].map(label_map)\n",
        "\n",
        "# Display the updated DataFrame\n",
        "print(df_66.head())"
      ],
      "metadata": {
        "colab": {
          "base_uri": "https://localhost:8080/"
        },
        "id": "nmN7NdMGMLXd",
        "outputId": "9bf492fd-865a-44c5-e456-c98a682f3f19"
      },
      "execution_count": null,
      "outputs": [
        {
          "output_type": "stream",
          "name": "stdout",
          "text": [
            "                                            sentence  label\n",
            "0  According to Gran , the company has no plans t...      1\n",
            "1  Technopolis plans to develop in stages an area...      1\n",
            "2  With the new production plant the company woul...      2\n",
            "3  According to the company 's updated strategy f...      2\n",
            "4  For the last quarter of 2010 , Componenta 's n...      2\n"
          ]
        }
      ]
    },
    {
      "cell_type": "code",
      "source": [
        "stop_words = set(stopwords.words('english'))\n",
        "\n",
        "stemmer = PorterStemmer()\n",
        "lemmatizer = WordNetLemmatizer()\n",
        "\n",
        "def preprocess(sentence):\n",
        "    # Convert to lowercase\n",
        "    sentence = sentence.lower()\n",
        "    # Split sentence into words\n",
        "    words = sentence.split()\n",
        "    # Remove stop words\n",
        "    words = [word for word in words if word not in stop_words]\n",
        "    # Apply stemming\n",
        "    stemmed_words = [stemmer.stem(word) for word in words]\n",
        "    # Apply lemmatization\n",
        "    lemmatized_words = [lemmatizer.lemmatize(word) for word in stemmed_words]\n",
        "\n",
        "    return ' '.join(words)\n",
        "\n",
        "df_66['sentence'] = df_66['sentence'].apply(preprocess)\n",
        "\n",
        "print(df_66.head())"
      ],
      "metadata": {
        "colab": {
          "base_uri": "https://localhost:8080/"
        },
        "id": "xEz4O5WQ_rgo",
        "outputId": "86d1dd8d-4821-4fa5-fd66-0d07d16cd8b3"
      },
      "execution_count": null,
      "outputs": [
        {
          "output_type": "stream",
          "name": "stdout",
          "text": [
            "                                            sentence  label\n",
            "0  according gran , company plans move production...      1\n",
            "1  technopolis plans develop stages area less 100...      1\n",
            "2  new production plant company would increase ca...      2\n",
            "3  according company 's updated strategy years 20...      2\n",
            "4  last quarter 2010 , componenta 's net sales do...      2\n"
          ]
        }
      ]
    },
    {
      "cell_type": "code",
      "source": [
        "df_66.groupby('label').count().plot.barh()"
      ],
      "metadata": {
        "colab": {
          "base_uri": "https://localhost:8080/",
          "height": 448
        },
        "id": "-7h1rAFlMmdw",
        "outputId": "0a5f8357-a8b5-471b-f6a7-87c53d54bc38"
      },
      "execution_count": null,
      "outputs": [
        {
          "output_type": "execute_result",
          "data": {
            "text/plain": [
              "<Axes: ylabel='label'>"
            ]
          },
          "metadata": {},
          "execution_count": 31
        },
        {
          "output_type": "display_data",
          "data": {
            "text/plain": [
              "<Figure size 640x480 with 1 Axes>"
            ],
            "image/png": "[encoded data removed]"
          },
          "metadata": {}
        }
      ]
    },
    {
      "cell_type": "code",
      "source": [
        "import pandas as pd\n",
        "from transformers import AutoTokenizer, AutoModel\n",
        "import torch\n",
        "from sklearn.linear_model import LogisticRegression\n",
        "from sklearn.metrics import accuracy_score\n",
        "from sklearn.model_selection import train_test_split\n",
        "from sklearn.preprocessing import LabelEncoder\n",
        "\n",
        "# Take only the first 1000 rows\n",
        "df_66 = df_66[:1000]\n",
        "\n",
        "# Load the pre-trained BERT tokenizer\n",
        "model_pkg = 'distilbert-base-uncased'\n",
        "distilbert_tokenizer = AutoTokenizer.from_pretrained(model_pkg)\n",
        "\n",
        "# Tokenize the sentences\n",
        "tokenized_sentences = distilbert_tokenizer(list(df_66[\"sentence\"]), padding=True, truncation=True, return_tensors='pt')\n",
        "\n",
        "# Load the pre-trained BERT model\n",
        "distilbert_model = AutoModel.from_pretrained(model_pkg)\n",
        "\n",
        "# Set the model to evaluation mode\n",
        "distilbert_model.eval()\n",
        "\n",
        "# Pass the tokenized sentences through the BERT model to obtain embeddings\n",
        "with torch.no_grad():\n",
        "    outputs = distilbert_model(**tokenized_sentences)\n",
        "\n",
        "# Extract embeddings for the [CLS] token\n",
        "cls_embeddings_66 = outputs.last_hidden_state[:, 0, :].numpy()\n",
        "\n",
        "# Encode labels\n",
        "label_encoder = LabelEncoder()\n",
        "df_66[\"label_encoded\"] = label_encoder.fit_transform(df_66[\"label\"])\n",
        "\n",
        "# Split dataset into train and test sets\n",
        "train_df_66, test_df_66, train_labels_66, test_labels_66 = train_test_split(cls_embeddings_66, df_66[\"label_encoded\"].values, test_size=0.2, random_state=42)\n",
        "\n",
        "# Train logistic regression model\n",
        "logreg_model = LogisticRegression(max_iter=1000)\n",
        "logreg_model.fit(train_df_66, train_labels_66)\n",
        "\n",
        "# Predict labels for test data\n",
        "predictions_66 = logreg_model.predict(test_df_66)\n",
        "\n",
        "# Evaluate model performance\n",
        "accuracy_66 = accuracy_score(test_labels_66, predictions_66)\n",
        "print(\"Accuracy:\", accuracy_66)\n"
      ],
      "metadata": {
        "colab": {
          "base_uri": "https://localhost:8080/"
        },
        "id": "o2at4wp8OlhX",
        "outputId": "42cf5875-b76d-4d89-d7bb-7d0e32b24ade"
      },
      "execution_count": null,
      "outputs": [
        {
          "output_type": "stream",
          "name": "stdout",
          "text": [
            "Accuracy: 0.8\n"
          ]
        }
      ]
    },
    {
      "cell_type": "markdown",
      "source": [
        "###Accuracy of 75% agreement"
      ],
      "metadata": {
        "id": "iUBqygurLg4E"
      }
    },
    {
      "cell_type": "code",
      "source": [
        "import pandas as pd\n",
        "\n",
        "# Read the contents of Sentences_50Agree.txt into a list, specifying the encoding\n",
        "with open(\"Sentences_75Agree.txt\", \"r\", encoding=\"utf-8\", errors=\"ignore\") as file:\n",
        "    lines = file.readlines()\n",
        "\n",
        "# Initialize lists to store sentences and labels\n",
        "sentences = []\n",
        "labels = []\n",
        "\n",
        "# Iterate through each line and split into sentence and label\n",
        "for line in lines:\n",
        "    # Split the line into sentence and label\n",
        "    parts = line.strip().split(\"@\")\n",
        "    sentence = parts[0].strip()\n",
        "    label = parts[1].strip() if len(parts) > 1 else None\n",
        "    # Append sentence and label to lists\n",
        "    sentences.append(sentence)\n",
        "    labels.append(label)\n",
        "# Create a DataFrame from the lists\n",
        "df_75 = pd.DataFrame({\"sentence\": sentences, \"label\": labels})\n",
        "# Display the first few rows of the DataFrame\n",
        "print(df_75.head())"
      ],
      "metadata": {
        "colab": {
          "base_uri": "https://localhost:8080/"
        },
        "id": "JY4gFL7LLeEy",
        "outputId": "83b19751-2746-46af-dc95-9c3c1c4ed571"
      },
      "execution_count": null,
      "outputs": [
        {
          "output_type": "stream",
          "name": "stdout",
          "text": [
            "                                            sentence     label\n",
            "0  According to Gran , the company has no plans t...   neutral\n",
            "1  With the new production plant the company woul...  positive\n",
            "2  For the last quarter of 2010 , Componenta 's n...  positive\n",
            "3  In the third quarter of 2010 , net sales incre...  positive\n",
            "4  Operating profit rose to EUR 13.1 mn from EUR ...  positive\n"
          ]
        }
      ]
    },
    {
      "cell_type": "code",
      "source": [
        "# Define a dictionary to map labels to numerical values\n",
        "label_map = {\"negative\": 0, \"neutral\": 1, \"positive\": 2}\n",
        "\n",
        "# Map labels to numerical values using the dictionary\n",
        "df_75[\"label\"] = df_75[\"label\"].map(label_map)\n",
        "\n",
        "# Display the updated DataFrame\n",
        "print(df_75.head())"
      ],
      "metadata": {
        "colab": {
          "base_uri": "https://localhost:8080/"
        },
        "id": "G5b69cjsMMco",
        "outputId": "6fa38800-4751-4ee8-9298-937391c10ea1"
      },
      "execution_count": null,
      "outputs": [
        {
          "output_type": "stream",
          "name": "stdout",
          "text": [
            "                                            sentence  label\n",
            "0  According to Gran , the company has no plans t...      1\n",
            "1  With the new production plant the company woul...      2\n",
            "2  For the last quarter of 2010 , Componenta 's n...      2\n",
            "3  In the third quarter of 2010 , net sales incre...      2\n",
            "4  Operating profit rose to EUR 13.1 mn from EUR ...      2\n"
          ]
        }
      ]
    },
    {
      "cell_type": "code",
      "source": [
        "stop_words = set(stopwords.words('english'))\n",
        "\n",
        "stemmer = PorterStemmer()\n",
        "lemmatizer = WordNetLemmatizer()\n",
        "\n",
        "\n",
        "def preprocess(sentence):\n",
        "    # Convert to lowercase\n",
        "    sentence = sentence.lower()\n",
        "    # Split sentence into words\n",
        "    words = sentence.split()\n",
        "    # Remove stop words\n",
        "    words = [word for word in words if word not in stop_words]\n",
        "    # Apply stemming\n",
        "    stemmed_words = [stemmer.stem(word) for word in words]\n",
        "    # Apply lemmatization\n",
        "    lemmatized_words = [lemmatizer.lemmatize(word) for word in stemmed_words]\n",
        "\n",
        "    return ' '.join(words)\n",
        "\n",
        "df_75['sentence'] = df_75['sentence'].apply(preprocess)\n",
        "\n",
        "print(df.head())"
      ],
      "metadata": {
        "colab": {
          "base_uri": "https://localhost:8080/"
        },
        "id": "PJHw3oB5AOlz",
        "outputId": "a937127e-a742-47cf-e304-524bb302829e"
      },
      "execution_count": null,
      "outputs": [
        {
          "output_type": "stream",
          "name": "stdout",
          "text": [
            "                                            sentence  label  label_encoded\n",
            "0  according gran , company plans move production...      1              1\n",
            "1  technopolis plans develop stages area less 100...      1              1\n",
            "2  international electronic industry company elco...      0              0\n",
            "3  new production plant company would increase ca...      2              2\n",
            "4  according company 's updated strategy years 20...      2              2\n"
          ]
        }
      ]
    },
    {
      "cell_type": "code",
      "source": [
        "df_75.groupby('label').count().plot.barh()"
      ],
      "metadata": {
        "colab": {
          "base_uri": "https://localhost:8080/",
          "height": 448
        },
        "id": "dorSZZuWMrSE",
        "outputId": "c596993e-2db2-462e-9ab8-005f51ffe9a3"
      },
      "execution_count": null,
      "outputs": [
        {
          "output_type": "execute_result",
          "data": {
            "text/plain": [
              "<Axes: ylabel='label'>"
            ]
          },
          "metadata": {},
          "execution_count": 36
        },
        {
          "output_type": "display_data",
          "data": {
            "text/plain": [
              "<Figure size 640x480 with 1 Axes>"
            ],
            "image/png": "[encoded data removed]"
          },
          "metadata": {}
        }
      ]
    },
    {
      "cell_type": "code",
      "source": [
        "import pandas as pd\n",
        "from transformers import AutoTokenizer, AutoModel\n",
        "import torch\n",
        "from sklearn.linear_model import LogisticRegression\n",
        "from sklearn.metrics import accuracy_score\n",
        "from sklearn.model_selection import train_test_split\n",
        "from sklearn.preprocessing import LabelEncoder\n",
        "\n",
        "# Take only the first 1000 rows\n",
        "df_75 = df_75[:1000]\n",
        "\n",
        "# Load the pre-trained BERT tokenizer\n",
        "model_pkg = 'distilbert-base-uncased'\n",
        "distilbert_tokenizer = AutoTokenizer.from_pretrained(model_pkg)\n",
        "\n",
        "# Tokenize the sentences\n",
        "tokenized_sentences = distilbert_tokenizer(list(df_75[\"sentence\"]), padding=True, truncation=True, return_tensors='pt')\n",
        "\n",
        "# Load the pre-trained BERT model\n",
        "distilbert_model = AutoModel.from_pretrained(model_pkg)\n",
        "\n",
        "# Set the model to evaluation mode\n",
        "distilbert_model.eval()\n",
        "\n",
        "# Pass the tokenized sentences through the BERT model to obtain embeddings\n",
        "with torch.no_grad():\n",
        "    outputs = distilbert_model(**tokenized_sentences)\n",
        "\n",
        "# Extract embeddings for the [CLS] token\n",
        "cls_embeddings_75 = outputs.last_hidden_state[:, 0, :].numpy()\n",
        "\n",
        "# Encode labels\n",
        "label_encoder = LabelEncoder()\n",
        "df_75[\"label_encoded\"] = label_encoder.fit_transform(df_75[\"label\"])\n",
        "\n",
        "# Split dataset into train and test sets\n",
        "train_df_75, test_df_75, train_labels_75, test_labels_75 = train_test_split(cls_embeddings_75, df_75[\"label_encoded\"].values, test_size=0.2, random_state=42)\n",
        "\n",
        "# Train logistic regression model\n",
        "logreg_model = LogisticRegression(max_iter=1000)\n",
        "logreg_model.fit(train_df_75, train_labels_75)\n",
        "\n",
        "# Predict labels for test data\n",
        "predictions_75 = logreg_model.predict(test_df_75)\n",
        "\n",
        "# Evaluate model performance\n",
        "accuracy_75 = accuracy_score(test_labels_75, predictions_75)\n",
        "print(\"Accuracy:\", accuracy_75)\n"
      ],
      "metadata": {
        "colab": {
          "base_uri": "https://localhost:8080/"
        },
        "id": "0alGpX1iPAb2",
        "outputId": "00a2b339-1936-4b2e-f86e-736ebfdf5339"
      },
      "execution_count": null,
      "outputs": [
        {
          "output_type": "stream",
          "name": "stdout",
          "text": [
            "Accuracy: 0.845\n"
          ]
        }
      ]
    },
    {
      "cell_type": "markdown",
      "source": [
        "###Accuracy of 100% agreement"
      ],
      "metadata": {
        "id": "8HsBry58Lkfs"
      }
    },
    {
      "cell_type": "code",
      "source": [
        "import pandas as pd\n",
        "\n",
        "# Read the contents of Sentences_50Agree.txt into a list, specifying the encoding\n",
        "with open(\"Sentences_AllAgree.txt\", \"r\", encoding=\"utf-8\", errors=\"ignore\") as file:\n",
        "    lines = file.readlines()\n",
        "\n",
        "# Initialize lists to store sentences and labels\n",
        "sentences = []\n",
        "labels = []\n",
        "\n",
        "# Iterate through each line and split into sentence and label\n",
        "for line in lines:\n",
        "    # Split the line into sentence and label\n",
        "    parts = line.strip().split(\"@\")\n",
        "    sentence = parts[0].strip()\n",
        "    label = parts[1].strip() if len(parts) > 1 else None\n",
        "    # Append sentence and label to lists\n",
        "    sentences.append(sentence)\n",
        "    labels.append(label)\n",
        "# Create a DataFrame from the lists\n",
        "df_100 = pd.DataFrame({\"sentence\": sentences, \"label\": labels})\n",
        "# Display the first few rows of the DataFrame\n",
        "print(df_100.head())"
      ],
      "metadata": {
        "colab": {
          "base_uri": "https://localhost:8080/"
        },
        "id": "3j-0_HMmLfHH",
        "outputId": "a5df7836-ff7f-404d-8a06-78f45929d19a"
      },
      "execution_count": null,
      "outputs": [
        {
          "output_type": "stream",
          "name": "stdout",
          "text": [
            "                                            sentence     label\n",
            "0  According to Gran , the company has no plans t...   neutral\n",
            "1  For the last quarter of 2010 , Componenta 's n...  positive\n",
            "2  In the third quarter of 2010 , net sales incre...  positive\n",
            "3  Operating profit rose to EUR 13.1 mn from EUR ...  positive\n",
            "4  Operating profit totalled EUR 21.1 mn , up fro...  positive\n"
          ]
        }
      ]
    },
    {
      "cell_type": "code",
      "source": [
        "# Define a dictionary to map labels to numerical values\n",
        "label_map = {\"negative\": 0, \"neutral\": 1, \"positive\": 2}\n",
        "\n",
        "# Map labels to numerical values using the dictionary\n",
        "df_100[\"label\"] = df_100[\"label\"].map(label_map)\n",
        "\n",
        "# Display the updated DataFrame\n",
        "print(df_100.head())"
      ],
      "metadata": {
        "colab": {
          "base_uri": "https://localhost:8080/"
        },
        "id": "VVQU0IulMNbI",
        "outputId": "8a9ba8ab-9023-4139-b129-55939d569bde"
      },
      "execution_count": null,
      "outputs": [
        {
          "output_type": "stream",
          "name": "stdout",
          "text": [
            "                                            sentence  label\n",
            "0  According to Gran , the company has no plans t...      1\n",
            "1  For the last quarter of 2010 , Componenta 's n...      2\n",
            "2  In the third quarter of 2010 , net sales incre...      2\n",
            "3  Operating profit rose to EUR 13.1 mn from EUR ...      2\n",
            "4  Operating profit totalled EUR 21.1 mn , up fro...      2\n"
          ]
        }
      ]
    },
    {
      "cell_type": "code",
      "source": [
        "stop_words = set(stopwords.words('english'))\n",
        "\n",
        "stemmer = PorterStemmer()\n",
        "lemmatizer = WordNetLemmatizer()\n",
        "\n",
        "def preprocess(sentence):\n",
        "    # Convert to lowercase\n",
        "    sentence = sentence.lower()\n",
        "    # Split sentence into words\n",
        "    words = sentence.split()\n",
        "    # Remove stop words\n",
        "    words = [word for word in words if word not in stop_words]\n",
        "    # Apply stemming\n",
        "    stemmed_words = [stemmer.stem(word) for word in words]\n",
        "    # Apply lemmatization\n",
        "    lemmatized_words = [lemmatizer.lemmatize(word) for word in stemmed_words]\n",
        "\n",
        "    return ' '.join(words)\n",
        "\n",
        "df_100['sentence'] = df_100['sentence'].apply(preprocess)\n",
        "\n",
        "print(df_100.head())"
      ],
      "metadata": {
        "colab": {
          "base_uri": "https://localhost:8080/"
        },
        "id": "RNucPEokAeE2",
        "outputId": "5d613d1c-5916-412f-af08-806d34f0e8c1"
      },
      "execution_count": null,
      "outputs": [
        {
          "output_type": "stream",
          "name": "stdout",
          "text": [
            "                                            sentence  label\n",
            "0  according gran , company plans move production...      1\n",
            "1  last quarter 2010 , componenta 's net sales do...      2\n",
            "2  third quarter 2010 , net sales increased 5.2 %...      2\n",
            "3  operating profit rose eur 13.1 mn eur 8.7 mn c...      2\n",
            "4  operating profit totalled eur 21.1 mn , eur 18...      2\n"
          ]
        }
      ]
    },
    {
      "cell_type": "code",
      "source": [
        "df_100.groupby('label').count().plot.barh()"
      ],
      "metadata": {
        "colab": {
          "base_uri": "https://localhost:8080/",
          "height": 448
        },
        "id": "OrB0rlTwMv3x",
        "outputId": "2d9a6d0b-798b-496b-ae8a-36285d4992ec"
      },
      "execution_count": null,
      "outputs": [
        {
          "output_type": "execute_result",
          "data": {
            "text/plain": [
              "<Axes: ylabel='label'>"
            ]
          },
          "metadata": {},
          "execution_count": 40
        },
        {
          "output_type": "display_data",
          "data": {
            "text/plain": [
              "<Figure size 640x480 with 1 Axes>"
            ],
            "image/png": "[encoded data removed]"
          },
          "metadata": {}
        }
      ]
    },
    {
      "cell_type": "code",
      "source": [
        "import pandas as pd\n",
        "from transformers import AutoTokenizer, AutoModel\n",
        "import torch\n",
        "from sklearn.linear_model import LogisticRegression\n",
        "from sklearn.metrics import accuracy_score\n",
        "from sklearn.model_selection import train_test_split\n",
        "from sklearn.preprocessing import LabelEncoder\n",
        "\n",
        "# Take only the first 1000 rows\n",
        "df_100 = df_100[:1000]\n",
        "\n",
        "# Load the pre-trained BERT tokenizer\n",
        "model_pkg = 'distilbert-base-uncased'\n",
        "distilbert_tokenizer = AutoTokenizer.from_pretrained(model_pkg)\n",
        "\n",
        "# Tokenize the sentences\n",
        "tokenized_sentences = distilbert_tokenizer(list(df_100[\"sentence\"]), padding=True, truncation=True, return_tensors='pt')\n",
        "\n",
        "# Load the pre-trained BERT model\n",
        "distilbert_model = AutoModel.from_pretrained(model_pkg)\n",
        "\n",
        "# Set the model to evaluation mode\n",
        "distilbert_model.eval()\n",
        "\n",
        "# Pass the tokenized sentences through the BERT model to obtain embeddings\n",
        "with torch.no_grad():\n",
        "    outputs = distilbert_model(**tokenized_sentences)\n",
        "\n",
        "# Extract embeddings for the [CLS] token\n",
        "cls_embeddings_100 = outputs.last_hidden_state[:, 0, :].numpy()\n",
        "\n",
        "# Encode labels\n",
        "label_encoder = LabelEncoder()\n",
        "df_100[\"label_encoded\"] = label_encoder.fit_transform(df_100[\"label\"])\n",
        "\n",
        "# Split dataset into train and test sets\n",
        "train_df_100, test_df_100, train_labels_100, test_labels_100 = train_test_split(cls_embeddings_100, df_100[\"label_encoded\"].values, test_size=0.2, random_state=42)\n",
        "\n",
        "# Train logistic regression model\n",
        "logreg_model = LogisticRegression(max_iter=1000)\n",
        "logreg_model.fit(train_df_100, train_labels_100)\n",
        "\n",
        "# Predict labels for test data\n",
        "predictions_100 = logreg_model.predict(test_df_100)\n",
        "\n",
        "# Evaluate model performance\n",
        "accuracy_100 = accuracy_score(test_labels_100, predictions_100)\n",
        "print(\"Accuracy:\", accuracy_100)\n"
      ],
      "metadata": {
        "colab": {
          "base_uri": "https://localhost:8080/"
        },
        "id": "00dnoFnXQKAZ",
        "outputId": "328fc118-eea4-4370-d8c0-a28bdc851d98"
      },
      "execution_count": null,
      "outputs": [
        {
          "output_type": "stream",
          "name": "stdout",
          "text": [
            "Accuracy: 0.885\n"
          ]
        }
      ]
    },
    {
      "cell_type": "markdown",
      "source": [
        "###Pearson correlation coefficient"
      ],
      "metadata": {
        "id": "LpoofLZWPPHP"
      }
    },
    {
      "cell_type": "code",
      "source": [
        "from scipy.stats import pearsonr\n",
        "\n",
        "annotator_agreement = [50, 66, 75, 100]\n",
        "model_accuracies = [accuracy, accuracy_66, accuracy_75, accuracy_100]\n",
        "\n",
        "correlation, p_value = pearsonr(annotator_agreement, model_accuracies)\n",
        "print(f'Pearson correlation coefficient: {correlation}')\n",
        "print(f'p-value: {p_value}')\n"
      ],
      "metadata": {
        "colab": {
          "base_uri": "https://localhost:8080/"
        },
        "id": "F5D0b0UlPUku",
        "outputId": "96b29e34-6fc0-4af0-bbfe-fc124e58cad3"
      },
      "execution_count": null,
      "outputs": [
        {
          "output_type": "stream",
          "name": "stdout",
          "text": [
            "Pearson correlation coefficient: 0.9067846841439041\n",
            "p-value: 0.09321531585609577\n"
          ]
        }
      ]
    },
    {
      "cell_type": "markdown",
      "source": [
        "The correlation coefficient is very high with a value of 0.906 indicating a very high positive linear relationship between annotator agreement and model performance\n",
        "\n",
        "The p-value, however, greater than 0.05, meaning the coefficient is not statistical significant.\n",
        "\n",
        "In conclusion, although there is a strong positive relationship between annotator agreement and model performance, it cannot be said that it is statistically significant, this can be a random occurance as well."
      ],
      "metadata": {
        "id": "TqrOoAIMUV2P"
      }
    }
  ]
}