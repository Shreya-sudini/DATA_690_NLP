{
  "nbformat": 4,
  "nbformat_minor": 0,
  "metadata": {
    "colab": {
      "provenance": []
    },
    "kernelspec": {
      "name": "python3",
      "display_name": "Python 3"
    },
    "language_info": {
      "name": "python"
    }
  },
  "cells": [
    {
      "cell_type": "code",
      "source": [
        "import nltk"
      ],
      "metadata": {
        "id": "hT_tXSrre2CB"
      },
      "execution_count": null,
      "outputs": []
    },
    {
      "cell_type": "markdown",
      "source": [
        "#11"
      ],
      "metadata": {
        "id": "_98P6JDZg1-l"
      }
    },
    {
      "cell_type": "code",
      "execution_count": null,
      "metadata": {
        "colab": {
          "base_uri": "https://localhost:8080/"
        },
        "id": "JKPvWULYerXn",
        "outputId": "0b67f5eb-61b5-4d5d-896b-7e7e6df2fb1e"
      },
      "outputs": [
        {
          "output_type": "stream",
          "name": "stdout",
          "text": [
            "Help on class AffixTagger in module nltk.tag.sequential:\n",
            "\n",
            "class AffixTagger(ContextTagger)\n",
            " |  AffixTagger(train=None, model=None, affix_length=-3, min_stem_length=2, backoff=None, cutoff=0, verbose=False)\n",
            " |  \n",
            " |  A tagger that chooses a token's tag based on a leading or trailing\n",
            " |  substring of its word string.  (It is important to note that these\n",
            " |  substrings are not necessarily \"true\" morphological affixes).  In\n",
            " |  particular, a fixed-length substring of the word is looked up in a\n",
            " |  table, and the corresponding tag is returned.  Affix taggers are\n",
            " |  typically constructed by training them on a tagged corpus.\n",
            " |  \n",
            " |  Construct a new affix tagger.\n",
            " |  \n",
            " |  :param affix_length: The length of the affixes that should be\n",
            " |      considered during training and tagging.  Use negative\n",
            " |      numbers for suffixes.\n",
            " |  :param min_stem_length: Any words whose length is less than\n",
            " |      min_stem_length+abs(affix_length) will be assigned a\n",
            " |      tag of None by this tagger.\n",
            " |  \n",
            " |  Method resolution order:\n",
            " |      AffixTagger\n",
            " |      ContextTagger\n",
            " |      SequentialBackoffTagger\n",
            " |      nltk.tag.api.TaggerI\n",
            " |      builtins.object\n",
            " |  \n",
            " |  Methods defined here:\n",
            " |  \n",
            " |  __init__(self, train=None, model=None, affix_length=-3, min_stem_length=2, backoff=None, cutoff=0, verbose=False)\n",
            " |      :param context_to_tag: A dictionary mapping contexts to tags.\n",
            " |      :param backoff: The backoff tagger that should be used for this tagger.\n",
            " |  \n",
            " |  context(self, tokens, index, history)\n",
            " |      :return: the context that should be used to look up the tag\n",
            " |          for the specified token; or None if the specified token\n",
            " |          should not be handled by this tagger.\n",
            " |      :rtype: (hashable)\n",
            " |  \n",
            " |  encode_json_obj(self)\n",
            " |  \n",
            " |  ----------------------------------------------------------------------\n",
            " |  Class methods defined here:\n",
            " |  \n",
            " |  decode_json_obj(obj) from abc.ABCMeta\n",
            " |  \n",
            " |  ----------------------------------------------------------------------\n",
            " |  Data and other attributes defined here:\n",
            " |  \n",
            " |  __abstractmethods__ = frozenset()\n",
            " |  \n",
            " |  json_tag = 'nltk.tag.sequential.AffixTagger'\n",
            " |  \n",
            " |  ----------------------------------------------------------------------\n",
            " |  Methods inherited from ContextTagger:\n",
            " |  \n",
            " |  __repr__(self)\n",
            " |      Return repr(self).\n",
            " |  \n",
            " |  choose_tag(self, tokens, index, history)\n",
            " |      Decide which tag should be used for the specified token, and\n",
            " |      return that tag.  If this tagger is unable to determine a tag\n",
            " |      for the specified token, return None -- do not consult\n",
            " |      the backoff tagger.  This method should be overridden by\n",
            " |      subclasses of SequentialBackoffTagger.\n",
            " |      \n",
            " |      :rtype: str\n",
            " |      :type tokens: list\n",
            " |      :param tokens: The list of words that are being tagged.\n",
            " |      :type index: int\n",
            " |      :param index: The index of the word whose tag should be\n",
            " |          returned.\n",
            " |      :type history: list(str)\n",
            " |      :param history: A list of the tags for all words before *index*.\n",
            " |  \n",
            " |  size(self)\n",
            " |      :return: The number of entries in the table used by this\n",
            " |          tagger to map from contexts to tags.\n",
            " |  \n",
            " |  ----------------------------------------------------------------------\n",
            " |  Methods inherited from SequentialBackoffTagger:\n",
            " |  \n",
            " |  tag(self, tokens)\n",
            " |      Determine the most appropriate tag sequence for the given\n",
            " |      token sequence, and return a corresponding list of tagged\n",
            " |      tokens.  A tagged token is encoded as a tuple ``(token, tag)``.\n",
            " |      \n",
            " |      :rtype: list(tuple(str, str))\n",
            " |  \n",
            " |  tag_one(self, tokens, index, history)\n",
            " |      Determine an appropriate tag for the specified token, and\n",
            " |      return that tag.  If this tagger is unable to determine a tag\n",
            " |      for the specified token, then its backoff tagger is consulted.\n",
            " |      \n",
            " |      :rtype: str\n",
            " |      :type tokens: list\n",
            " |      :param tokens: The list of words that are being tagged.\n",
            " |      :type index: int\n",
            " |      :param index: The index of the word whose tag should be\n",
            " |          returned.\n",
            " |      :type history: list(str)\n",
            " |      :param history: A list of the tags for all words before *index*.\n",
            " |  \n",
            " |  ----------------------------------------------------------------------\n",
            " |  Readonly properties inherited from SequentialBackoffTagger:\n",
            " |  \n",
            " |  backoff\n",
            " |      The backoff tagger for this tagger.\n",
            " |  \n",
            " |  ----------------------------------------------------------------------\n",
            " |  Methods inherited from nltk.tag.api.TaggerI:\n",
            " |  \n",
            " |  accuracy(self, gold)\n",
            " |      Score the accuracy of the tagger against the gold standard.\n",
            " |      Strip the tags from the gold standard text, retag it using\n",
            " |      the tagger, then compute the accuracy score.\n",
            " |      \n",
            " |      :param gold: The list of tagged sentences to score the tagger on.\n",
            " |      :type gold: list(list(tuple(str, str)))\n",
            " |      :rtype: float\n",
            " |  \n",
            " |  confusion(self, gold)\n",
            " |      Return a ConfusionMatrix with the tags from ``gold`` as the reference\n",
            " |      values, with the predictions from ``tag_sents`` as the predicted values.\n",
            " |      \n",
            " |      >>> from nltk.tag import PerceptronTagger\n",
            " |      >>> from nltk.corpus import treebank\n",
            " |      >>> tagger = PerceptronTagger()\n",
            " |      >>> gold_data = treebank.tagged_sents()[:10]\n",
            " |      >>> print(tagger.confusion(gold_data))\n",
            " |             |        -                                                                                     |\n",
            " |             |        N                                                                                     |\n",
            " |             |        O                                               P                                     |\n",
            " |             |        N                       J  J        N  N  P  P  R     R           V  V  V  V  V  W    |\n",
            " |             |  '     E     C  C  D  E  I  J  J  J  M  N  N  N  O  R  P  R  B  R  T  V  B  B  B  B  B  D  ` |\n",
            " |             |  '  ,  -  .  C  D  T  X  N  J  R  S  D  N  P  S  S  P  $  B  R  P  O  B  D  G  N  P  Z  T  ` |\n",
            " |      -------+----------------------------------------------------------------------------------------------+\n",
            " |          '' | <1> .  .  .  .  .  .  .  .  .  .  .  .  .  .  .  .  .  .  .  .  .  .  .  .  .  .  .  .  .  . |\n",
            " |           , |  .<15> .  .  .  .  .  .  .  .  .  .  .  .  .  .  .  .  .  .  .  .  .  .  .  .  .  .  .  .  . |\n",
            " |      -NONE- |  .  . <.> .  .  2  .  .  .  2  .  .  .  5  1  .  .  .  .  2  .  .  .  .  .  .  .  .  .  .  . |\n",
            " |           . |  .  .  .<10> .  .  .  .  .  .  .  .  .  .  .  .  .  .  .  .  .  .  .  .  .  .  .  .  .  .  . |\n",
            " |          CC |  .  .  .  . <1> .  .  .  .  .  .  .  .  .  .  .  .  .  .  .  .  .  .  .  .  .  .  .  .  .  . |\n",
            " |          CD |  .  .  .  .  . <5> .  .  .  .  .  .  .  .  .  .  .  .  .  .  .  .  .  .  .  .  .  .  .  .  . |\n",
            " |          DT |  .  .  .  .  .  .<20> .  .  .  .  .  .  .  .  .  .  .  .  .  .  .  .  .  .  .  .  .  .  .  . |\n",
            " |          EX |  .  .  .  .  .  .  . <1> .  .  .  .  .  .  .  .  .  .  .  .  .  .  .  .  .  .  .  .  .  .  . |\n",
            " |          IN |  .  .  .  .  .  .  .  .<22> .  .  .  .  .  .  .  .  .  .  3  .  .  .  .  .  .  .  .  .  .  . |\n",
            " |          JJ |  .  .  .  .  .  .  .  .  .<16> .  .  .  .  1  .  .  .  .  1  .  .  .  .  .  .  .  .  .  .  . |\n",
            " |         JJR |  .  .  .  .  .  .  .  .  .  . <.> .  .  .  .  .  .  .  .  .  .  .  .  .  .  .  .  .  .  .  . |\n",
            " |         JJS |  .  .  .  .  .  .  .  .  .  .  . <1> .  .  .  .  .  .  .  .  .  .  .  .  .  .  .  .  .  .  . |\n",
            " |          MD |  .  .  .  .  .  .  .  .  .  .  .  . <1> .  .  .  .  .  .  .  .  .  .  .  .  .  .  .  .  .  . |\n",
            " |          NN |  .  .  .  .  .  .  .  .  .  .  .  .  .<28> 1  1  .  .  .  .  .  .  .  .  .  .  .  .  .  .  . |\n",
            " |         NNP |  .  .  .  .  .  .  .  .  .  .  .  .  .  .<25> .  .  .  .  .  .  .  .  .  .  .  .  .  .  .  . |\n",
            " |         NNS |  .  .  .  .  .  .  .  .  .  .  .  .  .  .  .<19> .  .  .  .  .  .  .  .  .  .  .  .  .  .  . |\n",
            " |         POS |  .  .  .  .  .  .  .  .  .  .  .  .  .  .  .  . <1> .  .  .  .  .  .  .  .  .  .  .  .  .  . |\n",
            " |         PRP |  .  .  .  .  .  .  .  .  .  .  .  .  .  .  .  .  . <4> .  .  .  .  .  .  .  .  .  .  .  .  . |\n",
            " |        PRP$ |  .  .  .  .  .  .  .  .  .  .  .  .  .  .  .  .  .  . <2> .  .  .  .  .  .  .  .  .  .  .  . |\n",
            " |          RB |  .  .  .  .  .  .  .  .  .  .  .  .  .  .  .  .  .  .  . <4> .  .  .  .  .  .  .  .  .  .  . |\n",
            " |         RBR |  .  .  .  .  .  .  .  .  .  .  1  .  .  .  .  .  .  .  .  . <1> .  .  .  .  .  .  .  .  .  . |\n",
            " |          RP |  .  .  .  .  .  .  .  .  .  .  .  .  .  .  .  .  .  .  .  .  . <1> .  .  .  .  .  .  .  .  . |\n",
            " |          TO |  .  .  .  .  .  .  .  .  .  .  .  .  .  .  .  .  .  .  .  .  .  . <5> .  .  .  .  .  .  .  . |\n",
            " |          VB |  .  .  .  .  .  .  .  .  .  .  .  .  .  .  .  .  .  .  .  .  .  .  . <3> .  .  .  .  .  .  . |\n",
            " |         VBD |  .  .  .  .  .  .  .  .  .  .  .  .  .  1  .  .  .  .  .  .  .  .  .  . <6> .  .  .  .  .  . |\n",
            " |         VBG |  .  .  .  .  .  .  .  .  .  .  .  .  .  1  .  .  .  .  .  .  .  .  .  .  . <4> .  .  .  .  . |\n",
            " |         VBN |  .  .  .  .  .  .  .  .  .  .  .  .  .  .  .  .  .  .  .  .  .  .  .  .  1  . <4> .  .  .  . |\n",
            " |         VBP |  .  .  .  .  .  .  .  .  .  .  .  .  .  .  .  .  .  .  .  .  .  .  .  .  .  .  . <3> .  .  . |\n",
            " |         VBZ |  .  .  .  .  .  .  .  .  .  .  .  .  .  .  .  .  .  .  .  .  .  .  .  .  .  .  .  . <7> .  . |\n",
            " |         WDT |  .  .  .  .  .  .  .  .  2  .  .  .  .  .  .  .  .  .  .  .  .  .  .  .  .  .  .  .  . <.> . |\n",
            " |          `` |  .  .  .  .  .  .  .  .  .  .  .  .  .  .  .  .  .  .  .  .  .  .  .  .  .  .  .  .  .  . <1>|\n",
            " |      -------+----------------------------------------------------------------------------------------------+\n",
            " |      (row = reference; col = test)\n",
            " |      <BLANKLINE>\n",
            " |      \n",
            " |      :param gold: The list of tagged sentences to run the tagger with,\n",
            " |          also used as the reference values in the generated confusion matrix.\n",
            " |      :type gold: list(list(tuple(str, str)))\n",
            " |      :rtype: ConfusionMatrix\n",
            " |  \n",
            " |  evaluate(*args, **kwargs)\n",
            " |      @deprecated: Use accuracy(gold) instead.\n",
            " |  \n",
            " |  evaluate_per_tag(self, gold, alpha=0.5, truncate=None, sort_by_count=False)\n",
            " |      Tabulate the **recall**, **precision** and **f-measure**\n",
            " |      for each tag from ``gold`` or from running ``tag`` on the tokenized\n",
            " |      sentences from ``gold``.\n",
            " |      \n",
            " |      >>> from nltk.tag import PerceptronTagger\n",
            " |      >>> from nltk.corpus import treebank\n",
            " |      >>> tagger = PerceptronTagger()\n",
            " |      >>> gold_data = treebank.tagged_sents()[:10]\n",
            " |      >>> print(tagger.evaluate_per_tag(gold_data))\n",
            " |         Tag | Prec.  | Recall | F-measure\n",
            " |      -------+--------+--------+-----------\n",
            " |          '' | 1.0000 | 1.0000 | 1.0000\n",
            " |           , | 1.0000 | 1.0000 | 1.0000\n",
            " |      -NONE- | 0.0000 | 0.0000 | 0.0000\n",
            " |           . | 1.0000 | 1.0000 | 1.0000\n",
            " |          CC | 1.0000 | 1.0000 | 1.0000\n",
            " |          CD | 0.7143 | 1.0000 | 0.8333\n",
            " |          DT | 1.0000 | 1.0000 | 1.0000\n",
            " |          EX | 1.0000 | 1.0000 | 1.0000\n",
            " |          IN | 0.9167 | 0.8800 | 0.8980\n",
            " |          JJ | 0.8889 | 0.8889 | 0.8889\n",
            " |         JJR | 0.0000 | 0.0000 | 0.0000\n",
            " |         JJS | 1.0000 | 1.0000 | 1.0000\n",
            " |          MD | 1.0000 | 1.0000 | 1.0000\n",
            " |          NN | 0.8000 | 0.9333 | 0.8615\n",
            " |         NNP | 0.8929 | 1.0000 | 0.9434\n",
            " |         NNS | 0.9500 | 1.0000 | 0.9744\n",
            " |         POS | 1.0000 | 1.0000 | 1.0000\n",
            " |         PRP | 1.0000 | 1.0000 | 1.0000\n",
            " |        PRP$ | 1.0000 | 1.0000 | 1.0000\n",
            " |          RB | 0.4000 | 1.0000 | 0.5714\n",
            " |         RBR | 1.0000 | 0.5000 | 0.6667\n",
            " |          RP | 1.0000 | 1.0000 | 1.0000\n",
            " |          TO | 1.0000 | 1.0000 | 1.0000\n",
            " |          VB | 1.0000 | 1.0000 | 1.0000\n",
            " |         VBD | 0.8571 | 0.8571 | 0.8571\n",
            " |         VBG | 1.0000 | 0.8000 | 0.8889\n",
            " |         VBN | 1.0000 | 0.8000 | 0.8889\n",
            " |         VBP | 1.0000 | 1.0000 | 1.0000\n",
            " |         VBZ | 1.0000 | 1.0000 | 1.0000\n",
            " |         WDT | 0.0000 | 0.0000 | 0.0000\n",
            " |          `` | 1.0000 | 1.0000 | 1.0000\n",
            " |      <BLANKLINE>\n",
            " |      \n",
            " |      :param gold: The list of tagged sentences to score the tagger on.\n",
            " |      :type gold: list(list(tuple(str, str)))\n",
            " |      :param alpha: Ratio of the cost of false negative compared to false\n",
            " |          positives, as used in the f-measure computation. Defaults to 0.5,\n",
            " |          where the costs are equal.\n",
            " |      :type alpha: float\n",
            " |      :param truncate: If specified, then only show the specified\n",
            " |          number of values.  Any sorting (e.g., sort_by_count)\n",
            " |          will be performed before truncation. Defaults to None\n",
            " |      :type truncate: int, optional\n",
            " |      :param sort_by_count: Whether to sort the outputs on number of\n",
            " |          occurrences of that tag in the ``gold`` data, defaults to False\n",
            " |      :type sort_by_count: bool, optional\n",
            " |      :return: A tabulated recall, precision and f-measure string\n",
            " |      :rtype: str\n",
            " |  \n",
            " |  f_measure(self, gold, alpha=0.5)\n",
            " |      Compute the f-measure for each tag from ``gold`` or from running ``tag``\n",
            " |      on the tokenized sentences from ``gold``. Then, return the dictionary\n",
            " |      with mappings from tag to f-measure. The f-measure is the harmonic mean\n",
            " |      of the ``precision`` and ``recall``, weighted by ``alpha``.\n",
            " |      In particular, given the precision *p* and recall *r* defined by:\n",
            " |      \n",
            " |      - *p* = true positive / (true positive + false negative)\n",
            " |      - *r* = true positive / (true positive + false positive)\n",
            " |      \n",
            " |      The f-measure is:\n",
            " |      \n",
            " |      - *1/(alpha/p + (1-alpha)/r)*\n",
            " |      \n",
            " |      With ``alpha = 0.5``, this reduces to:\n",
            " |      \n",
            " |      - *2pr / (p + r)*\n",
            " |      \n",
            " |      :param gold: The list of tagged sentences to score the tagger on.\n",
            " |      :type gold: list(list(tuple(str, str)))\n",
            " |      :param alpha: Ratio of the cost of false negative compared to false\n",
            " |          positives. Defaults to 0.5, where the costs are equal.\n",
            " |      :type alpha: float\n",
            " |      :return: A mapping from tags to precision\n",
            " |      :rtype: Dict[str, float]\n",
            " |  \n",
            " |  precision(self, gold)\n",
            " |      Compute the precision for each tag from ``gold`` or from running ``tag``\n",
            " |      on the tokenized sentences from ``gold``. Then, return the dictionary\n",
            " |      with mappings from tag to precision. The precision is defined as:\n",
            " |      \n",
            " |      - *p* = true positive / (true positive + false negative)\n",
            " |      \n",
            " |      :param gold: The list of tagged sentences to score the tagger on.\n",
            " |      :type gold: list(list(tuple(str, str)))\n",
            " |      :return: A mapping from tags to precision\n",
            " |      :rtype: Dict[str, float]\n",
            " |  \n",
            " |  recall(self, gold) -> Dict[str, float]\n",
            " |      Compute the recall for each tag from ``gold`` or from running ``tag``\n",
            " |      on the tokenized sentences from ``gold``. Then, return the dictionary\n",
            " |      with mappings from tag to recall. The recall is defined as:\n",
            " |      \n",
            " |      - *r* = true positive / (true positive + false positive)\n",
            " |      \n",
            " |      :param gold: The list of tagged sentences to score the tagger on.\n",
            " |      :type gold: list(list(tuple(str, str)))\n",
            " |      :return: A mapping from tags to recall\n",
            " |      :rtype: Dict[str, float]\n",
            " |  \n",
            " |  tag_sents(self, sentences)\n",
            " |      Apply ``self.tag()`` to each element of *sentences*.  I.e.::\n",
            " |      \n",
            " |          return [self.tag(sent) for sent in sentences]\n",
            " |  \n",
            " |  ----------------------------------------------------------------------\n",
            " |  Data descriptors inherited from nltk.tag.api.TaggerI:\n",
            " |  \n",
            " |  __dict__\n",
            " |      dictionary for instance variables (if defined)\n",
            " |  \n",
            " |  __weakref__\n",
            " |      list of weak references to the object (if defined)\n",
            "\n"
          ]
        }
      ],
      "source": [
        "help(nltk.AffixTagger)"
      ]
    },
    {
      "cell_type": "code",
      "source": [
        "nltk.download('brown')"
      ],
      "metadata": {
        "colab": {
          "base_uri": "https://localhost:8080/"
        },
        "id": "EdsQl6WJgvUx",
        "outputId": "878ff893-f06b-4150-ba8e-3a6de1cc30b5"
      },
      "execution_count": null,
      "outputs": [
        {
          "output_type": "stream",
          "name": "stderr",
          "text": [
            "[nltk_data] Downloading package brown to /root/nltk_data...\n",
            "[nltk_data]   Unzipping corpora/brown.zip.\n"
          ]
        },
        {
          "output_type": "execute_result",
          "data": {
            "text/plain": [
              "True"
            ]
          },
          "metadata": {},
          "execution_count": 5
        }
      ]
    },
    {
      "cell_type": "code",
      "source": [
        "brown_tagged_sents = nltk.corpus.brown.tagged_sents(categories='news')\n",
        "brown_sents = nltk.corpus.brown.sents(categories='news')"
      ],
      "metadata": {
        "id": "VL-Z5mY5gn_o"
      },
      "execution_count": null,
      "outputs": []
    },
    {
      "cell_type": "code",
      "source": [
        "def affix_tagger(size):\n",
        "    affix_tagger = nltk.AffixTagger(brown_tagged_sents, affix_length=size)\n",
        "    accuracy = affix_tagger.evaluate(brown_tagged_sents)\n",
        "    return accuracy"
      ],
      "metadata": {
        "id": "THhJluG9g600"
      },
      "execution_count": null,
      "outputs": []
    },
    {
      "cell_type": "code",
      "source": [
        "sizes = [0,1,2,3,4]\n",
        "for size in sizes:\n",
        "    acc = affix_tagger(size)\n",
        "    print(f\"Affix size: {size}, Accuracy: {acc}\")"
      ],
      "metadata": {
        "colab": {
          "base_uri": "https://localhost:8080/"
        },
        "id": "DWyW_ASChcfT",
        "outputId": "02f86c70-da37-4b49-bf14-35783d617547"
      },
      "execution_count": null,
      "outputs": [
        {
          "output_type": "stream",
          "name": "stderr",
          "text": [
            "<ipython-input-7-4178bca3eb6f>:3: DeprecationWarning: \n",
            "  Function evaluate() has been deprecated.  Use accuracy(gold)\n",
            "  instead.\n",
            "  accuracy = affix_tagger.evaluate(brown_tagged_sents)\n"
          ]
        },
        {
          "output_type": "stream",
          "name": "stdout",
          "text": [
            "Affix size: 0, Accuracy: 0.8098335222865326\n",
            "Affix size: 1, Accuracy: 0.27599100980567653\n",
            "Affix size: 2, Accuracy: 0.23570419873898601\n",
            "Affix size: 3, Accuracy: 0.22358135926964617\n",
            "Affix size: 4, Accuracy: 0.19615331065894942\n"
          ]
        }
      ]
    },
    {
      "cell_type": "markdown",
      "source": [
        "I have taken [0,1,2,3,4] sizes for the affix tagger sizes and from the results, the accuracies decreases with the increase in the lengths. With the size=0 having the highest accuracy of 0.80, and the values drop drastically to 0.27 for size=1."
      ],
      "metadata": {
        "id": "UPO4WBCnikC6"
      }
    },
    {
      "cell_type": "markdown",
      "source": [
        "#14"
      ],
      "metadata": {
        "id": "kR1bbpImr1vv"
      }
    },
    {
      "cell_type": "code",
      "source": [
        "words = nltk.corpus.brown.tagged_words()\n",
        "tags = [tag for _, tag in words]\n",
        "\n",
        "final_tags = sorted(set(tags))\n",
        "\n",
        "print(final_tags)"
      ],
      "metadata": {
        "colab": {
          "base_uri": "https://localhost:8080/"
        },
        "id": "WZi0azdKr4lo",
        "outputId": "37d42b69-38ff-4cfd-8af9-5847c56db7d6"
      },
      "execution_count": null,
      "outputs": [
        {
          "output_type": "stream",
          "name": "stdout",
          "text": [
            "[\"'\", \"''\", '(', '(-HL', ')', ')-HL', '*', '*-HL', '*-NC', '*-TL', ',', ',-HL', ',-NC', ',-TL', '--', '---HL', '.', '.-HL', '.-NC', '.-TL', ':', ':-HL', ':-TL', 'ABL', 'ABN', 'ABN-HL', 'ABN-NC', 'ABN-TL', 'ABX', 'AP', 'AP$', 'AP+AP-NC', 'AP-HL', 'AP-NC', 'AP-TL', 'AT', 'AT-HL', 'AT-NC', 'AT-TL', 'AT-TL-HL', 'BE', 'BE-HL', 'BE-TL', 'BED', 'BED*', 'BED-NC', 'BEDZ', 'BEDZ*', 'BEDZ-HL', 'BEDZ-NC', 'BEG', 'BEM', 'BEM*', 'BEM-NC', 'BEN', 'BEN-TL', 'BER', 'BER*', 'BER*-NC', 'BER-HL', 'BER-NC', 'BER-TL', 'BEZ', 'BEZ*', 'BEZ-HL', 'BEZ-NC', 'BEZ-TL', 'CC', 'CC-HL', 'CC-NC', 'CC-TL', 'CC-TL-HL', 'CD', 'CD$', 'CD-HL', 'CD-NC', 'CD-TL', 'CD-TL-HL', 'CS', 'CS-HL', 'CS-NC', 'CS-TL', 'DO', 'DO*', 'DO*-HL', 'DO+PPSS', 'DO-HL', 'DO-NC', 'DO-TL', 'DOD', 'DOD*', 'DOD*-TL', 'DOD-NC', 'DOZ', 'DOZ*', 'DOZ*-TL', 'DOZ-HL', 'DOZ-TL', 'DT', 'DT$', 'DT+BEZ', 'DT+BEZ-NC', 'DT+MD', 'DT-HL', 'DT-NC', 'DT-TL', 'DTI', 'DTI-HL', 'DTI-TL', 'DTS', 'DTS+BEZ', 'DTS-HL', 'DTX', 'EX', 'EX+BEZ', 'EX+HVD', 'EX+HVZ', 'EX+MD', 'EX-HL', 'EX-NC', 'FW-*', 'FW-*-TL', 'FW-AT', 'FW-AT+NN-TL', 'FW-AT+NP-TL', 'FW-AT-HL', 'FW-AT-TL', 'FW-BE', 'FW-BER', 'FW-BEZ', 'FW-CC', 'FW-CC-TL', 'FW-CD', 'FW-CD-TL', 'FW-CS', 'FW-DT', 'FW-DT+BEZ', 'FW-DTS', 'FW-HV', 'FW-IN', 'FW-IN+AT', 'FW-IN+AT-T', 'FW-IN+AT-TL', 'FW-IN+NN', 'FW-IN+NN-TL', 'FW-IN+NP-TL', 'FW-IN-TL', 'FW-JJ', 'FW-JJ-NC', 'FW-JJ-TL', 'FW-JJR', 'FW-JJT', 'FW-NN', 'FW-NN$', 'FW-NN$-TL', 'FW-NN-NC', 'FW-NN-TL', 'FW-NN-TL-NC', 'FW-NNS', 'FW-NNS-NC', 'FW-NNS-TL', 'FW-NP', 'FW-NP-TL', 'FW-NPS', 'FW-NPS-TL', 'FW-NR', 'FW-NR-TL', 'FW-OD-NC', 'FW-OD-TL', 'FW-PN', 'FW-PP$', 'FW-PP$-NC', 'FW-PP$-TL', 'FW-PPL', 'FW-PPL+VBZ', 'FW-PPO', 'FW-PPO+IN', 'FW-PPS', 'FW-PPSS', 'FW-PPSS+HV', 'FW-QL', 'FW-RB', 'FW-RB+CC', 'FW-RB-TL', 'FW-TO+VB', 'FW-UH', 'FW-UH-NC', 'FW-UH-TL', 'FW-VB', 'FW-VB-NC', 'FW-VB-TL', 'FW-VBD', 'FW-VBD-TL', 'FW-VBG', 'FW-VBG-TL', 'FW-VBN', 'FW-VBZ', 'FW-WDT', 'FW-WPO', 'FW-WPS', 'HV', 'HV*', 'HV+TO', 'HV-HL', 'HV-NC', 'HV-TL', 'HVD', 'HVD*', 'HVD-HL', 'HVG', 'HVG-HL', 'HVN', 'HVZ', 'HVZ*', 'HVZ-NC', 'HVZ-TL', 'IN', 'IN+IN', 'IN+PPO', 'IN-HL', 'IN-NC', 'IN-TL', 'IN-TL-HL', 'JJ', 'JJ$-TL', 'JJ+JJ-NC', 'JJ-HL', 'JJ-NC', 'JJ-TL', 'JJ-TL-HL', 'JJ-TL-NC', 'JJR', 'JJR+CS', 'JJR-HL', 'JJR-NC', 'JJR-TL', 'JJS', 'JJS-HL', 'JJS-TL', 'JJT', 'JJT-HL', 'JJT-NC', 'JJT-TL', 'MD', 'MD*', 'MD*-HL', 'MD+HV', 'MD+PPSS', 'MD+TO', 'MD-HL', 'MD-NC', 'MD-TL', 'NIL', 'NN', 'NN$', 'NN$-HL', 'NN$-TL', 'NN+BEZ', 'NN+BEZ-TL', 'NN+HVD-TL', 'NN+HVZ', 'NN+HVZ-TL', 'NN+IN', 'NN+MD', 'NN+NN-NC', 'NN-HL', 'NN-NC', 'NN-TL', 'NN-TL-HL', 'NN-TL-NC', 'NNS', 'NNS$', 'NNS$-HL', 'NNS$-NC', 'NNS$-TL', 'NNS$-TL-HL', 'NNS+MD', 'NNS-HL', 'NNS-NC', 'NNS-TL', 'NNS-TL-HL', 'NNS-TL-NC', 'NP', 'NP$', 'NP$-HL', 'NP$-TL', 'NP+BEZ', 'NP+BEZ-NC', 'NP+HVZ', 'NP+HVZ-NC', 'NP+MD', 'NP-HL', 'NP-NC', 'NP-TL', 'NP-TL-HL', 'NPS', 'NPS$', 'NPS$-HL', 'NPS$-TL', 'NPS-HL', 'NPS-NC', 'NPS-TL', 'NR', 'NR$', 'NR$-TL', 'NR+MD', 'NR-HL', 'NR-NC', 'NR-TL', 'NR-TL-HL', 'NRS', 'NRS-TL', 'OD', 'OD-HL', 'OD-NC', 'OD-TL', 'PN', 'PN$', 'PN+BEZ', 'PN+HVD', 'PN+HVZ', 'PN+MD', 'PN-HL', 'PN-NC', 'PN-TL', 'PP$', 'PP$$', 'PP$-HL', 'PP$-NC', 'PP$-TL', 'PPL', 'PPL-HL', 'PPL-NC', 'PPL-TL', 'PPLS', 'PPO', 'PPO-HL', 'PPO-NC', 'PPO-TL', 'PPS', 'PPS+BEZ', 'PPS+BEZ-HL', 'PPS+BEZ-NC', 'PPS+HVD', 'PPS+HVZ', 'PPS+MD', 'PPS-HL', 'PPS-NC', 'PPS-TL', 'PPSS', 'PPSS+BEM', 'PPSS+BER', 'PPSS+BER-N', 'PPSS+BER-NC', 'PPSS+BER-TL', 'PPSS+BEZ', 'PPSS+BEZ*', 'PPSS+HV', 'PPSS+HV-TL', 'PPSS+HVD', 'PPSS+MD', 'PPSS+MD-NC', 'PPSS+VB', 'PPSS-HL', 'PPSS-NC', 'PPSS-TL', 'QL', 'QL-HL', 'QL-NC', 'QL-TL', 'QLP', 'RB', 'RB$', 'RB+BEZ', 'RB+BEZ-HL', 'RB+BEZ-NC', 'RB+CS', 'RB-HL', 'RB-NC', 'RB-TL', 'RBR', 'RBR+CS', 'RBR-NC', 'RBT', 'RN', 'RP', 'RP+IN', 'RP-HL', 'RP-NC', 'RP-TL', 'TO', 'TO+VB', 'TO-HL', 'TO-NC', 'TO-TL', 'UH', 'UH-HL', 'UH-NC', 'UH-TL', 'VB', 'VB+AT', 'VB+IN', 'VB+JJ-NC', 'VB+PPO', 'VB+RP', 'VB+TO', 'VB+VB-NC', 'VB-HL', 'VB-NC', 'VB-TL', 'VBD', 'VBD-HL', 'VBD-NC', 'VBD-TL', 'VBG', 'VBG+TO', 'VBG-HL', 'VBG-NC', 'VBG-TL', 'VBN', 'VBN+TO', 'VBN-HL', 'VBN-NC', 'VBN-TL', 'VBN-TL-HL', 'VBN-TL-NC', 'VBZ', 'VBZ-HL', 'VBZ-NC', 'VBZ-TL', 'WDT', 'WDT+BER', 'WDT+BER+PP', 'WDT+BEZ', 'WDT+BEZ-HL', 'WDT+BEZ-NC', 'WDT+BEZ-TL', 'WDT+DO+PPS', 'WDT+DOD', 'WDT+HVZ', 'WDT-HL', 'WDT-NC', 'WP$', 'WPO', 'WPO-NC', 'WPO-TL', 'WPS', 'WPS+BEZ', 'WPS+BEZ-NC', 'WPS+BEZ-TL', 'WPS+HVD', 'WPS+HVZ', 'WPS+MD', 'WPS-HL', 'WPS-NC', 'WPS-TL', 'WQL', 'WQL-TL', 'WRB', 'WRB+BER', 'WRB+BEZ', 'WRB+BEZ-TL', 'WRB+DO', 'WRB+DOD', 'WRB+DOD*', 'WRB+DOZ', 'WRB+IN', 'WRB+MD', 'WRB-HL', 'WRB-NC', 'WRB-TL', '``']\n"
          ]
        }
      ]
    },
    {
      "cell_type": "markdown",
      "source": [
        "#15"
      ],
      "metadata": {
        "id": "R94jprsbsHqc"
      }
    },
    {
      "cell_type": "markdown",
      "source": [
        "a)"
      ],
      "metadata": {
        "id": "62QCDBnMtnSS"
      }
    },
    {
      "cell_type": "code",
      "source": [
        "singular_nouns = set(word.lower() for (word, tag) in nltk.corpus.brown.tagged_words() if tag == 'NN')"
      ],
      "metadata": {
        "id": "WJChSIiptobO"
      },
      "execution_count": null,
      "outputs": []
    },
    {
      "cell_type": "code",
      "source": [
        "plural_nouns = set([word.lower() for (word, tag) in nltk.corpus.brown.tagged_words() if tag == 'NNS'])"
      ],
      "metadata": {
        "id": "7XR5-i14vq6B"
      },
      "execution_count": null,
      "outputs": []
    },
    {
      "cell_type": "code",
      "source": [
        "common_nouns=[]\n",
        "for plural in plural_nouns:\n",
        "    singular = plural[:-1]\n",
        "    if singular not in singular_nouns:\n",
        "        common_nouns.append(plural)"
      ],
      "metadata": {
        "id": "bguQ6swawm8M"
      },
      "execution_count": null,
      "outputs": []
    },
    {
      "cell_type": "code",
      "source": [
        "print(len(common_nouns))\n",
        "print(common_nouns)"
      ],
      "metadata": {
        "colab": {
          "base_uri": "https://localhost:8080/"
        },
        "id": "vbPi-28nw4qY",
        "outputId": "acbda5f6-d6af-4937-a1f9-d7ed3323d74c"
      },
      "execution_count": null,
      "outputs": [
        {
          "output_type": "stream",
          "name": "stdout",
          "text": [
            "2655\n",
            "['flips', '$4,500', 'retainers', 'pompons', '$4,000,000', 'sportsmen', 'niceties', 'cosmologists', 'subfigures', 'nuclei', 'constituencies', 'celebrants', 'tree-clumps', 'life-contracts', 'deputies', 'barflies', 'pods', 'halogens', 'thirties', 'worries', 'successors-in-spirit', 'grinders', '$720', 'stinkpotters', 'rights-of-way', 'overshoes', 'buffaloes', 'frequencies', 'swathings', 'hobbies', 'manipulators', '$7.20', 'lasses', 'fishes', 'tenths', 'chilblains', '$17,000,000', 'spandrels', 'archangels', 'therapies', 'near-communists', 'buckaroos', 'snowflakes', '$2,300', 'sulks', \"2'\", 'green-bugs', 'racists', 'soapsuds', 'foxholes', 'grass-roots', 'mutterers', 'youth', 'orthographies', 'pixies', 'appraisers', 'termini', '$5.4', '$65', 'copings', '$650', 'non-publishers', '$133', '$300,000,000', 'phonemes', 'compulsives', 'admonishments', 'heroes', 'accessories', 'deformities', 'conspiracies', 'juries', '$25,000', 'numerals', '200-degrees', 'sub-chiefs', 'trobles', 'leavings', 'beasties', 'brunches', 'shingles', '59-cents', 'cc.', 'fritters', 'dictionaries', '$3', 'suffixes', 'tumours', 'peptidases', 'immoralities', 'saucers', 'probabilities', 'officeholders', \"'40's\", 'gavottes', 'honkytonks', 'parakeets', \"mid-1960's\", '$115,000', 'winches', 'heretics', 'sixties', 'catches', '$4,700', 'philantropists', 'comas', 'hallelujahs', 'lock-outs', 'hi-graders', 'nibblers', '$3.50', 'motorscooters', 'fingerings', 'vocabularies', 'alveoli', 'bullwhackers', 'reefs', 'serfs', 'communiques', 'prosodies', 'non-residents', '-20-degrees', 'crabs', 'camellias', 'anomalies', 'tithes', 'malignancies', 'tendons', 'marquees', 'admirals', 'suds', 'vacationers', 'windowpanes', 'gray-backs', 'lethargies', 'rushes', 'persimmons', 'krautheads', 'nerve-ends', 'eyelets', 'af-values', 'skinfolds', '$8.00', 'simplicities', 'ciliates', 'sidearms', 'facet-planes', 'campuses', 'grasses', 'studies', 'trumps', 'heavers', 'barnsful', 'bobbins', 'pellets', '$4.98', 'ironies', 'mid-thirties', 'parimutuels', 'wolves', 'selectors', 'toe-tips', 'despoilers', 'prefixes', 'withes', 'monochromes', \"'20's\", 'toughs', 'waffles', 'families', 'clutches', 'earphones', 'mortals', '$500', 'alumnae', 'swimmers', 'drapes', 'redactions', 'luminaries', 'policies', 'policemen', 'beaches', 'muggers', 'churchgoers', 'crofters', 'figs.', 'flame-throwers', 'knife-men', '$350', 'aqueducts', 'tropics', 'gunmen', 'boos', 'wiles', 're-runs', 'sundials', 'classes', 'idiocies', 'brambles', 'thanks', 'libertarians', 'nighters', 'contraceptives', 'bibles', 'walkways', 'pesticides', 'suppositions', 'retrogradations', 'powers-that-be', 'conferees', 'rapists', 'tines', 'requesters', '$85,000', '$12.1', 'worshippers', 'vagaries', 'theories', 'brewers', 'crossbars', 'escapees', 'prayer-requests', 'misinterpreters', '$1,276', 'loaves', 'boatmen', '$1,450,000,000', '120-degrees', 'atrocities', 'choruses', 'pipers', '$740', 'debs', 'sinews', 'dicks', 'champs', '$900', 'programmes', 'bromides', 'crinkles', 'spirituals', '$3.11', 'layoffs', 'vibes', 'factories', 'momentoes', 'technicalities', 'snapdragons', 'forebears', '$135', \"3-3/4''\", 'crayons', 'coworkers', 'cabinetmakers', 'rafters', 'half-bottles', '$6,100,000,000', 'countrymen', 'pistoleers', 'two-inches', 'scissors', 'anionics', 'groupings', '140-degrees-f', 'waitresses', 'mailboxes', '$14,000', 'condolences', 'exploiters', 'besiegers', 'fellow-craftsmen', 'bellhops', 'dispatches', 'outlanders', 'operagoers', 'perfectionists', 'thrombi', 'divinities', 'neutrophils', '$.07', 'consderations', 'riflemen', 'homosexuals', '$.86', 'philologists', 'contestants', 'battlements', 'megalopolises', 'periscopes', 'arrowheads', 'trophies', 'offences', '$500,000', 'bear', 'offensives', 'rosettes', 'media', 'vanities', 'breakables', '$2.09', 'volts', 'coeditors', 'statesmen', '$278,877,000', 'hundreds', 'sidemen', 'babies', 'aerials', 'offersey', 'anxieties', 'life-preservers', 'skirmishes', '$110', 'lacerations', 'memories', 'hypotheses', 'mastodons', 'counties', 'beets', 'bluefish', 'carcasses', 'miseries', 'heavy-electrical-goods', 'asterisks', 'dollies', 'extravaganzas', 'universals', 'jibes', 'crises', 'tirades', '$50,400,000', 'subgroups', 'extras', 'passes', 'potters', 'sippers', 'embroideries', 'acrobats', \"'60s\", 'sweat-suits', \"1930's\", 'seed-pods', 'cinches', 'incidentals', 'spoils', 'togs', 'dresses', 'disabilities', 'cattle', 'nipples', 'ashes', 'beat', 'radii', 'electors', 'snivelings', 'properties', 'shortcomings', 'tenets', 'trespasses', 'rosaries', \"1700's\", '$5000', 'diehards', '$1.65', 'inholdings', 'women', 'jerkings', 'pretensions', 'shouders', 'shucks', 'booklists', 'stimuli', 'gaiters', 'cartels', 'hopples', 'homopolymers', 'firemen', '$600', 'denominators', '$100,000', 'folksongs', 'geese', 'torches', 'buffalo', '325-degrees-c', '337-degrees-c', 'many-times', 'superhighways', 'cherubim', 'bellwethers', 'galleries', 'spewings', 'crags', 'knives', 'wharves', '$128', 'shopkeepers', 'blasphemies', 'fishers', 'goodies', 'potions', 'homebuilders', 'gypsies', '$187', 'approaches', 'fifteen-sixteenths', 'depravities', 'coachmen', 'servicemen', 'hypocrisies', 'teratologies', 'diatoms', 'tubules', 'inroads', 'gluttons', 'simples', 'persuaders', 'fords', 'microns', \"1950's\", 'boatyards', '$227.72', 'dregs', 'petals', 'ringers', 'rhetoricians', 'memorabilia', 'patches', 'buggers', 'rubies', 'tubers', 'underclothes', '$10.8', 'ideologies', 'tapestries', 'envoys', 'hostesses', '294-degrees-k', 'thousands', 'runes', 'eyelashes', 'fireworks', 'chines', 'mobcaps', 'bloodhounds', 'analogies', 'davits', 'patisseries', 'royalties', '$581,000', 'counter-moves', '$84,000,000', 'gashes', 'stepladders', 'men-of-war', 'crystallographers', 'theoriticians', 'prowlers', 'depredations', 'nos', 'messes', 'boors', 'scapulars', 'inhabitants', 'porcupines', \"1800's\", 'signers', 'cantilevers', '$12,192,865', \"1920's\", 'macrophages', 'eardrums', 'vestments', 'supplies', '$22.50', 'people', 'spenders', \"2-3/4''\", 'phagocytes', 'preliminaries', 'strippers', 'munitions', 'nonshifters', '$230,000', 'transfusions', 'dipoles', 'cherries', 'colonials', 'raindrops', 'bonzes', 'actresses', 'semi-abstractions', 'diaries', 'birches', 'churchmen', 'racers', 'revolutionists', 'delicacies', \"9'\", 'cannon', 'sightseers', 'kisses', 'lymphocytes', 'wash-outs', 'interstices', 'geniuses', 'collegians', 'buttresses', 'leopards', 'cities', 'bricklayers', 'periwinkles', 'wales', '$3,500', '$43,000', 'adulterers', 'wins', '-78-degrees', 'moderns', 'self-plagiarisms', 'dioramas', 'misunderstanders', 'classifiers', 'confines', 'pinholes', 'iodotyrosines', 'condicions', 'cavalrymen', 'peppermints', 'quarrymen', 'forefeet', 'saddlebags', 'thickeners', '$610', 'restorers', 'menfolk', 'fungicides', 'fillies', 'twenties', 'abstrusenesses', '220-degrees', 'subtleties', 'fatalities', '$90', '$3.22', '$45', 'asters', 'lesbians', 'censors', '$4,500,000', 'botanists', 'butterflies', 'pleats', 'pheasants', 'craftsmen', 'corollaries', 'babes', 'palindromes', 'samplers', 'waterflows', '$29,000', 'freewheelers', 'fantods', 'nubbins', 'homesteaders', '$12.7', 'talons', 'committeemen', 'rigids', 'kob', 'half-moons', 'secretaries', 'imaginings', 'provocateurs', 'fraternities', 'snuffboxes', 'spores', 'categories', 'skeptics', 'excesses', 'prognoses', '$35,823', 'countries', 'clinches', 'subterfuges', 'fathoms', '$4,753', 'wrestlings', 'symphonies', 'holystones', 'mementoes', '$634,517,000', 'arpeggios', 'stirups', 'importunities', 'quivers', 'centuries', 'impurities', 'millennia', 'obsequies', 'chroniclers', 'geographers', 'oases', 'churches', 'overnighters', 'houseboats', 'fanatics', \"24''\", 'fall-outs', 'morticians', 'subspecies', 'selves', 'lentils', 'sympathies', 'cavalcades', 'glasses', 'successes', '90-degrees-f', '$3,825', 'speckles', 'enforcers', 'biopsies', 'soddies', '$1,390', 'sweepstakes', 'tries', 'prosceniums', 'confreres', '$139.3', 'internationalists', 'purchasers', 'reams', 'myofibrillae', 'series', 'sheep', 'puddings', 'routings', 'eaters', 'filmstrips', 'dentures', 'timberlands', 'fauna', 'affidavits', 'picture-images', 'lenses', 'contingencies', 'fellow-creatures', 'indentations', '$60,000', 'sweepings', 'lairs', 'lowlands', 'cannibals', 'australites', 'demagogues', 'cudgels', 'alkylbenzenesulfonates', 'annals', 'mosquitoes', 'quantities', 'offspring', 'ladies', 'gripes', 'doers', 'spectra', 'librettists', 'commentaries', 'soothsayers', 'firehouses', 'amphetamines', 'pessimists', 'cynics', 'bogeymen', \"'50's\", 'companies', 'captors', 'grants-in-aid', 'losses', 'housewives', 'romancers', '$55,000', 'panthers', 'tallies', 'share-holders', 'inadequacies', 'dealerships', 'sphynxes', 'strongrooms', 'whiplashes', 'price-earnings', '90-degrees', 'what-nots', 'lbs.', 'girders', 'thrillers', 'forepaws', '$1,200', '$325', 'allergies', 'extremities', 'whitetail', 'slave-owners', 'newsmen', 'ranches', 'copybooks', 'frescoes', 'tits', 'appendages', 'plowshares', 'braids', 'archaeologists', 'tellers', 'diluents', 'velocities', 'well-wishers', 'sequins', 'hero-worshippers', 'parodies', 'ceremonies', 'incendiaries', '1950s', '110-degrees-c', 'drafters', 'lise', 'caucuses', \"'thirties\", 'diagnosticians', 'lighthouses', 'parishes', 'treetops', '37-degrees', 'stresses', 'miscellanies', 'reflexes', 'forecasters', '$842,617', 'hooves', 'eqns.', 'first-families', 'magpies', 'bosses', 'forbears', 'cross-striations', 'montmorillonites', 'weeds', 'cloisters', 'panaceas', 'jew-haters', 'contrarieties', 'lashes', 'tsunami', 'peaches', 'devotees', 'haberdasheries', 'anthems', 'captions', 'drovers', 'spring-joints', 'wraps', 'fixations', '109-degrees-f', 'mice', 'compresses', 'non-conformists', 'blebs', 'declinations', '$43.50', '$73.50', 'out-migrants', 'kilts', 'glanders', 'primaries', 'spoilables', 'separators', '$9.50', 'intermediates', '$8,313,514', '$250', 'parings', 'combustibles', 'cloakrooms', 'artifacts', 'whiskers', 'noisemakers', 'seafarers', 'handymen', 'eies', 'trusses', 'grassers', 'inhumanities', 'insomniacs', 'comedies', 'abnormalities', 'schnooks', \"7''\", 'innocents', 'honeymooners', 'whoppers', 'fleas', 'ward-personnel', 'fangs', '$310', 'bikinis', 'peculiarities', 'scenics', 'armies', 'flashes', 'yachtsmen', 'commoners', 'requisites', 'terrorists', 'polities', 'brethren', 'soldier-masters', \"70's\", 'winos', '$18.2', 'paterollers', 'backwoods', 'bodies', 'three-fifths', 'warys', 'dishes', 'rangelands', 'genes', 'nineties', 'flies', 'crudities', '$40,000,000', 'men-folk', 'headlights', 'soyaburgers', 'slashes', 'airdrops', 'trellises', 'laymen', 'urgings', \"12''\", '$39.5', 'wives', 'two-weeks', '$8.5', 'exigencies', 'extendibles', 'crackers', 'eyeteeth', '$125', 'headstones', 'down-payments', 'tradesmen', 'cameramen', '$639', 'rivalries', 'duties', 'neuroses', 'milliamperes/cell', 'potatoes', '$8.50', 'treaties', 'inevitabilities', 'feelers', 'hindrances', 'senders', 'upholders', 'medics', 'plain-clothesmen', 'follies', 'seventies', 'tidings', 'cobwebs', '$24,926,615', 'guidelines', 'poems-in-drawing-and-type', 'closeups', 'blueberries', 'branches', 'stabilizers', '1940s', 'junkies', 'furlongs', 'hackers', 'flash-bulbs', 'hattes', '$1,750,000', 'sandbars', 'cavemen', 'riflemen-rangers', 'municipalities', 'bluebonnets', 'theses', 'docters', 'fens', 'capabilities', '$7,082', 'crosses', 'lieder', 'primates', '$10,000', 'vouchers', 'evolutionists', 'toadies', 'fixers', '105-degrees', 'eye-beamings', 'nigras', 'sec.', \"3.25''\", 'plazas', 'climes', 'lay-offs', 'injuries', 'marshmallows', 'groomsmen', 'discrepancies', 'livres', 'smugglers', 'tongs', 'anarchist-adventurers', 'sallies', 'ministrations', '37-degrees-c', 'fluctuations', 'philanthropies', 'contusions', 'down-and-outers', 'humanities', '$.07/cwt', 'ringsiders', 'stockings', 'yaks', 'woodcutters', 'sexes', 'phyla', 'fortresses', '1930s', '$6,666.66', 'muffins', '$57,500', 'breastworks', 'non-objects', '$7.50', 'ballgowns', '$1.5', 'prefectures', 'potentialities', 'innuendoes', 'dualities', 'trolls', 'trousers-pockets', '375-degrees-c', 'billows', 'swine', 'blips', 'oystchers', 'entities', 'possiblities', '-20-degrees-c', 'turbinates', 'businesses', '$140', 'cufflinks', 'leggings', 'beneficiaries', 'submariners', 'yachters', 'zlotys', 'sardines', 'chansons', 'theologian-philosophers', 'encomiums', 'witches', 'subpenas', 'grassroots', \"3-1/2''\", '$4,800', 'postulates', 'tutorials', 'circumscriptions', 'irregulars', 'boies', 'blockages', 'stairwells', 'seminarians', 'finishes', 'fishmongers', 'felicities', 'crannies', '$2,000,000', 'exporters', 'patrolmen', 'hangouts', '$81', 'iodothyronines', 'destinies', 'parolees', 'scrapings', 'derails', 'bookshelves', 'urgencies', 'jitters', 'universities', 'calligraphers', 'sinusoids', \"60's\", 'affiliates', '$80', 'pangs', 'pants-legs', 'stunts', 'specifics', 'imitators', '105-degrees-f', 'deities', \"rbi's\", 'oxyhydroxides', 'betties', 'upperclassmen', 'boxes', 'non-books', 'impoundments', 'nullifiers', 'full-sisters', 'spokesmen', '$7,000', 'extrema', 'herons', '$100', 'candies', 'learners', 'pinnings', 'winding-clothes', 'blinkers', 'bedbugs', 'consoles', 'palisades', 'industries', 'witnesses', '20-degrees-c', 'legacies', 'vicissitudes', '1890s', 'stretches', 'pogroms', 'workings', 'contrivances', 'melodies', 'halides', 'kibbutzim', 'marionettes', 'reprints', 'diversities', '$9', 'shackles', 'dynasties', 'fundamentals', 'guesses', 'agates', '$344,000', 'hierarchies', 'possemen', 'jazzmen', 'buses', 'wholesalers', '$2', 'grasshoppers', 'unoriginals', '$3.00', 'bacteria', 'equalizers', '$3,500,000', 'italics', 'remissions', 'motel-keepers', 'lovelies', 'goggles', 'digressions', 'fucks', 'perforations', 'gradations', 'scratches', 'mutations', 'dactyls', 'plunderers', '65-degrees', 'lackeys', 'obscurities', 'arsines', 'chemists', 'securities', 'sub-tests', '$350,000', 'theatricals', '$1.26', 'minarets', '$15,000,000', 'basses', 'non-dramas', \"1860's\", 'privies', 'mussels', 'schoolers', 'tornadoes', 'inheritors', 'humorists', 'cow-people', 'cams', 'pitches', 'oddities', '$580', 'uplands', 'phosphines', 'borderlands', 'postmasters', 'climaxes', 'catecholamines', 'stupidities', 'drunk-and-disorderlies', 'dignitaries', '$2500', 'bleachers', '$2.98', 'inter-relationships', 'availabilities', 'flimsies', 'amines', 'hilltops', 'pundits', '$1.1', 'exhibitors', 'thills', 'apologies', 'invitees', 'incompatibles', 'chemistries', 'harmonies', 'arches', 'stabilities', 'cranberries', '$300', 'corkers', 'disparities', 'boatsmen', 'microfossils', 'shipyards', 'cavities', 'iodocompounds', 'ashtrays', 'bedsprings', '$590,000', 'galaxies', 'dissonances', 'areaways', 'abscesses', 'pouches', 'radiomen', 'sonorities', 'defeatists', 'vandals', 'swatches', 'ex-bandits', 'qualms', 'grottoes', 'holdovers', 'embassies', 'lettermen', 'frontiersmen', '$10.50', '$1,000', 'peoples', 'slurries', 'louvers', '10-degrees', 'acoustics', 'orchids', '$30,000', 'aircraft', 'wetlands', 'bribers', 'ketches', '$63.8', 'secularists', 'sensitives', 'well-springs', 'immediacies', 'headwalls', '$.12', 'chanceries', '$0.9', '$16.80', 'phenomena', 'bobby-sox', 'hosses', '$200,000,000', 'deadheads', 'fracases', '42-degrees-f.', '$28,700,000', 'manhours', 'dervishes', 'gagwriters', 'vacancies', 'boyars', 'deportees', 'misdemeanants', 'strategists', \"30''\", 'screeches', 'boardinghouses', 'aristocrats', 'msec.', 'castanets', 'majorities', 'mc.', 'hirelings', 'erotica', 'shenanigans', 'addressees', '$28.00', 'home-owners', 'salesmen', 'bribes', \"1960's\", 'sprains', 'criteria', '600-degrees', \"'80's\", 'balconies', 'cysts', 'coffers', 'home-comings', 'tonalities', 'memory-images', 'bronchi', '$2,323,867', 'plastisols', 'bestes', 'goal-values', \"48''\", 'antiquities', '85-degrees', 'polarities', 'bathers', 'mothers-in-law', 'line-pairs', 'hackles', 'chocks', 'specialties', '1880s', '$457,000', 'foodstuffs', 'data', 'cowrtiers', 'photofloodlights', '$148.50', 'migrants', 'seagulls', 'therefores', '$14.00', 'subsedies', 'flotillas', 'metalsmiths', 'electives', 'madstones', 'jobs-tears', '$395,000', 'enmities', '$70,000', 'chorines', 'fasciculations', 'yrs.', 'ballards', 'ferries', 'tethers', 'nos.', 'subsidiaries', 'sweetpeas', '$1,250,000', 'sackes', 'inquiries', '$581', 'faculty', 'powerplants', 'inches', '5-degrees-c', 'innovators', 'midshipmen', '$.75', 'pliers', 'auto-loaders', 'balsams', 'analyses', 'fairgoers', 'fingernails', 'cityscapes', 'monies', 'great-nieces', 'reps', 'finger-tips', 'northers', '$18.9', '$40,000', 'tabloids', 'economies', '$165', 'epigrams', '$23,000,000', 'porpoises', 'illnesses', 'burners', 'charlatans', 'ball-carriers', '$2.80', 'bogies', 'egrets', 'novelties', 'imprecations', 'publicists', 'predilections', 'dishwashers', 'controversies', 'oleanders', 'presses', 'strata', '$1.9', 'instalments', 'airmen', '$1.10', '45-degrees', 'neighbours', '$4,177.37', 'peals', 'sandals', '$754', 'accessions', 'corner-posts', 'bifocals', '$185', 'modernists', 'rat-holes', 'indexes', 'busses', 'shelves', 'obituaries', 'localisms', 'turnips', 'ward-heelers', '$2,330,000', 'jeans', 'watchmen', 'monopolies', 'apses', 'wherefores', 'towboats', 'gussets', 'daisies', 'spherules', 'essayists', 'pseudo-questions', 'timers', 'maladies', 'creditors', 'yassuhs', 'handcuffs', 'shards', 'calluses', 'regents', 'sunshades', 'patties', 'intimations', 'buffetings', 'nomias', 'riches', 'firebreaks', 'gassings', 'treasuries', 'value-judgments', 'dollars-and-cents', 'granules', 'dormitories', 'colour-prints', '8-balls', 'accesses', 'paratroopers', '$750,000', 'strictures', 'treacheries', 'dromozoa', 'freight-bums', 'nufs', 'antisera', 'enclaves', 'densities', 'benchmarks', '$750', 'mutants', 'gobblers', 'sororities', '24-degrees', 'relishes', 'kissings', '$16,000', 'washes', 'caskets', 'clothes', 'hardwoods', '$1,000,000,000', 'smithereens', 'brushes', 'redevelopers', '$65,000', 'communities', 'ups', 'ballfields', 'activities', 'by-ways', 'hyacinths', 'lionesses', 'subversives', 'theoreticians', 'sex-manuals', 'droppings', 'teeth', 'heelers', '$5-8,000', 'detours', 'value-problems', 'cross-purposes', '$60', 'tendencies', '$102,285,000', \"1770's\", 'bake-offs', 'curricula', 'capacities', 'workingmen', \"1900's\", 'casters', 'crossroads', 'lashings', '$3100', 'marshes', 'portwatchers', 'lushes', 'hotdogs', 'atheists', 'predictors', 'counter-efforts', 'linebackers', 'toddlers', '$200,000-a-year', 'antics', 'deeps', 'whyfores', 'non-resistants', 'snips', 'aliquots', 'fluxes', 'snapshots', '$7,000,000', 'societies', 'notables', 'mooncursers', 'independents', 'ropers', '$4/mbf', 'lice', 'sachems', 'brutalities', 'mittens', 'chattels', 'vitals', 'moors', 'cofactors', 'lives', 'lays', 'amazons', '$52,500', '$79.89', 'postmen', 'late-comers', '$300,000', 'tepees', 'cartwheels', 'movers', 'repositories', 'memoranda', 'hunches', 'by-laws', '$67,000', 'maggots', 'guiftes', 'gyroscopes', 'pelts', 'fairies', 'casualties', 'polyelectrolytes', 'columbines', 'nooks', 'repercussions', 'catchwords', 'earrings', 'rallies', 'possibilities', 'copolymers', 'bureaucracies', 'enemies', 'tragedians', 'descendents', 'musclemen', 'marshlands', 'ones', '80-degrees-c', 'co-signers', 'adenomas', 'bowels', 'exponents', 'curls', '$2,000', 'enrollees', 'glories', 'fantasies', '$15.5', '410-degrees-c', '$46.7', 'reproducibilities', 'proceeds', 'skunks', 'blowfish', 'religionists', 'cheerleaders', '470-degrees-c', 'visitations', 'sh-ts', 'scholastics', 'distresses', 'peonies', 'odds', 'schoolbooks', 'outs', 'sharpshooters', 'species', '$7.00', 'suspenders', 'condiments', '$75-billion', 'endpoints', 'doormen', 'banquetings', '$20,000', 'jellies', 'cantles', 'sweets', 'calculi', '$1,500,000', 'deer', 'rotogravures', 'mammas', 'kickbacks', 'seamen', 'regalia', 'minorities', 'ulcerations', 'acre-feet', 'nectaries', 'calamities', 'vocals', '160-degrees-f', 'ayes', 'sketches', '$39,000', 'irruptions', 'smokers', 'auspices', 'encumbrances', 'newly-weds', 'funeral-accessories', 'eatables', 'freebooters', 'surroundings', 'fifties', 'side-effects', 'breeches', 'tiers', 'pews', 'spigots', 'clamps', 'mattresses', 'clashes', 'rioters', 'macro-instructions', 'panders', 'credentials', 'guffaws', 'coattails', 'alkaloids', '1960s', 'pimples', 'minaces', 'berries', '340-degrees-c', 'sidechairs', 'wrestles', '$8', '$44.3-billion', 'esterases', '$184', '0.3m', 'grapefruit', 'purists', 'revetments', '$2.00', 'caliphs', 'ores', 'tinkers', 'wheezes', 'peas', 'workmen', 'gentlemen', 'status-roles', 'demonstrators', 'fumes', 'smatterings', 'blushes', 'cleanups', 'millions', '$3,000', '1920s', 'addicts', 'uprisings', 'protestations', 'stand-ins', 'notches', 'dynodes', 'ellipses', 'aldermen', 'after-effects', 'civil-rights', 'slanders', '$31,179,816', 'agencies', 'clodhoppers', 'lilacs', 'calculators', 'glob-flakes', 'fellow-employees', 'democracies', '$2,461,000', 'eighties', 'hemorrhoids', 'personalities', 'fatalists', 'debentures', 'handspikes', '$625,561', 'genera', 'boathouses', \"0.5''\", 'lemmas', '$4.9', 'refectories', 'bookies', 'skies', 'semi-heights', 'nonreactors', '10-degrees-c', 'air-drifts', 'cutlets', 'whorls', 'fascicles', 'lay-sisters', 'splashes', 'schoolchildren', 'actualities', 'regulars', 'yaws', 'mil.', 'lappets', 'fox-hounds', 'reading-rooms', 'antibodies', 'by-roads', 'puppies', 'ditches', '$2.50', 'winnings', 'idiosyncrasies', 'head', 'flora', 'fish', 'marauders', '$740,000', 'subsidies', 'tassels', 'dewars', 'subscripts', 'fishermen', 'basics', 'hairdos', 'mid-fifties', 'caresses', '$58,918', 'biches', 'heroics', '1970s', '$157,460', 'raincoats', 'hay-shakers', \"12'\", \"18'.5\", 'carbonates', 'peccadilloes', 'philosophies', 'fortune-tellers', 'mores', 'kindnesses', 'isopleths', 'buddies', 'twos', 'repairmen', 'hallucinations', 'insiders', 'statisticians', 'stilts', 'ex-liberals', 'octaves', 'probings', 'hayfields', 'opportunities', 'tadpoles', 'directrices', 'emergencies', '110-degrees', 'gymnastics', 'mysteries', 'mycobacteria', 'handicrafts', 'fountain-falls', 'bellies', \"1940's\", 'lizards', 'orgies', 'buttonholes', '$10,000,000', 'cues', 'semi-conductors', 'rheumatics', 'invoices', '$37,500', 'infantrymen', 'varieties', 'canvases', 'instrumentalists', 'ravages', 'skyjackers', '$5,000,000', 'schooldays', '463-degrees-c', 'lawmakers', '$11.50', 'ambushes', '$840,000', '$26.5-billion', '$30,000,000', '$2.82', 'reguli', 'moralities', 'incongruities', 'dictates', 'shavings', 'apostates', 'sharers', 'earnings', 'tosses', 'parrots', '$27.50', 'alcoves', 'conspirators', 'oldies', '$1.80', 'wall-flowers', 'thousandths', 'henchmen', 'localities', 'machine-masters', 'misgivings', 'grandparents', 'mercenaries', 'teats', 'cogs', 'pants', 'abutments', 'levies', '$88,000', 'pectorals', 'deerskins', 'jabberings', 'forty-niners', 'flagpoles', '$2400', 'mummies', 'sycophants', 'mythologies', 'dimers', 'accomodations', 'blitzes', 'parentheses', 'depositors', '$451,500', 'freethinkers', 'provisons', 'tomes', 'awnings', 'statistics', 'woolworkers', 'mediocrities', 'fjords', 'adventurers', 'bushes', 'coolnesses', 'startups', 'oxen', '2-degrees-c', 'presentments', 'environs', '$150', '$.90', 'counter-successes', 'gear-sets', 'fortifications', 'businessmen', 'pant-legs', '$2,412,616', 'sentimentalists', 'agonies', '$.027', 'transients', 'twister-coners', 'misdeeds', 'ciphers', 'ponies', '$7,500,000', \"5-3/4''\", 'reedbuck', 'depressants', 'nodes', 'subscribers', 'surmises', '$1500', 'surrealists', 'taxes', 'queries', 'seraphim', 'throes', 'snobs', 'sultans', 'bibliographies', 'occupancies', 'sores', 'capital-gains', 'seedlings', 'identities', \"21/64''\", 'graffiti', 'blue-eyes', 'energies', 'huggings', 'territories', 'malevolencies', '$3.5', 'mutinies', 'capita', 'dack-rihs', 'cilia', 'handlebars', 'draperies', 'synchronizers', '$7', 'psychotherapists', 'franks-in-buns', 'misplacements', 'cha-chas', '$380', 'inconsistencies', 'varnishes', 'sobs', 'mollusks', 'spies', 'crutches', 'indices', 'algae', 'hindquarters', '$.50', 'portents', 'thatches', 'starlings', 'deductibles', 'wishes', 'reactionaries', 'esters', 'steppes', 'blemishes', 'abstractionists', 'ditties', '$3,675', 'hazelnuts', 'lawmen', 'assemblies', 'wads', 'townsmen', 'initiates', 'shotshells', 'trenches', 'prophecies', 'chromatics', 'oafs', 'near-strangers', 'respirators', 'contribs', 'tens', 'job-seekers', 'landowners', 'isomers', 'lilies', 'hoofmarks', 'ringlets', '180-degrees', 'tusks', 'plainclothes', 'longshoremen', 'shillings', \"1840's\", 'lifters', 'marches', 'call-backs', 'jealousies', \"10''\", 'under-achievers', 'diffusers', 'myofibrils', 'headwaters', 'biddies', '$250,000', 'certitudes', 'primers', 'nutrients', 'bibliophiles', 'clubrooms', 'delineaments', 'torpedoes', 'hijackers', 'bullyboys', 'servitors', 'deviants', 'realities', 'non-readers', 'tracers', '$4200', 'generalities', 'agenda', '$10,000-per-year', '-16-degrees', '$75', 'hostelries', '$1.7', 'canals', 'dashes', 'lagers', 'abberations', 'superlatives', 'showmen', 'searches', 'ambiguities', 'uncertainties', 'switches', 'stockynges', 'pettinesses', 'm.p.h.', 'symbolists', 'shims', 'modules', 'surpluses', 'in-migrants', 'tankers', 'obscenities', 'arterioles', 'stories', 'misses', 'threes', 'pirogues', '$2,557,111', '$450', 'sisters-in-law', 'researches', \"1890's\", 'fingertips', 'boaters', 'cave-men', 'railbirds', 'agnostics', 'polishes', '$20,000,000', 'oldsters', 'seaports', 'loyalties', 'rangers', 'unities', '$66,000', 'co-workers', 'loners', 'jackdaws', 'couches', 'fieldmice', 'serviettes', 'halves', '$120', 'cicadas', 'barbs', 'controversialists', 'intransigents', 'enticements', 'anastomoses', '$450,000', 'evildoers', 'gliders', 'student-physicists', 'eccentricities', 'arrangers', 'orifices', 'penalties', 'do(c)ters', 'larvae', 'boundaries', 'seers', 'massacres', 'stragglers', '$11,900,000', '$538', 'paratroops', 'bleeps', 'snags', 'mourners', 'thespians', 'massifs', '$40', 'squabbles', 'anti-communists', 'gullies', 'daffodils', 'affinities', 'cattlemen', 'dales', 'remains', 'knightes', 'arrears', 'non-writers', '$1,600', 'infidels', '$1,500', '$5,000', 'steam-baths', 'weeklies', 'bull-sessions', 'rigors', 'inductees', 'nobles', 'hasps', 'suckers', 'hinterlands', 'authorities', 'hummocks', '$1.4', \"don't-know's\", 'cartons', '$.03', 'dealings', 'chairmen', 'schemata', 'terrours', 'biases', 'medallions', '$4', 'pastilles', 'celebrities', 'flippers', 'crewmen', '$1,800', 'coaches', 'desperadoes', 'irregularities', '6-degrees-c', 'accouterments', '$4,000', 'gaslights', 'caryatides', 'hangers-on', 'homeowners', 'flourishes', 'side-conclusions', '$26,000,000', 'extractors', 'oppressors', 'genealogies', 'qualities', 'gallants', 'flag-wavers', 'reactants', 'libraries', 'parts-suppliers', '$1,000,000', 'anteriors', 'athletics', '$10.1', '$10.00', 'shifters', 'faculties', 'convulsions', 'whipping-boys', 'titters', '$2.30/mbf', 'inundations', 'alumni', 'decencies', 'dice', 'strikebreakers', 'revellers', 'nucleoli', 'missionaries', 'alter-parents', 'stitches', 'extremists', 'tragedies', 'appliques', 'outskirts', 'freckles', '$.105', 'estuaries', 'pre-conditions', 'rhythm-and-blues', 'antiquarians', 'fire-crackers', 'traineeships', 'tufts', 'trivia', 'southernisms', 'jetliners', 'hostilities', 'ecumenicists', 'skiis', 'small-arms', '$12.50', 'geysers', 'malformations', 'silicates', 'hemlocks', 'filets', '$77,389,000', 'vantage-points', 'two-thirds', 'warships', 'storekeepers', 'viscera', 'blackbirds', 'rhinos', 'men', '$16.00', 'stewardesses', 'commodities', '$70', 'ice-cubes', 'deficiencies', 'subparts', 'gherkins', 'buggies', 'constables', 'dagers', 'forte-pianos', 'noes', 'facilities', 'alcoholics', 'alginates', 'freeholders', 'liabilities', 'clippings', 'stage-plays', 'twigs', 'cahoots', 'integrals', 'anniversaries', 'shoals', 'scanners', 'dropouts', 'toppings', 'bloodspots', 'epaulets', 'porches', 'absurdities', 'pool-owners', '170-degrees-c', 'predicting-machines', 'eventualities', 'auxiliaries', 'censuses', 'grotesques', 'maturities', 'taxi-ways', 'sags', '$200,000', 'stop-overs', 'matches', 'homefolk', 'tidelands', 'incumbents', 'macromolecules', 'aesthetes', 'forgeries', 'saponins', 'cameos', 'emphases', '$1.8', '$2,700', 'madmen', 'leaches', 'rosebuds', 'airways', '$172,400', \"mid-1890's\", '$800,000', 'floodheads', 'allies', 'marts', 'iniquities', 'paperwads', '$.30/mbf', 'corrugations', 'tetrahalides', 'masses', 'billions', 'entries', 'frills', 'benches', '79-cents', 'huzzahs', 'overtones', 'thieves', 'trappings', 'flakes', 'formalities', '$83,750', '$94', 'pinafores', 'chimes', 'beauties', '$251', 'prodigies', 'ethers', 'confederates', 'metaphysicals', 'antipodes', 'pp.', 'adversaries', 'two-seaters', 'chiggers', 'archives', 'theorists', 'instrumentalities', '$253,355,000', 'monopolists', 'allegations', 'thunderclaps', '$.80', 'ballistics', 'copyrights', 'inaccuracies', 'glycosides', 'knick-knacks', 'processes', '$20,000,000,000', 'dewdrops', 'responsibilities', 'preconceptions', 'pigpens', 'rivulets', 'near-equivalents', 'phonies', '$9.2', '$12.00', '$170', 'bloodstains', 'personnel', 'festivities', 'belles', 'lightyears', 'foci', '$75,000,000', 'underachievers', '$17.8', 'forties', '$306', 'watchers', 'mobsters', 'difficulties', 'likes', 'bevels', 'colonies', 'cuirassiers', 'thicknesses', '$550', 'parties', 'verbenas', 'priorities', 'carvings', 'monasteries', 'fives', 'diapers', 'hoes', 'septa', 'judiciaries', '$400', 'kc.', 'harelips', 'regattas', 'shorts', 'speeches', 'emissaries', 'sceneries', \"'20s\", 'gamblers', 'pushes', \"1850's\", 'yd.', 'rhinestones', 'watches', 'touches', 'turtlebacks', 'reaches', 'dummies', 'near-misses', '$1.6', '32-degrees-f', 'stillbirths', 'mentalities', 'microseconds', 'immensities', 'remedies', 'tomatoes', 'boastings', 'casuals', 'makeshifts', '$1.0', 'man-hours', '$.65', 'contemporaries', '$1,961,000', '$19.3', 'backers', 'arteries', 'strawberries', 'stamens', 'demonstratives', '$222', 'lamentations', 'at-bats', 'flyways', 'replies', 'revenuers', 'haunches', 'free-holders', 'promulgators', 'splotches', 'time-servers', \"'90s\", 'marrowbones', 'raiders', 'musings', 'nothings', 'beetles', 'normals', 'daises', 'bitters', 'indignities', 'tumbrels', \"4'\", 'hiccups', 'sharks', 'promptings', 'synthetics', 'welts', 'chrysanthemums', 'gastronomes', 'binoculars', 'calves', 'diagonals', 'ravines', 'urinals', '275-degrees-f', '$80,738', 'panties', '$6', '$172,000', 'word-games', 'skates', 'misdirectors', 'contraptions', 'sea-horses', 'grandchildren', 'currencies', 'bergs', 'weaknesses', 'reference-points', 'fours', 'autocrats', 'asses', 'bullies', 'musicologists', 'prayerbooks', 'protozoa', 'deltas', 'instrumentals', 'clergymen', 'mos.', 'exhumations', 'statuses', 'poppies', 'batwings', 'similarities', 'blunderings', 'nigs', 'buoys', 'necessities', 'line-fragments', 'moccasins', 'cohorts', 'near-synonyms', 'synapses', '$2,300,000', 'slave-laborers', 'sinuses', 'coxcombs', 'gunfights', 'campsites', 'laboratories', 'doldrums', 'newspapermen', 'acorns', 'burgesses', '$85', 'copies', 'plunkers', 'children', 'sandwiches', 'picnickers', '$5.2', 'moderates', 'bloops', 'over-achievers', '$.054/mbf', 'buttocks', 'pansies', 'ordinates', 'abstractors', 'bigots', 'efficiencies', 'revellings', \"'30s\", 'inventories', 'grammarians', 'paddies', 'utensils', 'brunettes', 'xylophones', '$800', 'lowers', 'hog', '$.076', 'firearms', 'campaigners', 'cockroaches', 'in-laws', 'habitants', 'autocracies', 'horsemen', 'luxuries', 'nudes', '$9,841,000', 'proclivities', 'interrogatives', 'pennies', 'colonists', '$214', 'tribesmen', 'freedmen', 'robberies', '$50,000', 'manes', '$1', 'registries', 'three-quarters', 'flatnesses', '$8,250', 'intensities', 'complexes', 'smelts', 'coloreds', 'jonquils', '50-degrees', '$10.3', 'safeties', 'wrenches', 'organizers', 'abilities', 'trenchermen', 'three-fourths', 'soirees', 'intangibles', '25-cents', '$32,000', 'echoes', 'initials', 'constellations', 'badmen', '$1.60', '$297', 'windbreaks', 'incompetents', 'vampires', 'skirmishers', 'jackboots', 'exhortations', 'leashes', '$.30', '$20,447,000', 'fellow-men', 'sera', 'value-orientations', '$17,000', 'salaries', 'vertebrae', 'cries', 'lifeguards', 'islanders', '$12,500', 'sensibilities', 'eulogizers', 'hydroxides', 'pickins', 'others', 'congressmen', 'caseworkers', 'tablecloths', 'pathways', '$2,490', 'victories', 'buzzes', 'ministries', 'continuities', 'landes', 'addresses', 'foibles', 'borates', 'groceries', 'alleyways', 'gases', 'utilities', 'opiates', 'levis', 'leadings', 'punches', 'ailerons', 'scallops', '$3.15', 'fetes', 'wieners', \"80's\", 'necessaries', 'police', 'eyeglasses', 'clergy', 'skull-bashings', 'advertisers', 'pheasant', 'victuals', 'complexities', 'dieters', 'quibs', 'outboards', 'incubi', 'encores', 'lava-rocks', 'stigmata', 'floorboards', '$2,500', 'charities', \"mid-1950's\", 'parishioners', 'grownups', 'depressors', 'academies', '$47,101,000', 'hangers', 'cronies', 'histories', '$5', 'fusillades', 'ologies', 'sensitivities', '$200', 'insurgents', 'tormenters', 'droplets', 'policy-makers', '$8,555', '$15,000', 'mathematics', '$.09', 'tabernacles', 'minutiae', 'housebreakers', '$700', 'privations', 'bang-sashes', 'lady-bugs', 'hartes', 'forefathers', 'cutouts', 'wattles', 'nodules', '$109', \"1870's\", 'meanes', '40-degrees-f', 'freshmen', 'cashews', 'documentaries', '$2,170', 'pushers', 'co-chairmen', 'calisthenics', 'lobbies', 'canvassers', 'crashes', 'suffragettes', 'bandoleers', 'hopefuls', 'photoelectrons', 'jokers', 'conceits', 'outcrops', '$1020', 'inboards', 'figurines', 'discoveries', 'corticosteroids', 'bridesmaids', 'passers-by', 'snatches']\n"
          ]
        }
      ]
    },
    {
      "cell_type": "markdown",
      "source": [
        "b)"
      ],
      "metadata": {
        "id": "K-iymjMYxG3H"
      }
    },
    {
      "cell_type": "code",
      "source": [
        "tagged_words = nltk.corpus.brown.tagged_words()"
      ],
      "metadata": {
        "id": "fRTUQq5BxIcM"
      },
      "execution_count": null,
      "outputs": []
    },
    {
      "cell_type": "code",
      "source": [
        "word_tags = {}\n",
        "for word, tag in tagged_words:\n",
        "    if word in word_tags:\n",
        "        word_tags[word].add(tag)\n",
        "    else:\n",
        "        word_tags[word] = {tag}"
      ],
      "metadata": {
        "id": "K23YkjbCxjHD"
      },
      "execution_count": null,
      "outputs": []
    },
    {
      "cell_type": "code",
      "source": [
        "max_word = max(word_tags, key=lambda x: len(word_tags[x]))\n",
        "print(max_word)\n",
        "print(word_tags[max_word])"
      ],
      "metadata": {
        "colab": {
          "base_uri": "https://localhost:8080/"
        },
        "id": "SFISa26dyH44",
        "outputId": "c2489282-7081-4d51-f51e-3bfad31aa865"
      },
      "execution_count": null,
      "outputs": [
        {
          "output_type": "stream",
          "name": "stdout",
          "text": [
            "that\n",
            "{'NIL', 'WPO', 'CS-HL', 'WPO-NC', 'CS-NC', 'DT', 'WPS', 'WPS-NC', 'WPS-HL', 'QL', 'DT-NC', 'CS'}\n"
          ]
        }
      ]
    },
    {
      "cell_type": "markdown",
      "source": [
        "c)"
      ],
      "metadata": {
        "id": "zBPmpPkx1Khd"
      }
    },
    {
      "cell_type": "code",
      "source": [
        "fd = nltk.FreqDist(tag for _, tag in tagged_words)\n",
        "top_20_tags = fd.most_common(20)\n",
        "\n",
        "for tag, freq in top_20_tags:\n",
        "    print(tag, \":\", freq)"
      ],
      "metadata": {
        "colab": {
          "base_uri": "https://localhost:8080/"
        },
        "id": "1Ijk8pzf7Hkf",
        "outputId": "7ac4314e-bcc8-418d-e684-b89c3ac51b86"
      },
      "execution_count": null,
      "outputs": [
        {
          "output_type": "stream",
          "name": "stdout",
          "text": [
            "NN : 152470\n",
            "IN : 120557\n",
            "AT : 97959\n",
            "JJ : 64028\n",
            ". : 60638\n",
            ", : 58156\n",
            "NNS : 55110\n",
            "CC : 37718\n",
            "RB : 36464\n",
            "NP : 34476\n",
            "VB : 33693\n",
            "VBN : 29186\n",
            "VBD : 26167\n",
            "CS : 22143\n",
            "PPS : 18253\n",
            "VBG : 17893\n",
            "PP$ : 16872\n",
            "TO : 14918\n",
            "PPSS : 13802\n",
            "CD : 13510\n"
          ]
        }
      ]
    },
    {
      "cell_type": "markdown",
      "source": [
        "d)"
      ],
      "metadata": {
        "id": "kKzZO0ss71vs"
      }
    },
    {
      "cell_type": "code",
      "source": [
        "tagged_bigrams = nltk.bigrams(tagged_words)\n",
        "np = [a[1] for (a, b) in tagged_bigrams if b[1].startswith('NN')]\n",
        "fd = nltk.FreqDist(np)\n",
        "tags = [tag for (tag, _) in fd.most_common(20)]\n",
        "print(tags)"
      ],
      "metadata": {
        "colab": {
          "base_uri": "https://localhost:8080/"
        },
        "id": "p55ORQeY73X9",
        "outputId": "e648af77-cb54-4a08-ee6f-b6e01e0b74da"
      },
      "execution_count": null,
      "outputs": [
        {
          "output_type": "stream",
          "name": "stdout",
          "text": [
            "['AT', 'JJ', 'IN', 'NN', 'PP$', 'CC', 'CD', 'AP', 'DT', 'VBG', ',', 'VBN', '.', 'NN-TL', 'JJ-TL', 'VB', 'NP', 'NP-TL', 'CS', 'NP$']\n"
          ]
        }
      ]
    },
    {
      "cell_type": "code",
      "source": [
        "nltk.download('tagsets')"
      ],
      "metadata": {
        "colab": {
          "base_uri": "https://localhost:8080/"
        },
        "id": "czqX0d-wABKq",
        "outputId": "c4507df4-d6e4-4db1-c43c-b8f45a601ebb"
      },
      "execution_count": null,
      "outputs": [
        {
          "output_type": "stream",
          "name": "stderr",
          "text": [
            "[nltk_data] Downloading package tagsets to /root/nltk_data...\n",
            "[nltk_data]   Unzipping help/tagsets.zip.\n"
          ]
        },
        {
          "output_type": "execute_result",
          "data": {
            "text/plain": [
              "True"
            ]
          },
          "metadata": {},
          "execution_count": 27
        }
      ]
    },
    {
      "cell_type": "code",
      "source": [
        "for tag in tags:\n",
        "    nltk.help.brown_tagset(tag)"
      ],
      "metadata": {
        "colab": {
          "base_uri": "https://localhost:8080/"
        },
        "id": "MhgDEsKN_ys6",
        "outputId": "e38580b5-3093-48cb-907b-82dfcbb247d2"
      },
      "execution_count": null,
      "outputs": [
        {
          "output_type": "stream",
          "name": "stdout",
          "text": [
            "AT: article\n",
            "    the an no a every th' ever' ye\n",
            "JJ: adjective\n",
            "    ecent over-all possible hard-fought favorable hard meager fit such\n",
            "    widespread outmoded inadequate ambiguous grand clerical effective\n",
            "    orderly federal foster general proportionate ...\n",
            "IN: preposition\n",
            "    of in for by considering to on among at through with under into\n",
            "    regarding than since despite according per before toward against as\n",
            "    after during including between without except upon out over ...\n",
            "NN: noun, singular, common\n",
            "    failure burden court fire appointment awarding compensation Mayor\n",
            "    interim committee fact effect airport management surveillance jail\n",
            "    doctor intern extern night weekend duty legislation Tax Office ...\n",
            "PP$: determiner, possessive\n",
            "    our its his their my your her out thy mine thine\n",
            "CC: conjunction, coordinating\n",
            "    and or but plus & either neither nor yet 'n' and/or minus an'\n",
            "CD: numeral, cardinal\n",
            "    two one 1 four 2 1913 71 74 637 1937 8 five three million 87-31 29-5\n",
            "    seven 1,119 fifty-three 7.5 billion hundred 125,000 1,700 60 100 six\n",
            "    ...\n",
            "AP: determiner/pronoun, post-determiner\n",
            "    many other next more last former little several enough most least only\n",
            "    very few fewer past same Last latter less single plenty 'nough lesser\n",
            "    certain various manye next-to-last particular final previous present\n",
            "    nuf\n",
            "DT: determiner/pronoun, singular\n",
            "    this each another that 'nother\n",
            "VBG: verb, present participle or gerund\n",
            "    modernizing improving purchasing Purchasing lacking enabling pricing\n",
            "    keeping getting picking entering voting warning making strengthening\n",
            "    setting neighboring attending participating moving ...\n",
            ",: comma\n",
            "    ,\n",
            "VBN: verb, past participle\n",
            "    conducted charged won received studied revised operated accepted\n",
            "    combined experienced recommended effected granted seen protected\n",
            "    adopted retarded notarized selected composed gotten printed ...\n",
            ".: sentence terminator\n",
            "    . ? ; ! :\n",
            "No matching tags found.\n",
            "No matching tags found.\n",
            "VB: verb, base: uninflected present, imperative or infinitive\n",
            "    investigate find act follow inure achieve reduce take remedy re-set\n",
            "    distribute realize disable feel receive continue place protect\n",
            "    eliminate elaborate work permit run enter force ...\n",
            "NP: noun, singular, proper\n",
            "    Fulton Atlanta September-October Durwood Pye Ivan Allen Jr. Jan.\n",
            "    Alpharetta Grady William B. Hartsfield Pearl Williams Aug. Berry J. M.\n",
            "    Cheshire Griffin Opelika Ala. E. Pelham Snodgrass ...\n",
            "No matching tags found.\n",
            "CS: conjunction, subordinating\n",
            "    that as after whether before while like because if since for than altho\n",
            "    until so unless though providing once lest s'posin' till whereas\n",
            "    whereupon supposing tho' albeit then so's 'fore\n",
            "NP$: noun, singular, proper, genitive\n",
            "    Green's Landis' Smith's Carreon's Allison's Boston's Spahn's Willie's\n",
            "    Mickey's Milwaukee's Mays' Howsam's Mantle's Shaw's Wagner's Rickey's\n",
            "    Shea's Palmer's Arnold's Broglio's ...\n"
          ]
        }
      ]
    }
  ]
}