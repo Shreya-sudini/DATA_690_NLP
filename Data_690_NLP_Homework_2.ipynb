{
  "nbformat": 4,
  "nbformat_minor": 0,
  "metadata": {
    "colab": {
      "provenance": []
    },
    "kernelspec": {
      "name": "python3",
      "display_name": "Python 3"
    },
    "language_info": {
      "name": "python"
    }
  },
  "cells": [
    {
      "cell_type": "code",
      "execution_count": 1,
      "metadata": {
        "colab": {
          "base_uri": "https://localhost:8080/"
        },
        "id": "5_4zom32ImAp",
        "outputId": "f82ea694-3f96-4e12-ece7-65fed9beabd6"
      },
      "outputs": [
        {
          "output_type": "stream",
          "name": "stderr",
          "text": [
            "[nltk_data] Downloading package gutenberg to /root/nltk_data...\n",
            "[nltk_data]   Unzipping corpora/gutenberg.zip.\n"
          ]
        }
      ],
      "source": [
        "import nltk\n",
        "nltk.download('gutenberg')\n",
        "from nltk.corpus import gutenberg"
      ]
    },
    {
      "cell_type": "code",
      "source": [
        "gutenberg.fileids()"
      ],
      "metadata": {
        "colab": {
          "base_uri": "https://localhost:8080/"
        },
        "id": "TGooDQYKLAcc",
        "outputId": "98ee5098-5082-4d9e-cc5a-0a71d40d3919"
      },
      "execution_count": 2,
      "outputs": [
        {
          "output_type": "execute_result",
          "data": {
            "text/plain": [
              "['austen-emma.txt',\n",
              " 'austen-persuasion.txt',\n",
              " 'austen-sense.txt',\n",
              " 'bible-kjv.txt',\n",
              " 'blake-poems.txt',\n",
              " 'bryant-stories.txt',\n",
              " 'burgess-busterbrown.txt',\n",
              " 'carroll-alice.txt',\n",
              " 'chesterton-ball.txt',\n",
              " 'chesterton-brown.txt',\n",
              " 'chesterton-thursday.txt',\n",
              " 'edgeworth-parents.txt',\n",
              " 'melville-moby_dick.txt',\n",
              " 'milton-paradise.txt',\n",
              " 'shakespeare-caesar.txt',\n",
              " 'shakespeare-hamlet.txt',\n",
              " 'shakespeare-macbeth.txt',\n",
              " 'whitman-leaves.txt']"
            ]
          },
          "metadata": {},
          "execution_count": 2
        }
      ]
    },
    {
      "cell_type": "markdown",
      "source": [
        "#2"
      ],
      "metadata": {
        "id": "1IyjjswfYyud"
      }
    },
    {
      "cell_type": "code",
      "source": [
        "austen = 'austen-persuasion.txt'\n",
        "words= gutenberg.words(austen)"
      ],
      "metadata": {
        "id": "o_szAbQpZNOK"
      },
      "execution_count": 3,
      "outputs": []
    },
    {
      "cell_type": "code",
      "source": [
        "num_tokens=len(words)\n",
        "print(num_tokens)"
      ],
      "metadata": {
        "colab": {
          "base_uri": "https://localhost:8080/"
        },
        "id": "V6xFLtiAZxEi",
        "outputId": "1668b660-f1fe-4a02-9c0a-3eaa5ab17337"
      },
      "execution_count": 4,
      "outputs": [
        {
          "output_type": "stream",
          "name": "stdout",
          "text": [
            "98171\n"
          ]
        }
      ]
    },
    {
      "cell_type": "code",
      "source": [
        "num_word_types=len(set(words))\n",
        "print(num_word_types)"
      ],
      "metadata": {
        "colab": {
          "base_uri": "https://localhost:8080/"
        },
        "id": "-Qh8wDS0aGLS",
        "outputId": "6bd21744-9dd5-40b5-c0d8-5453246d0b47"
      },
      "execution_count": 5,
      "outputs": [
        {
          "output_type": "stream",
          "name": "stdout",
          "text": [
            "6132\n"
          ]
        }
      ]
    },
    {
      "cell_type": "markdown",
      "source": [
        "#3"
      ],
      "metadata": {
        "id": "UBem4ZDCY0ce"
      }
    },
    {
      "cell_type": "code",
      "source": [
        "nltk.download('brown')\n",
        "from nltk.corpus import brown\n",
        "brown.categories()"
      ],
      "metadata": {
        "colab": {
          "base_uri": "https://localhost:8080/"
        },
        "id": "nscXcSMKax1w",
        "outputId": "7eeb6348-58d8-4d29-b00d-ab10635cff85"
      },
      "execution_count": 6,
      "outputs": [
        {
          "output_type": "stream",
          "name": "stderr",
          "text": [
            "[nltk_data] Downloading package brown to /root/nltk_data...\n",
            "[nltk_data]   Unzipping corpora/brown.zip.\n"
          ]
        },
        {
          "output_type": "execute_result",
          "data": {
            "text/plain": [
              "['adventure',\n",
              " 'belles_lettres',\n",
              " 'editorial',\n",
              " 'fiction',\n",
              " 'government',\n",
              " 'hobbies',\n",
              " 'humor',\n",
              " 'learned',\n",
              " 'lore',\n",
              " 'mystery',\n",
              " 'news',\n",
              " 'religion',\n",
              " 'reviews',\n",
              " 'romance',\n",
              " 'science_fiction']"
            ]
          },
          "metadata": {},
          "execution_count": 6
        }
      ]
    },
    {
      "cell_type": "code",
      "source": [
        "brown.words(categories='mystery')\n"
      ],
      "metadata": {
        "colab": {
          "base_uri": "https://localhost:8080/"
        },
        "id": "6QGMWJbIbC5Q",
        "outputId": "c04f9431-c81a-411a-9001-eed87ea2a6eb"
      },
      "execution_count": 7,
      "outputs": [
        {
          "output_type": "execute_result",
          "data": {
            "text/plain": [
              "['There', 'were', 'thirty-eight', 'patients', 'on', ...]"
            ]
          },
          "metadata": {},
          "execution_count": 7
        }
      ]
    },
    {
      "cell_type": "code",
      "source": [
        "brown.words(categories='fiction')"
      ],
      "metadata": {
        "colab": {
          "base_uri": "https://localhost:8080/"
        },
        "id": "vfWnFEvUbNZw",
        "outputId": "7f935db4-6274-4265-a91d-34ce0746d860"
      },
      "execution_count": 8,
      "outputs": [
        {
          "output_type": "execute_result",
          "data": {
            "text/plain": [
              "['Thirty-three', 'Scotty', 'did', 'not', 'go', 'back', ...]"
            ]
          },
          "metadata": {},
          "execution_count": 8
        }
      ]
    },
    {
      "cell_type": "markdown",
      "source": [
        "#4"
      ],
      "metadata": {
        "id": "V9kYlfejY1bL"
      }
    },
    {
      "cell_type": "code",
      "source": [
        "nltk.download('state_union')\n",
        "from nltk.corpus import state_union"
      ],
      "metadata": {
        "colab": {
          "base_uri": "https://localhost:8080/"
        },
        "id": "ryxBO8yjd2Sz",
        "outputId": "c63bd0ae-c4d9-4102-fc62-4ad99d72f7ac"
      },
      "execution_count": 9,
      "outputs": [
        {
          "output_type": "stream",
          "name": "stderr",
          "text": [
            "[nltk_data] Downloading package state_union to /root/nltk_data...\n",
            "[nltk_data]   Unzipping corpora/state_union.zip.\n"
          ]
        }
      ]
    },
    {
      "cell_type": "code",
      "source": [
        "cfd = nltk.ConditionalFreqDist(\n",
        "        (target, fileid[:4])\n",
        "        for fileid in state_union.fileids()\n",
        "        for w in state_union.words(fileid)\n",
        "        for target in ['men', 'women', 'people']\n",
        "        if w.lower().startswith(target))"
      ],
      "metadata": {
        "id": "gBZhVye2b80T"
      },
      "execution_count": 10,
      "outputs": []
    },
    {
      "cell_type": "code",
      "source": [
        "years = range(1945, 2007)\n",
        "cfd.tabulate(samples = [str(y) for y in years], conditions = ['men', 'women', 'people'])"
      ],
      "metadata": {
        "colab": {
          "base_uri": "https://localhost:8080/"
        },
        "id": "XMiIGqiqdm4V",
        "outputId": "61c19e85-9393-47a4-e642-71ec9c7cb601"
      },
      "execution_count": 12,
      "outputs": [
        {
          "output_type": "stream",
          "name": "stdout",
          "text": [
            "       1945 1946 1947 1948 1949 1950 1951 1952 1953 1954 1955 1956 1957 1958 1959 1960 1961 1962 1963 1964 1965 1966 1967 1968 1969 1970 1971 1972 1973 1974 1975 1976 1977 1978 1979 1980 1981 1982 1983 1984 1985 1986 1987 1988 1989 1990 1991 1992 1993 1994 1995 1996 1997 1998 1999 2000 2001 2002 2003 2004 2005 2006 \n",
            "   men    2   16    8    5    2    6    9    0    5    4    9    5    7    3    5    2    6    7   14    3   22   14   13    4    5    3    1    1    1    0    0    3    2    0    0    1    3    1    5    3    1    3    1    4    4    3   10    4    1    1    3    2    1    2    4   11    6    4   10   10    8    7 \n",
            " women    2    7    2    1    1    2    2    0    0    0    0    2    2    1    1    0    0    2    5    1    3    1    1    0    2    0    0    0    0    0    0    1    1    1    1    2    1    2    7    5    1    2    0    0    3    2    9    4    2    1    3    3    2    2    3    7    6    6    4    8   11    7 \n",
            "people   10   54   17   24   18   23   15    0   20   16   31   31   17   21   17   18   13   10   17    3   30   36   30   18    6   24   34    9   10   22   14   18   20   26   16   13   11   18   20   27   12   14   24   17   13   10   28   27   45   67   73   43   31   22   22   41   27   14   34   21   18   22 \n"
          ]
        }
      ]
    },
    {
      "cell_type": "markdown",
      "source": [
        "#5"
      ],
      "metadata": {
        "id": "B3SugOp1Y2cq"
      }
    },
    {
      "cell_type": "code",
      "source": [
        "nltk.download('wordnet')\n",
        "from nltk.corpus import wordnet\n",
        "\n",
        "[s.definition() for s in wordnet.synsets('school')]"
      ],
      "metadata": {
        "colab": {
          "base_uri": "https://localhost:8080/"
        },
        "id": "2G-e9jnK3W-1",
        "outputId": "318ce120-56f6-456b-c6f4-3dd2eb223da2"
      },
      "execution_count": 35,
      "outputs": [
        {
          "output_type": "stream",
          "name": "stderr",
          "text": [
            "[nltk_data] Downloading package wordnet to /root/nltk_data...\n",
            "[nltk_data]   Package wordnet is already up-to-date!\n"
          ]
        },
        {
          "output_type": "execute_result",
          "data": {
            "text/plain": [
              "['an educational institution',\n",
              " 'a building where young people receive education',\n",
              " 'the process of being formally educated at a school',\n",
              " 'a body of creative artists or writers or thinkers linked by a similar style or by similar teachers',\n",
              " 'the period of instruction in a school; the time period when school is in session',\n",
              " \"an educational institution's faculty and students\",\n",
              " 'a large group of fish',\n",
              " 'educate in or as if in a school',\n",
              " 'teach or refine to be discriminative in taste or judgment',\n",
              " 'swim in or form a large group of fish']"
            ]
          },
          "metadata": {},
          "execution_count": 35
        }
      ]
    },
    {
      "cell_type": "code",
      "source": [
        "wordnet.synset('school.n.01').member_meronyms()"
      ],
      "metadata": {
        "colab": {
          "base_uri": "https://localhost:8080/"
        },
        "id": "emahZ9R13_ok",
        "outputId": "456db87a-fbe5-4144-a4b3-21820d314539"
      },
      "execution_count": 36,
      "outputs": [
        {
          "output_type": "execute_result",
          "data": {
            "text/plain": [
              "[Synset('schoolteacher.n.01'), Synset('staff.n.03')]"
            ]
          },
          "metadata": {},
          "execution_count": 36
        }
      ]
    },
    {
      "cell_type": "code",
      "source": [
        "wordnet.synset('school.n.01').member_holonyms()"
      ],
      "metadata": {
        "colab": {
          "base_uri": "https://localhost:8080/"
        },
        "id": "MmvHhWbF5sjr",
        "outputId": "9ea4b06c-f83e-45e0-c002-181c1774df2c"
      },
      "execution_count": 43,
      "outputs": [
        {
          "output_type": "execute_result",
          "data": {
            "text/plain": [
              "[]"
            ]
          },
          "metadata": {},
          "execution_count": 43
        }
      ]
    },
    {
      "cell_type": "code",
      "source": [
        "wordnet.synset('school.n.02').part_meronyms()"
      ],
      "metadata": {
        "colab": {
          "base_uri": "https://localhost:8080/"
        },
        "id": "phIZkAYw5Nrk",
        "outputId": "84aac0c3-64d5-4578-ec1d-1a5b93517823"
      },
      "execution_count": 40,
      "outputs": [
        {
          "output_type": "execute_result",
          "data": {
            "text/plain": [
              "[Synset('classroom.n.01')]"
            ]
          },
          "metadata": {},
          "execution_count": 40
        }
      ]
    },
    {
      "cell_type": "code",
      "source": [
        "wordnet.synset('school.n.02').part_holonyms()"
      ],
      "metadata": {
        "colab": {
          "base_uri": "https://localhost:8080/"
        },
        "id": "qG-o3-Wz53-2",
        "outputId": "ede3f65d-4f8f-4914-9e11-b75ab0545983"
      },
      "execution_count": 44,
      "outputs": [
        {
          "output_type": "execute_result",
          "data": {
            "text/plain": [
              "[Synset('school_system.n.01')]"
            ]
          },
          "metadata": {},
          "execution_count": 44
        }
      ]
    },
    {
      "cell_type": "code",
      "source": [
        "[s.definition() for s in wordnet.synsets('blood')]"
      ],
      "metadata": {
        "colab": {
          "base_uri": "https://localhost:8080/"
        },
        "id": "W77fcE-W4_LI",
        "outputId": "64b00449-3bbd-4a08-e2ce-4d5c1ad89a25"
      },
      "execution_count": 38,
      "outputs": [
        {
          "output_type": "execute_result",
          "data": {
            "text/plain": [
              "['the fluid (red in vertebrates) that is pumped through the body by the heart and contains plasma, blood cells, and platelets',\n",
              " 'temperament or disposition',\n",
              " 'a dissolute man in fashionable society',\n",
              " 'the descendants of one individual',\n",
              " 'people viewed as members of a group',\n",
              " 'smear with blood, as in a hunting initiation rite, where the face of a person is smeared with the blood of the kill']"
            ]
          },
          "metadata": {},
          "execution_count": 38
        }
      ]
    },
    {
      "cell_type": "code",
      "source": [
        "wordnet.synset('blood.n.01').substance_meronyms()"
      ],
      "metadata": {
        "colab": {
          "base_uri": "https://localhost:8080/"
        },
        "id": "RgOZL21Q5I8U",
        "outputId": "b419d3bc-7c40-46d6-d9e9-4e180cc1f8fa"
      },
      "execution_count": 41,
      "outputs": [
        {
          "output_type": "execute_result",
          "data": {
            "text/plain": [
              "[Synset('serum.n.01')]"
            ]
          },
          "metadata": {},
          "execution_count": 41
        }
      ]
    },
    {
      "cell_type": "code",
      "source": [
        "wordnet.synset('water .n.01').substance_holonyms()"
      ],
      "metadata": {
        "colab": {
          "base_uri": "https://localhost:8080/"
        },
        "id": "Cv22Etxw6Bsv",
        "outputId": "9a8fd59a-f13a-4495-b1b7-27b1f99a545d"
      },
      "execution_count": 47,
      "outputs": [
        {
          "output_type": "execute_result",
          "data": {
            "text/plain": [
              "[Synset('body_of_water.n.01'),\n",
              " Synset('ice.n.01'),\n",
              " Synset('ice_crystal.n.01'),\n",
              " Synset('perspiration.n.01'),\n",
              " Synset('snowflake.n.01'),\n",
              " Synset('tear.n.01')]"
            ]
          },
          "metadata": {},
          "execution_count": 47
        }
      ]
    },
    {
      "cell_type": "markdown",
      "source": [
        "#11"
      ],
      "metadata": {
        "id": "JmHwq9FQY3dn"
      }
    },
    {
      "cell_type": "code",
      "source": [
        "genres = ['adventure', 'fiction', 'hobbies', 'science_fiction', 'mystery', 'humor']\n",
        "\n",
        "cfd = nltk.ConditionalFreqDist(\n",
        "    (genre, word) for genre in brown.categories()\n",
        "    for word in brown.words(categories = genre))"
      ],
      "metadata": {
        "id": "-n6Pxip7eszL"
      },
      "execution_count": 76,
      "outputs": []
    },
    {
      "cell_type": "code",
      "source": [
        "articles=['cooking','painting','soccer']\n",
        "cfd.tabulate(conditions = genres, samples = articles)"
      ],
      "metadata": {
        "colab": {
          "base_uri": "https://localhost:8080/"
        },
        "id": "RfSF8VfxfDwy",
        "outputId": "b5f27e6d-b2d8-43ff-90e5-8a88b83cd000"
      },
      "execution_count": 77,
      "outputs": [
        {
          "output_type": "stream",
          "name": "stdout",
          "text": [
            "                 cooking painting   soccer \n",
            "      adventure        1        1        0 \n",
            "        fiction        3        4        0 \n",
            "        hobbies        7        9        0 \n",
            "science_fiction        0        0        0 \n",
            "        mystery        5        2        0 \n",
            "          humor        2        2        0 \n"
          ]
        }
      ]
    },
    {
      "cell_type": "code",
      "source": [
        "articles=['mountains','seas','places']\n",
        "cfd.tabulate(conditions = genres, samples = articles)"
      ],
      "metadata": {
        "colab": {
          "base_uri": "https://localhost:8080/"
        },
        "id": "dQGy1hB9fe8j",
        "outputId": "1bc6b95a-fde8-4898-d0c3-d2f2626f6df0"
      },
      "execution_count": 78,
      "outputs": [
        {
          "output_type": "stream",
          "name": "stdout",
          "text": [
            "                mountains      seas    places \n",
            "      adventure         5         0         6 \n",
            "        fiction         5         0        10 \n",
            "        hobbies         8         0        20 \n",
            "science_fiction         0         0         1 \n",
            "        mystery         0         0         7 \n",
            "          humor         0         0         1 \n"
          ]
        }
      ]
    },
    {
      "cell_type": "code",
      "source": [
        "articles=['he','she','they']\n",
        "cfd.tabulate(conditions = genres, samples = articles)"
      ],
      "metadata": {
        "colab": {
          "base_uri": "https://localhost:8080/"
        },
        "id": "l69_Jj7bDWOl",
        "outputId": "a5ec3ad2-deaf-4702-b023-63f6d424e465"
      },
      "execution_count": 79,
      "outputs": [
        {
          "output_type": "stream",
          "name": "stdout",
          "text": [
            "                  he  she they \n",
            "      adventure  761  240  206 \n",
            "        fiction  813  280  230 \n",
            "        hobbies  155   21  177 \n",
            "science_fiction  139   36   53 \n",
            "        mystery  670  219  106 \n",
            "          humor  146   58   70 \n"
          ]
        }
      ]
    },
    {
      "cell_type": "markdown",
      "source": [
        "I have taken sample words that may occur in some genres. I have picked articles=['cooking','painting','soccer'], which seem to be more frequent in hobbies as expected.\n",
        "\n",
        "In last case, I have picked some articles which would commonly occurs in all kind of texts, the results all the articles has more occurances in 'fiction' and next in 'adventure'."
      ],
      "metadata": {
        "id": "QWJA2RyeDqtf"
      }
    },
    {
      "cell_type": "markdown",
      "source": [
        "#17"
      ],
      "metadata": {
        "id": "aT58Pt0WY7LA"
      }
    },
    {
      "cell_type": "code",
      "source": [
        "nltk.download('stopwords')\n",
        "from nltk.corpus import stopwords\n",
        "\n",
        "def most_frequent_words(text, n = 50, lang = 'english'):\n",
        "  token=nltk.word_tokenize(text)\n",
        "  stopwords = nltk.corpus.stopwords.words('english')\n",
        "  fd = nltk.FreqDist(w.lower() for w in token if w.lower().isalpha() and w.lower() not in stopwords)\n",
        "  return fd.most_common(n)"
      ],
      "metadata": {
        "colab": {
          "base_uri": "https://localhost:8080/"
        },
        "id": "e-RbzRXdgVB_",
        "outputId": "6c59dc34-a29e-458e-95ff-1d141d375d7c"
      },
      "execution_count": 67,
      "outputs": [
        {
          "output_type": "stream",
          "name": "stderr",
          "text": [
            "[nltk_data] Downloading package stopwords to /root/nltk_data...\n",
            "[nltk_data]   Package stopwords is already up-to-date!\n"
          ]
        }
      ]
    },
    {
      "cell_type": "code",
      "source": [
        "word=brown.words()\n",
        "text = ' '.join(word)\n",
        "\n",
        "print(most_frequent_words(text,50))"
      ],
      "metadata": {
        "colab": {
          "base_uri": "https://localhost:8080/"
        },
        "id": "r8c4RKzeg88S",
        "outputId": "20d3172e-0cd7-44ef-d1be-2d2ab52dd1d8"
      },
      "execution_count": 68,
      "outputs": [
        {
          "output_type": "stream",
          "name": "stdout",
          "text": [
            "[('one', 3357), ('would', 2843), ('said', 1961), ('could', 1777), ('new', 1635), ('time', 1600), ('two', 1412), ('may', 1402), ('first', 1361), ('man', 1332), ('like', 1292), ('even', 1170), ('made', 1125), ('also', 1069), ('many', 1030), ('must', 1020), ('af', 996), ('back', 966), ('years', 958), ('much', 937), ('way', 909), ('well', 899), ('people', 866), ('state', 845), ('little', 831), ('world', 822), ('good', 806), ('make', 794), ('still', 782), ('men', 782), ('see', 772), ('work', 763), ('long', 752), ('get', 749), ('life', 721), ('day', 702), ('year', 701), ('never', 697), ('another', 689), ('know', 683), ('last', 676), ('us', 675), ('might', 672), ('great', 666), ('old', 661), ('come', 630), ('since', 628), ('go', 626), ('came', 622), ('right', 613)]\n"
          ]
        }
      ]
    },
    {
      "cell_type": "code",
      "source": [
        "word=gutenberg.words('austen-persuasion.txt')\n",
        "text=' '.join(word)\n",
        "print(most_frequent_words(text,50))"
      ],
      "metadata": {
        "colab": {
          "base_uri": "https://localhost:8080/"
        },
        "id": "NgzO4R8c_Iib",
        "outputId": "1caeefba-a953-4bf9-8b74-32386e3834c8"
      },
      "execution_count": 69,
      "outputs": [
        {
          "output_type": "stream",
          "name": "stdout",
          "text": [
            "[('anne', 497), ('could', 451), ('would', 355), ('captain', 303), ('mrs', 291), ('elliot', 289), ('mr', 256), ('one', 238), ('must', 228), ('wentworth', 218), ('lady', 216), ('much', 205), ('good', 187), ('little', 176), ('said', 173), ('charles', 166), ('might', 166), ('well', 163), ('never', 155), ('time', 152), ('sir', 149), ('think', 149), ('russell', 148), ('walter', 141), ('nothing', 139), ('mary', 138), ('man', 134), ('musgrove', 130), ('great', 130), ('know', 127), ('miss', 125), ('see', 123), ('soon', 122), ('though', 117), ('father', 117), ('two', 114), ('first', 113), ('quite', 112), ('louisa', 111), ('always', 110), ('without', 108), ('every', 102), ('bath', 101), ('made', 96), ('long', 95), ('house', 94), ('say', 93), ('seemed', 93), ('thought', 90), ('elizabeth', 89)]\n"
          ]
        }
      ]
    },
    {
      "cell_type": "markdown",
      "source": [
        "#23"
      ],
      "metadata": {
        "id": "4QsEuPTOY8Qp"
      }
    },
    {
      "cell_type": "code",
      "source": [
        "import matplotlib.pyplot as plt\n",
        "import numpy as np\n",
        "import pylab\n",
        "\n",
        "def plot_zipflaw(text):\n",
        "    freq_dist = nltk.FreqDist(text)\n",
        "    sorted_freq = sorted(freq_dist.values(), reverse=True)\n",
        "    ranks = np.arange(1, len(sorted_freq) + 1)\n",
        "    pylab.plot(ranks, sorted_freq)\n",
        "    pylab.xscale('log')\n",
        "    pylab.yscale('log')\n",
        "    pylab.xlabel('Word Rank')\n",
        "    pylab.ylabel('Word Frequency')\n",
        "    pylab.show()\n"
      ],
      "metadata": {
        "id": "eFkHRnaHznxd"
      },
      "execution_count": 71,
      "outputs": []
    },
    {
      "cell_type": "code",
      "source": [
        "text = gutenberg.words('austen-persuasion.txt')\n",
        "plot_zipflaw(text)"
      ],
      "metadata": {
        "colab": {
          "base_uri": "https://localhost:8080/",
          "height": 460
        },
        "id": "_WBgHT-2z7HI",
        "outputId": "0c1a0509-69f4-4c06-fd93-e0e9b8137a4d"
      },
      "execution_count": 72,
      "outputs": [
        {
          "output_type": "display_data",
          "data": {
            "text/plain": [
              "<Figure size 640x480 with 1 Axes>"
            ],
            "image/png": "[encoded data removed]"
          },
          "metadata": {}
        }
      ]
    },
    {
      "cell_type": "markdown",
      "source": [
        "We can see clearly, the less word rank the higher the frequency of word, hence this proves Zipf's law."
      ],
      "metadata": {
        "id": "SCpVHI_1AyDX"
      }
    },
    {
      "cell_type": "code",
      "source": [
        "#b\n",
        "import random\n",
        "import string\n",
        "\n",
        "def random_text(length):\n",
        "    return ''.join(random.choice(string.ascii_lowercase + ' ') for _ in range(length))\n",
        "\n",
        "random_text = random_text(1000000)\n",
        "\n",
        "plot_zipflaw(random_text)"
      ],
      "metadata": {
        "colab": {
          "base_uri": "https://localhost:8080/",
          "height": 460
        },
        "id": "MXBQEie9ANVM",
        "outputId": "8207ddc4-ea19-4f75-c2a6-27a38fad5569"
      },
      "execution_count": 73,
      "outputs": [
        {
          "output_type": "display_data",
          "data": {
            "text/plain": [
              "<Figure size 640x480 with 1 Axes>"
            ],
            "image/png": "[encoded data removed]"
          },
          "metadata": {}
        }
      ]
    },
    {
      "cell_type": "markdown",
      "source": [
        "The plot of given seem to be more linear and uniform than compared to the random text."
      ],
      "metadata": {
        "id": "8jLkXnmQBIVA"
      }
    },
    {
      "cell_type": "markdown",
      "source": [
        "#24"
      ],
      "metadata": {
        "id": "P2GwnUJbZDec"
      }
    },
    {
      "cell_type": "code",
      "source": [
        "#a\n",
        "nltk.download('genesis')\n",
        "import random\n",
        "\n",
        "def generate_model(cfdist, word, num=15):\n",
        "    words = []\n",
        "    for i in range(num):\n",
        "        words.append(word)\n",
        "        word = random.choice(list(cfdist[word].keys()))\n",
        "    return ' '.join(words)\n",
        "\n",
        "text = nltk.corpus.genesis.words('english-kjv.txt')\n",
        "bigrams = nltk.bigrams(text)\n",
        "cfd = nltk.ConditionalFreqDist(bigrams)\n",
        "\n",
        "print(cfd['living'])\n",
        "print(generate_model(cfd,'living'))"
      ],
      "metadata": {
        "colab": {
          "base_uri": "https://localhost:8080/"
        },
        "id": "pqXdiGzwlnJu",
        "outputId": "dd6cb755-4da9-4bf8-9463-7466a1a47363"
      },
      "execution_count": 81,
      "outputs": [
        {
          "output_type": "stream",
          "name": "stdout",
          "text": [
            "<FreqDist with 6 samples and 16 outcomes>\n",
            "living creature that there in full of servan and Judah ; Seeing that the brook\n"
          ]
        },
        {
          "output_type": "stream",
          "name": "stderr",
          "text": [
            "[nltk_data] Downloading package genesis to /root/nltk_data...\n",
            "[nltk_data]   Package genesis is already up-to-date!\n"
          ]
        }
      ]
    },
    {
      "cell_type": "code",
      "source": [
        "#b\n",
        "random_text = generate_model(cfd, 'Man', num=50)\n",
        "print(random_text)"
      ],
      "metadata": {
        "colab": {
          "base_uri": "https://localhost:8080/"
        },
        "id": "zDaOpIe1mE_R",
        "outputId": "78ca37ce-6b08-4b51-fa2a-7c885e4f419e"
      },
      "execution_count": 20,
      "outputs": [
        {
          "output_type": "stream",
          "name": "stdout",
          "text": [
            "Man . All in her to mock us be opened our ' sons and arise after the shadow of Elam , which compasseth the dearth was good or foot in thy bondwoman and curse the heap , Joseph in , went . Leah also of good old a sojourner with\n"
          ]
        }
      ]
    },
    {
      "cell_type": "code",
      "source": [
        "random_text = generate_model(cfd, 'The', num=50)\n",
        "print(random_text)"
      ],
      "metadata": {
        "colab": {
          "base_uri": "https://localhost:8080/"
        },
        "id": "KAQPS7I8mT8G",
        "outputId": "de2a5293-37e5-41e3-d99f-1b20e47c72a1"
      },
      "execution_count": 21,
      "outputs": [
        {
          "output_type": "stream",
          "name": "stdout",
          "text": [
            "The Hebrew servant told Isaac sent a and fatfleshed ; Every moving thing ? separate thyself under his sword , For he looked , Thou art thou perfect . Therefore shall sow the increase , surely be of Assyria . Every moving thing which ye to bring you a servant\n"
          ]
        }
      ]
    },
    {
      "cell_type": "code",
      "source": [
        "random_text = generate_model(cfd, 'A', num=50)\n",
        "print(random_text)"
      ],
      "metadata": {
        "colab": {
          "base_uri": "https://localhost:8080/"
        },
        "id": "6kcp6H7MIIzG",
        "outputId": "ec625d83-88fe-40b8-9359-a3a11dab2e8f"
      },
      "execution_count": 82,
      "outputs": [
        {
          "output_type": "stream",
          "name": "stdout",
          "text": [
            "A troop cometh with food shall be meat , Tamar . Therefore shall neither hath found . Esau . If Cain was buried her ; lest ye a vine ; an archer . She said to cities , and Thahash , she cast the guard charged Joseph . Abram the\n"
          ]
        }
      ]
    },
    {
      "cell_type": "markdown",
      "source": [
        "With use of different start words, the random text changes. It becomes intelligible with the start words becoming common like articles as 'the', 'a', 'an'."
      ],
      "metadata": {
        "id": "Zl7K9NLXHTVM"
      }
    },
    {
      "cell_type": "code",
      "source": [
        "#c\n",
        "text1 = nltk.corpus.brown.words(categories='news')\n",
        "text2 = nltk.corpus.brown.words(categories='mystery')\n",
        "bigrams1 = nltk.bigrams(text1)\n",
        "bigrams2 = nltk.bigrams(text2)\n",
        "cfd1 = nltk.ConditionalFreqDist(bigrams1)\n",
        "cfd2 = nltk.ConditionalFreqDist(bigrams2)\n",
        "\n",
        "combined_cfd = {}\n",
        "for word in set(cfd1.conditions()).union(set(cfd2.conditions())):\n",
        "    combined_cfd[word] = cfd1[word] + cfd2[word]\n",
        "\n",
        "random_text_hybrid = generate_model(combined_cfd, 'The', num=50)\n",
        "print(random_text_hybrid)+"
      ],
      "metadata": {
        "colab": {
          "base_uri": "https://localhost:8080/"
        },
        "id": "-mCdxqxDmfMv",
        "outputId": "b3e602b1-7b16-45d9-d987-842e7a6ee7ed"
      },
      "execution_count": 22,
      "outputs": [
        {
          "output_type": "stream",
          "name": "stdout",
          "text": [
            "The Masters Palmer bounced hard worker on the captured invasion was grateful to every 1-1/2 minutes presented its executive order he hoped he followed it forced into at NATO's disposal '' of entries , pack the ghastly stupidity was clothed in government would `` And so don't swing them ,\n"
          ]
        }
      ]
    },
    {
      "cell_type": "markdown",
      "source": [
        "The text seems to be more readable in the hybrid genre."
      ],
      "metadata": {
        "id": "Zi-VpFHpITk3"
      }
    },
    {
      "cell_type": "markdown",
      "source": [
        "#25"
      ],
      "metadata": {
        "id": "OI5tTLQBZEfz"
      }
    },
    {
      "cell_type": "code",
      "source": [
        "nltk.download('udhr')\n",
        "from nltk.corpus import udhr\n",
        "\n",
        "def find_language(word):\n",
        "    latin_langs = [l for l in udhr.fileids() if l.endswith('Latin1')]\n",
        "    matches = []\n",
        "    for l in latin_langs:\n",
        "        if word in udhr.words(l):\n",
        "            matches.append(l[:-7])\n",
        "\n",
        "    return matches"
      ],
      "metadata": {
        "colab": {
          "base_uri": "https://localhost:8080/"
        },
        "id": "Evzi8yyVZKjT",
        "outputId": "87f46770-5287-4afe-802d-597ade4f833f"
      },
      "execution_count": 23,
      "outputs": [
        {
          "output_type": "stream",
          "name": "stderr",
          "text": [
            "[nltk_data] Downloading package udhr to /root/nltk_data...\n",
            "[nltk_data]   Unzipping corpora/udhr.zip.\n"
          ]
        }
      ]
    },
    {
      "cell_type": "code",
      "source": [
        "print(find_language('woman'), end = '')"
      ],
      "metadata": {
        "colab": {
          "base_uri": "https://localhost:8080/"
        },
        "id": "3AEWkpZVjo6q",
        "outputId": "56a9b2c6-84ef-4797-8563-782febebe52c"
      },
      "execution_count": 24,
      "outputs": [
        {
          "output_type": "stream",
          "name": "stdout",
          "text": [
            "['Bichelamar', 'NigerianPidginEnglish']"
          ]
        }
      ]
    },
    {
      "cell_type": "code",
      "source": [
        "print(find_language('children'), end = '')"
      ],
      "metadata": {
        "colab": {
          "base_uri": "https://localhost:8080/"
        },
        "id": "Qoq4NEB7jvBx",
        "outputId": "5d7a1d5f-df79-42ea-c006-692c95881a3d"
      },
      "execution_count": 25,
      "outputs": [
        {
          "output_type": "stream",
          "name": "stdout",
          "text": [
            "['English', 'NigerianPidginEnglish']"
          ]
        }
      ]
    }
  ]
}